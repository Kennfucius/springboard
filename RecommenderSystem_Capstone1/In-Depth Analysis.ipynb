{
 "cells": [
  {
   "cell_type": "markdown",
   "metadata": {},
   "source": [
    "# Capstone 1: Recommender System In-Depth Analysis"
   ]
  },
  {
   "cell_type": "markdown",
   "metadata": {},
   "source": [
    "#### Kenneth Liao\n",
    "\n",
    "Original datasource: https://datahack.analyticsvidhya.com/contest/practice-problem-recommendation-engine/#"
   ]
  },
  {
   "cell_type": "code",
   "execution_count": 119,
   "metadata": {},
   "outputs": [
    {
     "data": {
      "text/html": [
       "<script>requirejs.config({paths: { 'plotly': ['https://cdn.plot.ly/plotly-latest.min']},});if(!window.Plotly) {{require(['plotly'],function(plotly) {window.Plotly=plotly;});}}</script>"
      ],
      "text/vnd.plotly.v1+html": [
       "<script>requirejs.config({paths: { 'plotly': ['https://cdn.plot.ly/plotly-latest.min']},});if(!window.Plotly) {{require(['plotly'],function(plotly) {window.Plotly=plotly;});}}</script>"
      ]
     },
     "metadata": {},
     "output_type": "display_data"
    }
   ],
   "source": [
    "import pandas as pd\n",
    "import numpy as np\n",
    "import plotly.graph_objs as go\n",
    "from plotly.offline import download_plotlyjs, init_notebook_mode, plot, iplot\n",
    "import sklearn\n",
    "from sklearn.model_selection import train_test_split\n",
    "from sklearn.ensemble import RandomForestClassifier\n",
    "from sklearn.metrics import f1_score\n",
    "from sklearn.model_selection import GridSearchCV\n",
    "from sklearn.decomposition import PCA\n",
    "\n",
    "# enable offline plotting in plotly\n",
    "init_notebook_mode(connected=True)"
   ]
  },
  {
   "cell_type": "code",
   "execution_count": 120,
   "metadata": {},
   "outputs": [],
   "source": [
    "# load our 3 datasets\n",
    "users = pd.read_csv('data/user_features.csv')\n",
    "problems =  pd.read_csv('data/problem_features.csv')\n",
    "submissions = pd.read_csv('data/train_submissions.csv')"
   ]
  },
  {
   "cell_type": "markdown",
   "metadata": {},
   "source": [
    "## Background & Problem Statement "
   ]
  },
  {
   "cell_type": "markdown",
   "metadata": {},
   "source": [
    "Ultimately, our goal is to recommend practice problems to users given some information about the problems they have already solved. There are many criteria we could choose to base how we recommend problems. For the purpose of this model, I will keep the criteria simple. The criteria are as follows:\n",
    "\n",
    "1. The problem has not yet been attempted by the user.\n",
    "2. The predicted number of attempts the user will require to solve the problem is equal to 2 or 3.\n",
    "\n",
    "Given the criteria defined above, we must first be able to predict how many attempts a user will require to solve a problem they've never attempted before. I will perform this prediction using two very different models. \n",
    "\n",
    "The first model will be a Random Forest Classifier. For this model, I will use meta data available for users and problems. The goal is to find patterns in the user and problem features that predict well the number of attempts for a given user-problem combination.\n",
    "\n",
    "The second model will be a collaborative filtering model. This model will employ stochastic gradient descent (SGD) to find an approximate solution to the single value decomposition (SVD) of our user-problem matrix. In this case, we will not use any user or problem features. Predictions will be made exclusively using the history of users and problems solved."
   ]
  },
  {
   "cell_type": "markdown",
   "metadata": {},
   "source": [
    "Let's take a quick look at the submissions dataset. This dataset has 3 columns: user_id, problem_id, and attempts_range. Attempts_range gives the range of attempts that the user_id took to solve the problem_id and is defined in the original datasource as shown below."
   ]
  },
  {
   "cell_type": "code",
   "execution_count": 121,
   "metadata": {
    "scrolled": true
   },
   "outputs": [
    {
     "data": {
      "text/html": [
       "<div>\n",
       "<style>\n",
       "    .dataframe thead tr:only-child th {\n",
       "        text-align: right;\n",
       "    }\n",
       "\n",
       "    .dataframe thead th {\n",
       "        text-align: left;\n",
       "    }\n",
       "\n",
       "    .dataframe tbody tr th {\n",
       "        vertical-align: top;\n",
       "    }\n",
       "</style>\n",
       "<table border=\"1\" class=\"dataframe\">\n",
       "  <thead>\n",
       "    <tr style=\"text-align: right;\">\n",
       "      <th></th>\n",
       "      <th>user_id</th>\n",
       "      <th>problem_id</th>\n",
       "      <th>attempts_range</th>\n",
       "    </tr>\n",
       "  </thead>\n",
       "  <tbody>\n",
       "    <tr>\n",
       "      <th>0</th>\n",
       "      <td>user_232</td>\n",
       "      <td>prob_6507</td>\n",
       "      <td>1</td>\n",
       "    </tr>\n",
       "    <tr>\n",
       "      <th>1</th>\n",
       "      <td>user_3568</td>\n",
       "      <td>prob_2994</td>\n",
       "      <td>3</td>\n",
       "    </tr>\n",
       "    <tr>\n",
       "      <th>2</th>\n",
       "      <td>user_1600</td>\n",
       "      <td>prob_5071</td>\n",
       "      <td>1</td>\n",
       "    </tr>\n",
       "    <tr>\n",
       "      <th>3</th>\n",
       "      <td>user_2256</td>\n",
       "      <td>prob_703</td>\n",
       "      <td>1</td>\n",
       "    </tr>\n",
       "    <tr>\n",
       "      <th>4</th>\n",
       "      <td>user_2321</td>\n",
       "      <td>prob_356</td>\n",
       "      <td>1</td>\n",
       "    </tr>\n",
       "  </tbody>\n",
       "</table>\n",
       "</div>"
      ],
      "text/plain": [
       "     user_id problem_id  attempts_range\n",
       "0   user_232  prob_6507               1\n",
       "1  user_3568  prob_2994               3\n",
       "2  user_1600  prob_5071               1\n",
       "3  user_2256   prob_703               1\n",
       "4  user_2321   prob_356               1"
      ]
     },
     "execution_count": 121,
     "metadata": {},
     "output_type": "execute_result"
    }
   ],
   "source": [
    "submissions.head()"
   ]
  },
  {
   "cell_type": "markdown",
   "metadata": {},
   "source": [
    ">We have used following criteria to define the attempts_range :-\n",
    ">\n",
    ">            attempts_range            No. of attempts lies inside\n",
    ">\n",
    ">            1                                         1-1\n",
    ">\n",
    ">            2                                         2-3\n",
    ">\n",
    ">            3                                         4-5\n",
    ">\n",
    ">            4                                         6-7\n",
    ">\n",
    ">            5                                         8-9\n",
    ">\n",
    ">            6                                         >=10"
   ]
  },
  {
   "cell_type": "markdown",
   "metadata": {},
   "source": [
    "## Random Forest Model"
   ]
  },
  {
   "cell_type": "markdown",
   "metadata": {},
   "source": [
    "### Preparing data for random forest "
   ]
  },
  {
   "cell_type": "markdown",
   "metadata": {},
   "source": [
    "The first thing we need to do to prepare the data for the random forest model is convert categorical, string columns into dummy variables. We do this for both the user and problem features."
   ]
  },
  {
   "cell_type": "code",
   "execution_count": 122,
   "metadata": {
    "scrolled": true
   },
   "outputs": [
    {
     "data": {
      "text/html": [
       "<div>\n",
       "<style>\n",
       "    .dataframe thead tr:only-child th {\n",
       "        text-align: right;\n",
       "    }\n",
       "\n",
       "    .dataframe thead th {\n",
       "        text-align: left;\n",
       "    }\n",
       "\n",
       "    .dataframe tbody tr th {\n",
       "        vertical-align: top;\n",
       "    }\n",
       "</style>\n",
       "<table border=\"1\" class=\"dataframe\">\n",
       "  <thead>\n",
       "    <tr style=\"text-align: right;\">\n",
       "      <th></th>\n",
       "      <th>user_id</th>\n",
       "      <th>submission_count</th>\n",
       "      <th>problem_solved</th>\n",
       "      <th>contribution</th>\n",
       "      <th>follower_count</th>\n",
       "      <th>last_online_time_seconds</th>\n",
       "      <th>max_rating</th>\n",
       "      <th>rating</th>\n",
       "      <th>registration_time_seconds</th>\n",
       "      <th>user_attempts_median</th>\n",
       "      <th>...</th>\n",
       "      <th>country_Ukraine</th>\n",
       "      <th>country_United Kingdom</th>\n",
       "      <th>country_United States</th>\n",
       "      <th>country_Uzbekistan</th>\n",
       "      <th>country_Venezuela</th>\n",
       "      <th>country_Vietnam</th>\n",
       "      <th>rank_advanced</th>\n",
       "      <th>rank_beginner</th>\n",
       "      <th>rank_expert</th>\n",
       "      <th>rank_intermediate</th>\n",
       "    </tr>\n",
       "  </thead>\n",
       "  <tbody>\n",
       "    <tr>\n",
       "      <th>0</th>\n",
       "      <td>user_1</td>\n",
       "      <td>84</td>\n",
       "      <td>73</td>\n",
       "      <td>10</td>\n",
       "      <td>120</td>\n",
       "      <td>1505162220</td>\n",
       "      <td>502.007</td>\n",
       "      <td>499.713</td>\n",
       "      <td>1469108674</td>\n",
       "      <td>1.0</td>\n",
       "      <td>...</td>\n",
       "      <td>0</td>\n",
       "      <td>0</td>\n",
       "      <td>0</td>\n",
       "      <td>0</td>\n",
       "      <td>0</td>\n",
       "      <td>0</td>\n",
       "      <td>1</td>\n",
       "      <td>0</td>\n",
       "      <td>0</td>\n",
       "      <td>0</td>\n",
       "    </tr>\n",
       "    <tr>\n",
       "      <th>1</th>\n",
       "      <td>user_10</td>\n",
       "      <td>246</td>\n",
       "      <td>211</td>\n",
       "      <td>0</td>\n",
       "      <td>30</td>\n",
       "      <td>1505079658</td>\n",
       "      <td>326.548</td>\n",
       "      <td>313.360</td>\n",
       "      <td>1472038187</td>\n",
       "      <td>1.0</td>\n",
       "      <td>...</td>\n",
       "      <td>0</td>\n",
       "      <td>0</td>\n",
       "      <td>0</td>\n",
       "      <td>0</td>\n",
       "      <td>0</td>\n",
       "      <td>0</td>\n",
       "      <td>0</td>\n",
       "      <td>0</td>\n",
       "      <td>0</td>\n",
       "      <td>1</td>\n",
       "    </tr>\n",
       "    <tr>\n",
       "      <th>2</th>\n",
       "      <td>user_100</td>\n",
       "      <td>642</td>\n",
       "      <td>574</td>\n",
       "      <td>27</td>\n",
       "      <td>106</td>\n",
       "      <td>1505073569</td>\n",
       "      <td>458.429</td>\n",
       "      <td>385.894</td>\n",
       "      <td>1323974332</td>\n",
       "      <td>1.0</td>\n",
       "      <td>...</td>\n",
       "      <td>0</td>\n",
       "      <td>0</td>\n",
       "      <td>0</td>\n",
       "      <td>0</td>\n",
       "      <td>0</td>\n",
       "      <td>0</td>\n",
       "      <td>0</td>\n",
       "      <td>0</td>\n",
       "      <td>0</td>\n",
       "      <td>1</td>\n",
       "    </tr>\n",
       "    <tr>\n",
       "      <th>3</th>\n",
       "      <td>user_1000</td>\n",
       "      <td>259</td>\n",
       "      <td>235</td>\n",
       "      <td>0</td>\n",
       "      <td>41</td>\n",
       "      <td>1505579889</td>\n",
       "      <td>371.273</td>\n",
       "      <td>336.583</td>\n",
       "      <td>1450375392</td>\n",
       "      <td>1.0</td>\n",
       "      <td>...</td>\n",
       "      <td>0</td>\n",
       "      <td>0</td>\n",
       "      <td>0</td>\n",
       "      <td>0</td>\n",
       "      <td>0</td>\n",
       "      <td>0</td>\n",
       "      <td>0</td>\n",
       "      <td>0</td>\n",
       "      <td>0</td>\n",
       "      <td>1</td>\n",
       "    </tr>\n",
       "    <tr>\n",
       "      <th>4</th>\n",
       "      <td>user_1001</td>\n",
       "      <td>554</td>\n",
       "      <td>492</td>\n",
       "      <td>-6</td>\n",
       "      <td>55</td>\n",
       "      <td>1504521879</td>\n",
       "      <td>472.190</td>\n",
       "      <td>450.975</td>\n",
       "      <td>1423399585</td>\n",
       "      <td>1.0</td>\n",
       "      <td>...</td>\n",
       "      <td>0</td>\n",
       "      <td>0</td>\n",
       "      <td>0</td>\n",
       "      <td>0</td>\n",
       "      <td>0</td>\n",
       "      <td>0</td>\n",
       "      <td>0</td>\n",
       "      <td>0</td>\n",
       "      <td>0</td>\n",
       "      <td>1</td>\n",
       "    </tr>\n",
       "  </tbody>\n",
       "</table>\n",
       "<p>5 rows × 98 columns</p>\n",
       "</div>"
      ],
      "text/plain": [
       "     user_id  submission_count  problem_solved  contribution  follower_count  \\\n",
       "0     user_1                84              73            10             120   \n",
       "1    user_10               246             211             0              30   \n",
       "2   user_100               642             574            27             106   \n",
       "3  user_1000               259             235             0              41   \n",
       "4  user_1001               554             492            -6              55   \n",
       "\n",
       "   last_online_time_seconds  max_rating   rating  registration_time_seconds  \\\n",
       "0                1505162220     502.007  499.713                 1469108674   \n",
       "1                1505079658     326.548  313.360                 1472038187   \n",
       "2                1505073569     458.429  385.894                 1323974332   \n",
       "3                1505579889     371.273  336.583                 1450375392   \n",
       "4                1504521879     472.190  450.975                 1423399585   \n",
       "\n",
       "   user_attempts_median        ...          country_Ukraine  \\\n",
       "0                   1.0        ...                        0   \n",
       "1                   1.0        ...                        0   \n",
       "2                   1.0        ...                        0   \n",
       "3                   1.0        ...                        0   \n",
       "4                   1.0        ...                        0   \n",
       "\n",
       "   country_United Kingdom  country_United States  country_Uzbekistan  \\\n",
       "0                       0                      0                   0   \n",
       "1                       0                      0                   0   \n",
       "2                       0                      0                   0   \n",
       "3                       0                      0                   0   \n",
       "4                       0                      0                   0   \n",
       "\n",
       "   country_Venezuela  country_Vietnam  rank_advanced  rank_beginner  \\\n",
       "0                  0                0              1              0   \n",
       "1                  0                0              0              0   \n",
       "2                  0                0              0              0   \n",
       "3                  0                0              0              0   \n",
       "4                  0                0              0              0   \n",
       "\n",
       "   rank_expert  rank_intermediate  \n",
       "0            0                  0  \n",
       "1            0                  1  \n",
       "2            0                  1  \n",
       "3            0                  1  \n",
       "4            0                  1  \n",
       "\n",
       "[5 rows x 98 columns]"
      ]
     },
     "execution_count": 122,
     "metadata": {},
     "output_type": "execute_result"
    }
   ],
   "source": [
    "users = pd.get_dummies(users.set_index('user_id')).reset_index()\n",
    "users.head()"
   ]
  },
  {
   "cell_type": "code",
   "execution_count": 123,
   "metadata": {},
   "outputs": [
    {
     "data": {
      "text/html": [
       "<div>\n",
       "<style>\n",
       "    .dataframe thead tr:only-child th {\n",
       "        text-align: right;\n",
       "    }\n",
       "\n",
       "    .dataframe thead th {\n",
       "        text-align: left;\n",
       "    }\n",
       "\n",
       "    .dataframe tbody tr th {\n",
       "        vertical-align: top;\n",
       "    }\n",
       "</style>\n",
       "<table border=\"1\" class=\"dataframe\">\n",
       "  <thead>\n",
       "    <tr style=\"text-align: right;\">\n",
       "      <th></th>\n",
       "      <th>problem_id</th>\n",
       "      <th>points</th>\n",
       "      <th>problem_attempts_median</th>\n",
       "      <th>problem_attempts_min</th>\n",
       "      <th>problem_attempts_max</th>\n",
       "      <th>problem_attempts_count</th>\n",
       "      <th>problem_attempts_iqr</th>\n",
       "      <th>algorithms</th>\n",
       "      <th>and</th>\n",
       "      <th>binary</th>\n",
       "      <th>...</th>\n",
       "      <th>level_type_E</th>\n",
       "      <th>level_type_F</th>\n",
       "      <th>level_type_G</th>\n",
       "      <th>level_type_H</th>\n",
       "      <th>level_type_I</th>\n",
       "      <th>level_type_J</th>\n",
       "      <th>level_type_K</th>\n",
       "      <th>level_type_L</th>\n",
       "      <th>level_type_M</th>\n",
       "      <th>level_type_N</th>\n",
       "    </tr>\n",
       "  </thead>\n",
       "  <tbody>\n",
       "    <tr>\n",
       "      <th>0</th>\n",
       "      <td>prob_1</td>\n",
       "      <td>500.0</td>\n",
       "      <td>1.5</td>\n",
       "      <td>1.0</td>\n",
       "      <td>2.0</td>\n",
       "      <td>2.0</td>\n",
       "      <td>0.005</td>\n",
       "      <td>0</td>\n",
       "      <td>0</td>\n",
       "      <td>0</td>\n",
       "      <td>...</td>\n",
       "      <td>0</td>\n",
       "      <td>0</td>\n",
       "      <td>0</td>\n",
       "      <td>0</td>\n",
       "      <td>0</td>\n",
       "      <td>0</td>\n",
       "      <td>0</td>\n",
       "      <td>0</td>\n",
       "      <td>0</td>\n",
       "      <td>0</td>\n",
       "    </tr>\n",
       "    <tr>\n",
       "      <th>1</th>\n",
       "      <td>prob_10</td>\n",
       "      <td>4500.0</td>\n",
       "      <td>6.0</td>\n",
       "      <td>6.0</td>\n",
       "      <td>6.0</td>\n",
       "      <td>1.0</td>\n",
       "      <td>0.000</td>\n",
       "      <td>0</td>\n",
       "      <td>0</td>\n",
       "      <td>0</td>\n",
       "      <td>...</td>\n",
       "      <td>0</td>\n",
       "      <td>0</td>\n",
       "      <td>0</td>\n",
       "      <td>0</td>\n",
       "      <td>1</td>\n",
       "      <td>0</td>\n",
       "      <td>0</td>\n",
       "      <td>0</td>\n",
       "      <td>0</td>\n",
       "      <td>0</td>\n",
       "    </tr>\n",
       "    <tr>\n",
       "      <th>2</th>\n",
       "      <td>prob_100</td>\n",
       "      <td>1000.0</td>\n",
       "      <td>1.0</td>\n",
       "      <td>1.0</td>\n",
       "      <td>1.0</td>\n",
       "      <td>1.0</td>\n",
       "      <td>0.000</td>\n",
       "      <td>0</td>\n",
       "      <td>0</td>\n",
       "      <td>0</td>\n",
       "      <td>...</td>\n",
       "      <td>0</td>\n",
       "      <td>0</td>\n",
       "      <td>0</td>\n",
       "      <td>0</td>\n",
       "      <td>0</td>\n",
       "      <td>0</td>\n",
       "      <td>0</td>\n",
       "      <td>0</td>\n",
       "      <td>0</td>\n",
       "      <td>0</td>\n",
       "    </tr>\n",
       "    <tr>\n",
       "      <th>3</th>\n",
       "      <td>prob_1000</td>\n",
       "      <td>500.0</td>\n",
       "      <td>1.0</td>\n",
       "      <td>1.0</td>\n",
       "      <td>6.0</td>\n",
       "      <td>246.0</td>\n",
       "      <td>0.000</td>\n",
       "      <td>0</td>\n",
       "      <td>0</td>\n",
       "      <td>0</td>\n",
       "      <td>...</td>\n",
       "      <td>0</td>\n",
       "      <td>0</td>\n",
       "      <td>0</td>\n",
       "      <td>0</td>\n",
       "      <td>0</td>\n",
       "      <td>0</td>\n",
       "      <td>0</td>\n",
       "      <td>0</td>\n",
       "      <td>0</td>\n",
       "      <td>0</td>\n",
       "    </tr>\n",
       "    <tr>\n",
       "      <th>4</th>\n",
       "      <td>prob_1001</td>\n",
       "      <td>2000.0</td>\n",
       "      <td>1.0</td>\n",
       "      <td>1.0</td>\n",
       "      <td>2.0</td>\n",
       "      <td>10.0</td>\n",
       "      <td>0.000</td>\n",
       "      <td>0</td>\n",
       "      <td>0</td>\n",
       "      <td>0</td>\n",
       "      <td>...</td>\n",
       "      <td>0</td>\n",
       "      <td>0</td>\n",
       "      <td>0</td>\n",
       "      <td>0</td>\n",
       "      <td>0</td>\n",
       "      <td>0</td>\n",
       "      <td>0</td>\n",
       "      <td>0</td>\n",
       "      <td>0</td>\n",
       "      <td>0</td>\n",
       "    </tr>\n",
       "  </tbody>\n",
       "</table>\n",
       "<p>5 rows × 76 columns</p>\n",
       "</div>"
      ],
      "text/plain": [
       "  problem_id  points  problem_attempts_median  problem_attempts_min  \\\n",
       "0     prob_1   500.0                      1.5                   1.0   \n",
       "1    prob_10  4500.0                      6.0                   6.0   \n",
       "2   prob_100  1000.0                      1.0                   1.0   \n",
       "3  prob_1000   500.0                      1.0                   1.0   \n",
       "4  prob_1001  2000.0                      1.0                   1.0   \n",
       "\n",
       "   problem_attempts_max  problem_attempts_count  problem_attempts_iqr  \\\n",
       "0                   2.0                     2.0                 0.005   \n",
       "1                   6.0                     1.0                 0.000   \n",
       "2                   1.0                     1.0                 0.000   \n",
       "3                   6.0                   246.0                 0.000   \n",
       "4                   2.0                    10.0                 0.000   \n",
       "\n",
       "   algorithms  and  binary      ...       level_type_E  level_type_F  \\\n",
       "0           0    0       0      ...                  0             0   \n",
       "1           0    0       0      ...                  0             0   \n",
       "2           0    0       0      ...                  0             0   \n",
       "3           0    0       0      ...                  0             0   \n",
       "4           0    0       0      ...                  0             0   \n",
       "\n",
       "   level_type_G  level_type_H  level_type_I  level_type_J  level_type_K  \\\n",
       "0             0             0             0             0             0   \n",
       "1             0             0             1             0             0   \n",
       "2             0             0             0             0             0   \n",
       "3             0             0             0             0             0   \n",
       "4             0             0             0             0             0   \n",
       "\n",
       "   level_type_L  level_type_M  level_type_N  \n",
       "0             0             0             0  \n",
       "1             0             0             0  \n",
       "2             0             0             0  \n",
       "3             0             0             0  \n",
       "4             0             0             0  \n",
       "\n",
       "[5 rows x 76 columns]"
      ]
     },
     "execution_count": 123,
     "metadata": {},
     "output_type": "execute_result"
    }
   ],
   "source": [
    "problems = pd.get_dummies(problems.set_index('problem_id')).reset_index()\n",
    "problems.head()"
   ]
  },
  {
   "cell_type": "markdown",
   "metadata": {},
   "source": [
    "Next, we will prepare a single dataframe that joins the user and problem features with the submissions data."
   ]
  },
  {
   "cell_type": "code",
   "execution_count": 205,
   "metadata": {},
   "outputs": [
    {
     "data": {
      "text/html": [
       "<div>\n",
       "<style>\n",
       "    .dataframe thead tr:only-child th {\n",
       "        text-align: right;\n",
       "    }\n",
       "\n",
       "    .dataframe thead th {\n",
       "        text-align: left;\n",
       "    }\n",
       "\n",
       "    .dataframe tbody tr th {\n",
       "        vertical-align: top;\n",
       "    }\n",
       "</style>\n",
       "<table border=\"1\" class=\"dataframe\">\n",
       "  <thead>\n",
       "    <tr style=\"text-align: right;\">\n",
       "      <th></th>\n",
       "      <th></th>\n",
       "      <th>submission_count</th>\n",
       "      <th>problem_solved</th>\n",
       "      <th>contribution</th>\n",
       "      <th>follower_count</th>\n",
       "      <th>last_online_time_seconds</th>\n",
       "      <th>max_rating</th>\n",
       "      <th>rating</th>\n",
       "      <th>registration_time_seconds</th>\n",
       "      <th>user_attempts_median</th>\n",
       "      <th>user_attempts_min</th>\n",
       "      <th>...</th>\n",
       "      <th>level_type_E</th>\n",
       "      <th>level_type_F</th>\n",
       "      <th>level_type_G</th>\n",
       "      <th>level_type_H</th>\n",
       "      <th>level_type_I</th>\n",
       "      <th>level_type_J</th>\n",
       "      <th>level_type_K</th>\n",
       "      <th>level_type_L</th>\n",
       "      <th>level_type_M</th>\n",
       "      <th>level_type_N</th>\n",
       "    </tr>\n",
       "    <tr>\n",
       "      <th>user_id</th>\n",
       "      <th>problem_id</th>\n",
       "      <th></th>\n",
       "      <th></th>\n",
       "      <th></th>\n",
       "      <th></th>\n",
       "      <th></th>\n",
       "      <th></th>\n",
       "      <th></th>\n",
       "      <th></th>\n",
       "      <th></th>\n",
       "      <th></th>\n",
       "      <th></th>\n",
       "      <th></th>\n",
       "      <th></th>\n",
       "      <th></th>\n",
       "      <th></th>\n",
       "      <th></th>\n",
       "      <th></th>\n",
       "      <th></th>\n",
       "      <th></th>\n",
       "      <th></th>\n",
       "      <th></th>\n",
       "    </tr>\n",
       "  </thead>\n",
       "  <tbody>\n",
       "    <tr>\n",
       "      <th>user_232</th>\n",
       "      <th>prob_6507</th>\n",
       "      <td>53</td>\n",
       "      <td>47</td>\n",
       "      <td>0</td>\n",
       "      <td>1</td>\n",
       "      <td>1503633778</td>\n",
       "      <td>307.913</td>\n",
       "      <td>206.709</td>\n",
       "      <td>1432110935</td>\n",
       "      <td>2.0</td>\n",
       "      <td>1.0</td>\n",
       "      <td>...</td>\n",
       "      <td>0</td>\n",
       "      <td>0</td>\n",
       "      <td>0</td>\n",
       "      <td>0</td>\n",
       "      <td>0</td>\n",
       "      <td>0</td>\n",
       "      <td>0</td>\n",
       "      <td>0</td>\n",
       "      <td>0</td>\n",
       "      <td>0</td>\n",
       "    </tr>\n",
       "    <tr>\n",
       "      <th>user_1910</th>\n",
       "      <th>prob_6507</th>\n",
       "      <td>240</td>\n",
       "      <td>218</td>\n",
       "      <td>0</td>\n",
       "      <td>50</td>\n",
       "      <td>1505252563</td>\n",
       "      <td>319.954</td>\n",
       "      <td>291.284</td>\n",
       "      <td>1385471472</td>\n",
       "      <td>1.0</td>\n",
       "      <td>1.0</td>\n",
       "      <td>...</td>\n",
       "      <td>0</td>\n",
       "      <td>0</td>\n",
       "      <td>0</td>\n",
       "      <td>0</td>\n",
       "      <td>0</td>\n",
       "      <td>0</td>\n",
       "      <td>0</td>\n",
       "      <td>0</td>\n",
       "      <td>0</td>\n",
       "      <td>0</td>\n",
       "    </tr>\n",
       "    <tr>\n",
       "      <th>user_1824</th>\n",
       "      <th>prob_6507</th>\n",
       "      <td>370</td>\n",
       "      <td>336</td>\n",
       "      <td>-10</td>\n",
       "      <td>30</td>\n",
       "      <td>1505395587</td>\n",
       "      <td>307.339</td>\n",
       "      <td>295.585</td>\n",
       "      <td>1471685215</td>\n",
       "      <td>1.0</td>\n",
       "      <td>1.0</td>\n",
       "      <td>...</td>\n",
       "      <td>0</td>\n",
       "      <td>0</td>\n",
       "      <td>0</td>\n",
       "      <td>0</td>\n",
       "      <td>0</td>\n",
       "      <td>0</td>\n",
       "      <td>0</td>\n",
       "      <td>0</td>\n",
       "      <td>0</td>\n",
       "      <td>0</td>\n",
       "    </tr>\n",
       "    <tr>\n",
       "      <th>user_895</th>\n",
       "      <th>prob_6507</th>\n",
       "      <td>318</td>\n",
       "      <td>286</td>\n",
       "      <td>0</td>\n",
       "      <td>20</td>\n",
       "      <td>1505511056</td>\n",
       "      <td>304.186</td>\n",
       "      <td>191.514</td>\n",
       "      <td>1475529522</td>\n",
       "      <td>2.0</td>\n",
       "      <td>1.0</td>\n",
       "      <td>...</td>\n",
       "      <td>0</td>\n",
       "      <td>0</td>\n",
       "      <td>0</td>\n",
       "      <td>0</td>\n",
       "      <td>0</td>\n",
       "      <td>0</td>\n",
       "      <td>0</td>\n",
       "      <td>0</td>\n",
       "      <td>0</td>\n",
       "      <td>0</td>\n",
       "    </tr>\n",
       "    <tr>\n",
       "      <th>user_779</th>\n",
       "      <th>prob_6507</th>\n",
       "      <td>463</td>\n",
       "      <td>410</td>\n",
       "      <td>0</td>\n",
       "      <td>39</td>\n",
       "      <td>1504799078</td>\n",
       "      <td>374.713</td>\n",
       "      <td>374.713</td>\n",
       "      <td>1437245990</td>\n",
       "      <td>1.0</td>\n",
       "      <td>1.0</td>\n",
       "      <td>...</td>\n",
       "      <td>0</td>\n",
       "      <td>0</td>\n",
       "      <td>0</td>\n",
       "      <td>0</td>\n",
       "      <td>0</td>\n",
       "      <td>0</td>\n",
       "      <td>0</td>\n",
       "      <td>0</td>\n",
       "      <td>0</td>\n",
       "      <td>0</td>\n",
       "    </tr>\n",
       "  </tbody>\n",
       "</table>\n",
       "<p>5 rows × 171 columns</p>\n",
       "</div>"
      ],
      "text/plain": [
       "                      submission_count  problem_solved  contribution  \\\n",
       "user_id   problem_id                                                   \n",
       "user_232  prob_6507                 53              47             0   \n",
       "user_1910 prob_6507                240             218             0   \n",
       "user_1824 prob_6507                370             336           -10   \n",
       "user_895  prob_6507                318             286             0   \n",
       "user_779  prob_6507                463             410             0   \n",
       "\n",
       "                      follower_count  last_online_time_seconds  max_rating  \\\n",
       "user_id   problem_id                                                         \n",
       "user_232  prob_6507                1                1503633778     307.913   \n",
       "user_1910 prob_6507               50                1505252563     319.954   \n",
       "user_1824 prob_6507               30                1505395587     307.339   \n",
       "user_895  prob_6507               20                1505511056     304.186   \n",
       "user_779  prob_6507               39                1504799078     374.713   \n",
       "\n",
       "                       rating  registration_time_seconds  \\\n",
       "user_id   problem_id                                       \n",
       "user_232  prob_6507   206.709                 1432110935   \n",
       "user_1910 prob_6507   291.284                 1385471472   \n",
       "user_1824 prob_6507   295.585                 1471685215   \n",
       "user_895  prob_6507   191.514                 1475529522   \n",
       "user_779  prob_6507   374.713                 1437245990   \n",
       "\n",
       "                      user_attempts_median  user_attempts_min      ...       \\\n",
       "user_id   problem_id                                               ...        \n",
       "user_232  prob_6507                    2.0                1.0      ...        \n",
       "user_1910 prob_6507                    1.0                1.0      ...        \n",
       "user_1824 prob_6507                    1.0                1.0      ...        \n",
       "user_895  prob_6507                    2.0                1.0      ...        \n",
       "user_779  prob_6507                    1.0                1.0      ...        \n",
       "\n",
       "                      level_type_E  level_type_F  level_type_G  level_type_H  \\\n",
       "user_id   problem_id                                                           \n",
       "user_232  prob_6507              0             0             0             0   \n",
       "user_1910 prob_6507              0             0             0             0   \n",
       "user_1824 prob_6507              0             0             0             0   \n",
       "user_895  prob_6507              0             0             0             0   \n",
       "user_779  prob_6507              0             0             0             0   \n",
       "\n",
       "                      level_type_I  level_type_J  level_type_K  level_type_L  \\\n",
       "user_id   problem_id                                                           \n",
       "user_232  prob_6507              0             0             0             0   \n",
       "user_1910 prob_6507              0             0             0             0   \n",
       "user_1824 prob_6507              0             0             0             0   \n",
       "user_895  prob_6507              0             0             0             0   \n",
       "user_779  prob_6507              0             0             0             0   \n",
       "\n",
       "                      level_type_M  level_type_N  \n",
       "user_id   problem_id                              \n",
       "user_232  prob_6507              0             0  \n",
       "user_1910 prob_6507              0             0  \n",
       "user_1824 prob_6507              0             0  \n",
       "user_895  prob_6507              0             0  \n",
       "user_779  prob_6507              0             0  \n",
       "\n",
       "[5 rows x 171 columns]"
      ]
     },
     "execution_count": 205,
     "metadata": {},
     "output_type": "execute_result"
    }
   ],
   "source": [
    "X = submissions.merge(users, on='user_id').merge(problems, on='problem_id')\n",
    "\n",
    "# remove rows with any null values\n",
    "X = X.loc[:,X.notnull().all()]\n",
    "\n",
    "y = X.set_index(['user_id', 'problem_id'])['attempts_range']\n",
    "X = X.set_index(['user_id', 'problem_id']).loc[:,'submission_count':]\n",
    "\n",
    "X.head()"
   ]
  },
  {
   "cell_type": "code",
   "execution_count": 206,
   "metadata": {},
   "outputs": [
    {
     "data": {
      "text/plain": [
       "user_id    problem_id\n",
       "user_232   prob_6507     1\n",
       "user_1910  prob_6507     2\n",
       "user_1824  prob_6507     2\n",
       "user_895   prob_6507     1\n",
       "user_779   prob_6507     1\n",
       "Name: attempts_range, dtype: int64"
      ]
     },
     "execution_count": 206,
     "metadata": {},
     "output_type": "execute_result"
    }
   ],
   "source": [
    "y.head()"
   ]
  },
  {
   "cell_type": "markdown",
   "metadata": {},
   "source": [
    "Dataframe X now contains all of the user and problem feature data for each combination of user_id and problem_id. Thus, for each training sample or row, we will use the combination of user and problem features to predict the attempts_range. The attempts_range for each user-problem combination is saved in y."
   ]
  },
  {
   "cell_type": "markdown",
   "metadata": {},
   "source": [
    "Next, we'll split the data into train and test sets."
   ]
  },
  {
   "cell_type": "code",
   "execution_count": 207,
   "metadata": {},
   "outputs": [],
   "source": [
    "X_train, X_test, y_train, y_test = train_test_split(X, y, test_size=0.33, random_state=42)"
   ]
  },
  {
   "cell_type": "markdown",
   "metadata": {},
   "source": [
    "### Training"
   ]
  },
  {
   "cell_type": "markdown",
   "metadata": {},
   "source": [
    "We will start by building a baseline, out-of-box model and try to improve it from there."
   ]
  },
  {
   "cell_type": "markdown",
   "metadata": {},
   "source": [
    "#### Baseline model"
   ]
  },
  {
   "cell_type": "code",
   "execution_count": 9,
   "metadata": {},
   "outputs": [
    {
     "data": {
      "text/plain": [
       "RandomForestClassifier(bootstrap=True, class_weight=None, criterion='gini',\n",
       "            max_depth=None, max_features='auto', max_leaf_nodes=None,\n",
       "            min_impurity_decrease=0.0, min_impurity_split=None,\n",
       "            min_samples_leaf=1, min_samples_split=2,\n",
       "            min_weight_fraction_leaf=0.0, n_estimators=10, n_jobs=-1,\n",
       "            oob_score=False, random_state=None, verbose=0,\n",
       "            warm_start=False)"
      ]
     },
     "execution_count": 9,
     "metadata": {},
     "output_type": "execute_result"
    }
   ],
   "source": [
    "clf = RandomForestClassifier(n_jobs=-1)\n",
    "\n",
    "clf.fit(X_train, y_train)"
   ]
  },
  {
   "cell_type": "code",
   "execution_count": 10,
   "metadata": {},
   "outputs": [
    {
     "data": {
      "text/plain": [
       "0.5041225226063352"
      ]
     },
     "execution_count": 10,
     "metadata": {},
     "output_type": "execute_result"
    }
   ],
   "source": [
    "y_pred = clf.predict(X_test)\n",
    "\n",
    "f1_score(y_test, y_pred, average='weighted')"
   ]
  },
  {
   "cell_type": "markdown",
   "metadata": {},
   "source": [
    "The baseline model produces an f1_score of 0.5. This is far from 1. During my exploratory analysis of the data, it was clear that many features were correlated with one another. Before diving into model optimization through hyperparameter tuning, I want to see if removing some of this colinearity between features improves the model's performance."
   ]
  },
  {
   "cell_type": "markdown",
   "metadata": {},
   "source": [
    "#### Dimensionality Reduction"
   ]
  },
  {
   "cell_type": "markdown",
   "metadata": {},
   "source": [
    "Let's start by performing PCA on the full dataset to see how many features we can safely remove. Performing PCA on the full dataset has two benefits.\n",
    "\n",
    "1. The dimensionality of the training data is reduced and therefore takes less computation to train the model on.\n",
    "2. Colinear features are removed. The principal components returned by PCA are all orthogonal."
   ]
  },
  {
   "cell_type": "code",
   "execution_count": 175,
   "metadata": {
    "scrolled": false
   },
   "outputs": [
    {
     "data": {
      "application/vnd.plotly.v1+json": {
       "data": [
        {
         "mode": "lines+markers",
         "type": "scatter",
         "uid": "a2b7bdba-a681-11e9-a419-28c63f3df6d4",
         "x": [
          1,
          2,
          3,
          4,
          5,
          6,
          7,
          8,
          9,
          10,
          11,
          12,
          13,
          14,
          15,
          16,
          17,
          18,
          19,
          20,
          21,
          22,
          23,
          24,
          25,
          26,
          27,
          28,
          29,
          30,
          31,
          32,
          33,
          34,
          35,
          36,
          37,
          38,
          39,
          40,
          41,
          42,
          43,
          44,
          45,
          46,
          47,
          48,
          49,
          50,
          51,
          52,
          53,
          54,
          55,
          56,
          57,
          58,
          59,
          60,
          61,
          62,
          63,
          64,
          65,
          66,
          67,
          68,
          69,
          70,
          71,
          72,
          73,
          74,
          75,
          76,
          77,
          78,
          79,
          80,
          81,
          82,
          83,
          84,
          85,
          86,
          87,
          88,
          89,
          90,
          91,
          92,
          93,
          94,
          95,
          96,
          97,
          98,
          99,
          100,
          101,
          102,
          103,
          104,
          105,
          106,
          107,
          108,
          109,
          110,
          111,
          112,
          113,
          114,
          115,
          116,
          117,
          118,
          119,
          120,
          121,
          122,
          123,
          124,
          125,
          126,
          127,
          128,
          129,
          130,
          131,
          132,
          133,
          134,
          135,
          136,
          137,
          138,
          139,
          140,
          141,
          142,
          143,
          144,
          145,
          146,
          147,
          148,
          149,
          150,
          151,
          152,
          153,
          154,
          155,
          156,
          157,
          158,
          159,
          160,
          161,
          162,
          163,
          164,
          165,
          166,
          167,
          168,
          169,
          170,
          171
         ],
         "y": [
          2534025422614846,
          14957182942941.586,
          223545.95541395637,
          58385.09325025936,
          45237.866759350545,
          11650.65554383234,
          582.2112950155166,
          306.93936983497196,
          214.8248217334193,
          201.92286203640947,
          1.5971576603122306,
          1.0137852493477701,
          0.37458495682479676,
          0.31966011581031867,
          0.2924277776728564,
          0.2800167413852598,
          0.24989271660314347,
          0.2181482339077213,
          0.214986086102806,
          0.20084042253450926,
          0.18043697312005783,
          0.17743271226403998,
          0.15249266860860558,
          0.14656334523485648,
          0.13619801676246449,
          0.1265581423770929,
          0.12043826017499835,
          0.09942556286685358,
          0.09553800141992355,
          0.08331994027460916,
          0.07555544403919547,
          0.07236746603146152,
          0.07073770704780839,
          0.06248092279655589,
          0.05828882936010311,
          0.050231966389062195,
          0.044312456637089465,
          0.04089415394176397,
          0.038479497871007705,
          0.03544039997469922,
          0.032664781389838374,
          0.029077783952830775,
          0.02509395705875314,
          0.023390180941839273,
          0.021807633202983633,
          0.02150946361248046,
          0.01972042852008409,
          0.01949034011890413,
          0.019089114145785693,
          0.018210934729636547,
          0.0177292434522185,
          0.016504485535289354,
          0.01587043139288554,
          0.014939872787571041,
          0.01478531037892916,
          0.01453001356910531,
          0.013662210214550245,
          0.013147988681234145,
          0.012795432876081233,
          0.012058047277066886,
          0.011657045285992743,
          0.010938513670897156,
          0.010312985638315479,
          0.010236423704145337,
          0.009685110797210919,
          0.008945270124237898,
          0.008169771188386033,
          0.008055818042402203,
          0.0077188699611949385,
          0.00726289724305185,
          0.0069245796702582674,
          0.006621748143873184,
          0.006295405994396913,
          0.006148516172030029,
          0.005990261439346468,
          0.005923344996914263,
          0.005598694573657844,
          0.005532976009779882,
          0.005187852244224796,
          0.004848954161348927,
          0.004693901951309047,
          0.004216736668090344,
          0.003976390082273807,
          0.0038634347072232745,
          0.0036106203222064917,
          0.003411724537593062,
          0.0032656965416461518,
          0.0030452731202061777,
          0.0028062441196857815,
          0.0023430967291893138,
          0.0022803634832733173,
          0.002207052112449378,
          0.0021746478812789865,
          0.0021584191940968857,
          0.0020628061217548514,
          0.0019944767510868275,
          0.001974008905227293,
          0.0019554694238956543,
          0.0019281953198374661,
          0.0018393822116418285,
          0.0017987717083738268,
          0.0016974475153187362,
          0.0016684494799478733,
          0.0016098290744540327,
          0.0015670904730458503,
          0.0015562704067704168,
          0.0015447168244538474,
          0.001492089356844213,
          0.0013390516745963616,
          0.0012410034301239164,
          0.0011788445317743648,
          0.0010854746087599631,
          0.0010326821010186048,
          0.0010223529078796916,
          0.0009916689204373865,
          0.0009617842181841274,
          0.0009439544982058273,
          0.0009377265605025784,
          0.0009114782653947251,
          0.0008224007576747893,
          0.0008069104512739339,
          0.0007779638451009772,
          0.0007674731990461752,
          0.0007056887561477764,
          0.0006835266926356783,
          0.0006707696630722414,
          0.0006669266015750636,
          0.0006209779868256496,
          0.0005103339789394802,
          0.0004945813838719057,
          0.0004696374241268907,
          0.0004531390489577663,
          0.0004374848513336113,
          0.00042025380086538246,
          0.000417575479338819,
          0.0003793070414834265,
          0.00036792651609606955,
          0.000355142465948187,
          0.000347947038184682,
          0.0002992566002781083,
          0.0002912569196659651,
          0.00027272846859054416,
          0.00026981883173079834,
          0.00017312330729071727,
          0.00016393935186193904,
          0.00016053815801040947,
          7.803528227622803e-05,
          5.856898833327966e-05,
          4.549976365205817e-05,
          1.6267187083106377e-05,
          7.100972298522506e-07,
          1.9193627223016044e-17,
          1.9193627223016044e-17,
          1.9193627223016044e-17,
          1.9193627223016044e-17,
          1.9193627223016044e-17,
          1.9193627223016044e-17,
          1.9193627223016044e-17,
          1.9193627223016044e-17,
          1.9193627223016044e-17,
          1.9193627223016044e-17,
          1.9193627223016044e-17,
          1.9193627223016044e-17,
          1.9193627223016044e-17,
          1.9193627223016044e-17,
          1.9193627223016044e-17,
          1.9193627223016044e-17,
          1.9193627223016044e-17,
          1.9193627223016044e-17,
          1.9193627223016044e-17,
          1.6795389690234768e-22
         ]
        }
       ],
       "layout": {
        "title": "Explained Variance vs # of Dimensions",
        "xaxis": {
         "title": "# of Dimensions"
        },
        "yaxis": {
         "title": "Explained Variance",
         "type": "log"
        }
       }
      },
      "text/html": [
       "<div id=\"e7461e50-80d0-4b5d-adbe-8963db3d81dd\" style=\"height: 525px; width: 100%;\" class=\"plotly-graph-div\"></div><script type=\"text/javascript\">require([\"plotly\"], function(Plotly) { window.PLOTLYENV=window.PLOTLYENV || {};window.PLOTLYENV.BASE_URL=\"https://plot.ly\";\n",
       "        Plotly.plot(\n",
       "            'e7461e50-80d0-4b5d-adbe-8963db3d81dd',\n",
       "            [{\"mode\": \"lines+markers\", \"x\": [1, 2, 3, 4, 5, 6, 7, 8, 9, 10, 11, 12, 13, 14, 15, 16, 17, 18, 19, 20, 21, 22, 23, 24, 25, 26, 27, 28, 29, 30, 31, 32, 33, 34, 35, 36, 37, 38, 39, 40, 41, 42, 43, 44, 45, 46, 47, 48, 49, 50, 51, 52, 53, 54, 55, 56, 57, 58, 59, 60, 61, 62, 63, 64, 65, 66, 67, 68, 69, 70, 71, 72, 73, 74, 75, 76, 77, 78, 79, 80, 81, 82, 83, 84, 85, 86, 87, 88, 89, 90, 91, 92, 93, 94, 95, 96, 97, 98, 99, 100, 101, 102, 103, 104, 105, 106, 107, 108, 109, 110, 111, 112, 113, 114, 115, 116, 117, 118, 119, 120, 121, 122, 123, 124, 125, 126, 127, 128, 129, 130, 131, 132, 133, 134, 135, 136, 137, 138, 139, 140, 141, 142, 143, 144, 145, 146, 147, 148, 149, 150, 151, 152, 153, 154, 155, 156, 157, 158, 159, 160, 161, 162, 163, 164, 165, 166, 167, 168, 169, 170, 171], \"y\": [2534025422614846.0, 14957182942941.586, 223545.95541395637, 58385.09325025936, 45237.866759350545, 11650.65554383234, 582.2112950155166, 306.93936983497196, 214.8248217334193, 201.92286203640947, 1.5971576603122306, 1.0137852493477701, 0.37458495682479676, 0.31966011581031867, 0.2924277776728564, 0.2800167413852598, 0.24989271660314347, 0.2181482339077213, 0.214986086102806, 0.20084042253450926, 0.18043697312005783, 0.17743271226403998, 0.15249266860860558, 0.14656334523485648, 0.13619801676246449, 0.1265581423770929, 0.12043826017499835, 0.09942556286685358, 0.09553800141992355, 0.08331994027460916, 0.07555544403919547, 0.07236746603146152, 0.07073770704780839, 0.06248092279655589, 0.05828882936010311, 0.050231966389062195, 0.044312456637089465, 0.04089415394176397, 0.038479497871007705, 0.03544039997469922, 0.032664781389838374, 0.029077783952830775, 0.02509395705875314, 0.023390180941839273, 0.021807633202983633, 0.02150946361248046, 0.01972042852008409, 0.01949034011890413, 0.019089114145785693, 0.018210934729636547, 0.0177292434522185, 0.016504485535289354, 0.01587043139288554, 0.014939872787571041, 0.01478531037892916, 0.01453001356910531, 0.013662210214550245, 0.013147988681234145, 0.012795432876081233, 0.012058047277066886, 0.011657045285992743, 0.010938513670897156, 0.010312985638315479, 0.010236423704145337, 0.009685110797210919, 0.008945270124237898, 0.008169771188386033, 0.008055818042402203, 0.0077188699611949385, 0.00726289724305185, 0.0069245796702582674, 0.006621748143873184, 0.006295405994396913, 0.006148516172030029, 0.005990261439346468, 0.005923344996914263, 0.005598694573657844, 0.005532976009779882, 0.005187852244224796, 0.004848954161348927, 0.004693901951309047, 0.004216736668090344, 0.003976390082273807, 0.0038634347072232745, 0.0036106203222064917, 0.003411724537593062, 0.0032656965416461518, 0.0030452731202061777, 0.0028062441196857815, 0.0023430967291893138, 0.0022803634832733173, 0.002207052112449378, 0.0021746478812789865, 0.0021584191940968857, 0.0020628061217548514, 0.0019944767510868275, 0.001974008905227293, 0.0019554694238956543, 0.0019281953198374661, 0.0018393822116418285, 0.0017987717083738268, 0.0016974475153187362, 0.0016684494799478733, 0.0016098290744540327, 0.0015670904730458503, 0.0015562704067704168, 0.0015447168244538474, 0.001492089356844213, 0.0013390516745963616, 0.0012410034301239164, 0.0011788445317743648, 0.0010854746087599631, 0.0010326821010186048, 0.0010223529078796916, 0.0009916689204373865, 0.0009617842181841274, 0.0009439544982058273, 0.0009377265605025784, 0.0009114782653947251, 0.0008224007576747893, 0.0008069104512739339, 0.0007779638451009772, 0.0007674731990461752, 0.0007056887561477764, 0.0006835266926356783, 0.0006707696630722414, 0.0006669266015750636, 0.0006209779868256496, 0.0005103339789394802, 0.0004945813838719057, 0.0004696374241268907, 0.0004531390489577663, 0.0004374848513336113, 0.00042025380086538246, 0.000417575479338819, 0.0003793070414834265, 0.00036792651609606955, 0.000355142465948187, 0.000347947038184682, 0.0002992566002781083, 0.0002912569196659651, 0.00027272846859054416, 0.00026981883173079834, 0.00017312330729071727, 0.00016393935186193904, 0.00016053815801040947, 7.803528227622803e-05, 5.856898833327966e-05, 4.549976365205817e-05, 1.6267187083106377e-05, 7.100972298522506e-07, 1.9193627223016044e-17, 1.9193627223016044e-17, 1.9193627223016044e-17, 1.9193627223016044e-17, 1.9193627223016044e-17, 1.9193627223016044e-17, 1.9193627223016044e-17, 1.9193627223016044e-17, 1.9193627223016044e-17, 1.9193627223016044e-17, 1.9193627223016044e-17, 1.9193627223016044e-17, 1.9193627223016044e-17, 1.9193627223016044e-17, 1.9193627223016044e-17, 1.9193627223016044e-17, 1.9193627223016044e-17, 1.9193627223016044e-17, 1.9193627223016044e-17, 1.6795389690234768e-22], \"type\": \"scatter\", \"uid\": \"a2b7bdba-a681-11e9-a419-28c63f3df6d4\"}],\n",
       "            {\"title\": \"Explained Variance vs # of Dimensions\", \"xaxis\": {\"title\": \"# of Dimensions\"}, \"yaxis\": {\"title\": \"Explained Variance\", \"type\": \"log\"}},\n",
       "            {\"showLink\": true, \"linkText\": \"Export to plot.ly\"}\n",
       "        ).then(function () {return Plotly.addFrames('e7461e50-80d0-4b5d-adbe-8963db3d81dd',{});}).then(function(){Plotly.animate('e7461e50-80d0-4b5d-adbe-8963db3d81dd');})\n",
       "        });</script>"
      ],
      "text/vnd.plotly.v1+html": [
       "<div id=\"e7461e50-80d0-4b5d-adbe-8963db3d81dd\" style=\"height: 525px; width: 100%;\" class=\"plotly-graph-div\"></div><script type=\"text/javascript\">require([\"plotly\"], function(Plotly) { window.PLOTLYENV=window.PLOTLYENV || {};window.PLOTLYENV.BASE_URL=\"https://plot.ly\";\n",
       "        Plotly.plot(\n",
       "            'e7461e50-80d0-4b5d-adbe-8963db3d81dd',\n",
       "            [{\"mode\": \"lines+markers\", \"x\": [1, 2, 3, 4, 5, 6, 7, 8, 9, 10, 11, 12, 13, 14, 15, 16, 17, 18, 19, 20, 21, 22, 23, 24, 25, 26, 27, 28, 29, 30, 31, 32, 33, 34, 35, 36, 37, 38, 39, 40, 41, 42, 43, 44, 45, 46, 47, 48, 49, 50, 51, 52, 53, 54, 55, 56, 57, 58, 59, 60, 61, 62, 63, 64, 65, 66, 67, 68, 69, 70, 71, 72, 73, 74, 75, 76, 77, 78, 79, 80, 81, 82, 83, 84, 85, 86, 87, 88, 89, 90, 91, 92, 93, 94, 95, 96, 97, 98, 99, 100, 101, 102, 103, 104, 105, 106, 107, 108, 109, 110, 111, 112, 113, 114, 115, 116, 117, 118, 119, 120, 121, 122, 123, 124, 125, 126, 127, 128, 129, 130, 131, 132, 133, 134, 135, 136, 137, 138, 139, 140, 141, 142, 143, 144, 145, 146, 147, 148, 149, 150, 151, 152, 153, 154, 155, 156, 157, 158, 159, 160, 161, 162, 163, 164, 165, 166, 167, 168, 169, 170, 171], \"y\": [2534025422614846.0, 14957182942941.586, 223545.95541395637, 58385.09325025936, 45237.866759350545, 11650.65554383234, 582.2112950155166, 306.93936983497196, 214.8248217334193, 201.92286203640947, 1.5971576603122306, 1.0137852493477701, 0.37458495682479676, 0.31966011581031867, 0.2924277776728564, 0.2800167413852598, 0.24989271660314347, 0.2181482339077213, 0.214986086102806, 0.20084042253450926, 0.18043697312005783, 0.17743271226403998, 0.15249266860860558, 0.14656334523485648, 0.13619801676246449, 0.1265581423770929, 0.12043826017499835, 0.09942556286685358, 0.09553800141992355, 0.08331994027460916, 0.07555544403919547, 0.07236746603146152, 0.07073770704780839, 0.06248092279655589, 0.05828882936010311, 0.050231966389062195, 0.044312456637089465, 0.04089415394176397, 0.038479497871007705, 0.03544039997469922, 0.032664781389838374, 0.029077783952830775, 0.02509395705875314, 0.023390180941839273, 0.021807633202983633, 0.02150946361248046, 0.01972042852008409, 0.01949034011890413, 0.019089114145785693, 0.018210934729636547, 0.0177292434522185, 0.016504485535289354, 0.01587043139288554, 0.014939872787571041, 0.01478531037892916, 0.01453001356910531, 0.013662210214550245, 0.013147988681234145, 0.012795432876081233, 0.012058047277066886, 0.011657045285992743, 0.010938513670897156, 0.010312985638315479, 0.010236423704145337, 0.009685110797210919, 0.008945270124237898, 0.008169771188386033, 0.008055818042402203, 0.0077188699611949385, 0.00726289724305185, 0.0069245796702582674, 0.006621748143873184, 0.006295405994396913, 0.006148516172030029, 0.005990261439346468, 0.005923344996914263, 0.005598694573657844, 0.005532976009779882, 0.005187852244224796, 0.004848954161348927, 0.004693901951309047, 0.004216736668090344, 0.003976390082273807, 0.0038634347072232745, 0.0036106203222064917, 0.003411724537593062, 0.0032656965416461518, 0.0030452731202061777, 0.0028062441196857815, 0.0023430967291893138, 0.0022803634832733173, 0.002207052112449378, 0.0021746478812789865, 0.0021584191940968857, 0.0020628061217548514, 0.0019944767510868275, 0.001974008905227293, 0.0019554694238956543, 0.0019281953198374661, 0.0018393822116418285, 0.0017987717083738268, 0.0016974475153187362, 0.0016684494799478733, 0.0016098290744540327, 0.0015670904730458503, 0.0015562704067704168, 0.0015447168244538474, 0.001492089356844213, 0.0013390516745963616, 0.0012410034301239164, 0.0011788445317743648, 0.0010854746087599631, 0.0010326821010186048, 0.0010223529078796916, 0.0009916689204373865, 0.0009617842181841274, 0.0009439544982058273, 0.0009377265605025784, 0.0009114782653947251, 0.0008224007576747893, 0.0008069104512739339, 0.0007779638451009772, 0.0007674731990461752, 0.0007056887561477764, 0.0006835266926356783, 0.0006707696630722414, 0.0006669266015750636, 0.0006209779868256496, 0.0005103339789394802, 0.0004945813838719057, 0.0004696374241268907, 0.0004531390489577663, 0.0004374848513336113, 0.00042025380086538246, 0.000417575479338819, 0.0003793070414834265, 0.00036792651609606955, 0.000355142465948187, 0.000347947038184682, 0.0002992566002781083, 0.0002912569196659651, 0.00027272846859054416, 0.00026981883173079834, 0.00017312330729071727, 0.00016393935186193904, 0.00016053815801040947, 7.803528227622803e-05, 5.856898833327966e-05, 4.549976365205817e-05, 1.6267187083106377e-05, 7.100972298522506e-07, 1.9193627223016044e-17, 1.9193627223016044e-17, 1.9193627223016044e-17, 1.9193627223016044e-17, 1.9193627223016044e-17, 1.9193627223016044e-17, 1.9193627223016044e-17, 1.9193627223016044e-17, 1.9193627223016044e-17, 1.9193627223016044e-17, 1.9193627223016044e-17, 1.9193627223016044e-17, 1.9193627223016044e-17, 1.9193627223016044e-17, 1.9193627223016044e-17, 1.9193627223016044e-17, 1.9193627223016044e-17, 1.9193627223016044e-17, 1.9193627223016044e-17, 1.6795389690234768e-22], \"type\": \"scatter\", \"uid\": \"a2b7bdba-a681-11e9-a419-28c63f3df6d4\"}],\n",
       "            {\"title\": \"Explained Variance vs # of Dimensions\", \"xaxis\": {\"title\": \"# of Dimensions\"}, \"yaxis\": {\"title\": \"Explained Variance\", \"type\": \"log\"}},\n",
       "            {\"showLink\": true, \"linkText\": \"Export to plot.ly\"}\n",
       "        ).then(function () {return Plotly.addFrames('e7461e50-80d0-4b5d-adbe-8963db3d81dd',{});}).then(function(){Plotly.animate('e7461e50-80d0-4b5d-adbe-8963db3d81dd');})\n",
       "        });</script>"
      ]
     },
     "metadata": {},
     "output_type": "display_data"
    }
   ],
   "source": [
    "pca = PCA()\n",
    "pca.fit(X)\n",
    "\n",
    "x = list(range(1, len(pca.explained_variance_)+1))\n",
    "y = pca.explained_variance_\n",
    "\n",
    "trace0 = go.Scatter(x=x, y=y, mode='lines+markers')\n",
    "\n",
    "layout = go.Layout(title='Explained Variance vs # of Dimensions',\n",
    "                  xaxis=dict(title='# of Dimensions'),\n",
    "                  yaxis=dict(title='Explained Variance', type='log'))\n",
    "\n",
    "fig = go.Figure([trace0], layout)\n",
    "\n",
    "iplot(fig, filename='explained-var_vs_N-dimensions.html')"
   ]
  },
  {
   "cell_type": "code",
   "execution_count": 209,
   "metadata": {},
   "outputs": [],
   "source": [
    "X_ = submissions.merge(users, on='user_id').merge(problems, on='problem_id')\n",
    "\n",
    "# remove rows with any null values\n",
    "X_ = X_.loc[:,X_.notnull().all()]\n",
    "\n",
    "y_ = X_.set_index(['user_id', 'problem_id'])['attempts_range']\n",
    "X_ = X_.set_index(['user_id', 'problem_id']).loc[:,'submission_count':]\n",
    "\n",
    "n_components=[1,2,5,10,25,50,100]\n",
    "\n",
    "f1_scores = []\n",
    "for n in n_components:\n",
    "\n",
    "    pca = PCA(n_components=n)\n",
    "    X_reduced = pca.fit_transform(X_)\n",
    "\n",
    "    X_train_, X_test_, y_train_, y_test_ = train_test_split(X_reduced, y_, test_size=0.33, random_state=42)\n",
    "\n",
    "    clf = RandomForestClassifier(n_jobs=-1)\n",
    "\n",
    "    clf.fit(X_train_, y_train_)\n",
    "\n",
    "    y_pred_ = clf.predict(X_test_)\n",
    "\n",
    "    f1_scores.append(f1_score(y_test_, y_pred_, average='weighted'))"
   ]
  },
  {
   "cell_type": "code",
   "execution_count": 210,
   "metadata": {},
   "outputs": [
    {
     "data": {
      "application/vnd.plotly.v1+json": {
       "data": [
        {
         "mode": "lines+markers",
         "type": "scatter",
         "uid": "344bd0f6-a687-11e9-9a36-28c63f3df6d4",
         "x": [
          1,
          2,
          5,
          10,
          25,
          50,
          100
         ],
         "y": [
          0.42093829171906094,
          0.42274195076311266,
          0.4272419677730363,
          0.42755372882333176,
          0.5041828756508284,
          0.4969342864421994,
          0.49666275463481496
         ]
        }
       ],
       "layout": {
        "title": "F1 Score vs Principal Components",
        "xaxis": {
         "title": "Principal Components"
        },
        "yaxis": {
         "title": "F1 Score",
         "type": "log"
        }
       }
      },
      "text/html": [
       "<div id=\"e1cf089a-b42e-4767-928a-8c3e971c0d51\" style=\"height: 525px; width: 100%;\" class=\"plotly-graph-div\"></div><script type=\"text/javascript\">require([\"plotly\"], function(Plotly) { window.PLOTLYENV=window.PLOTLYENV || {};window.PLOTLYENV.BASE_URL=\"https://plot.ly\";\n",
       "        Plotly.plot(\n",
       "            'e1cf089a-b42e-4767-928a-8c3e971c0d51',\n",
       "            [{\"mode\": \"lines+markers\", \"x\": [1, 2, 5, 10, 25, 50, 100], \"y\": [0.42093829171906094, 0.42274195076311266, 0.4272419677730363, 0.42755372882333176, 0.5041828756508284, 0.4969342864421994, 0.49666275463481496], \"type\": \"scatter\", \"uid\": \"344bd0f6-a687-11e9-9a36-28c63f3df6d4\"}],\n",
       "            {\"title\": \"F1 Score vs Principal Components\", \"xaxis\": {\"title\": \"Principal Components\"}, \"yaxis\": {\"title\": \"F1 Score\", \"type\": \"log\"}},\n",
       "            {\"showLink\": true, \"linkText\": \"Export to plot.ly\"}\n",
       "        ).then(function () {return Plotly.addFrames('e1cf089a-b42e-4767-928a-8c3e971c0d51',{});}).then(function(){Plotly.animate('e1cf089a-b42e-4767-928a-8c3e971c0d51');})\n",
       "        });</script>"
      ],
      "text/vnd.plotly.v1+html": [
       "<div id=\"e1cf089a-b42e-4767-928a-8c3e971c0d51\" style=\"height: 525px; width: 100%;\" class=\"plotly-graph-div\"></div><script type=\"text/javascript\">require([\"plotly\"], function(Plotly) { window.PLOTLYENV=window.PLOTLYENV || {};window.PLOTLYENV.BASE_URL=\"https://plot.ly\";\n",
       "        Plotly.plot(\n",
       "            'e1cf089a-b42e-4767-928a-8c3e971c0d51',\n",
       "            [{\"mode\": \"lines+markers\", \"x\": [1, 2, 5, 10, 25, 50, 100], \"y\": [0.42093829171906094, 0.42274195076311266, 0.4272419677730363, 0.42755372882333176, 0.5041828756508284, 0.4969342864421994, 0.49666275463481496], \"type\": \"scatter\", \"uid\": \"344bd0f6-a687-11e9-9a36-28c63f3df6d4\"}],\n",
       "            {\"title\": \"F1 Score vs Principal Components\", \"xaxis\": {\"title\": \"Principal Components\"}, \"yaxis\": {\"title\": \"F1 Score\", \"type\": \"log\"}},\n",
       "            {\"showLink\": true, \"linkText\": \"Export to plot.ly\"}\n",
       "        ).then(function () {return Plotly.addFrames('e1cf089a-b42e-4767-928a-8c3e971c0d51',{});}).then(function(){Plotly.animate('e1cf089a-b42e-4767-928a-8c3e971c0d51');})\n",
       "        });</script>"
      ]
     },
     "metadata": {},
     "output_type": "display_data"
    }
   ],
   "source": [
    "trace0 = go.Scatter(x=n_components, y=f1_scores, mode='lines+markers')\n",
    "\n",
    "layout = go.Layout(title='F1 Score vs Principal Components',\n",
    "                  xaxis=dict(title='Principal Components'),\n",
    "                  yaxis=dict(title='F1 Score', type='log'))\n",
    "\n",
    "fig = go.Figure([trace0], layout)\n",
    "\n",
    "iplot(fig, filename='f1_score-vs-principal_components.html')"
   ]
  },
  {
   "cell_type": "markdown",
   "metadata": {},
   "source": [
    "We can see that at a number of principal components less than 25, there is a significant hit in the F1 score. Above 25 principal components, there seems to be no difference. In general, there is no improvement over the baseline model when using PCA to remove colinear features and reduce the dataset's dimensionality."
   ]
  },
  {
   "cell_type": "markdown",
   "metadata": {},
   "source": [
    "We can use GridSearhCV to try to tune the hyperparameters of the model. Rather than passing a large dictionary object of all the hyperparameters we want to tune at once, I will explore each of the hyperparameters individually. This will make it more straightforward when interpretting the effects of each hyperparameter. At the end, I will then pass all of the hyperparameters to GridSearchCV to find the optimal combination of all hyperparameters."
   ]
  },
  {
   "cell_type": "markdown",
   "metadata": {},
   "source": [
    "#### n_estimators"
   ]
  },
  {
   "cell_type": "markdown",
   "metadata": {},
   "source": [
    "n_estimators defines how many trees the model will have. Generally, the more trees the better the model will generalize. However more trees equals more computation and therefore we want to strike a balance between fit to the test data and train + test times."
   ]
  },
  {
   "cell_type": "markdown",
   "metadata": {},
   "source": [
    "With GridSearchCV, we can define the scoring function. Since we want to maximize the f1_score function with \"weighted\" averaging from sklearn.metrics, we pass this same scoring function to GridSearchCV."
   ]
  },
  {
   "cell_type": "code",
   "execution_count": 52,
   "metadata": {},
   "outputs": [
    {
     "name": "stdout",
     "output_type": "stream",
     "text": [
      "Wall time: 6min 3s\n"
     ]
    }
   ],
   "source": [
    "%%time\n",
    "param_grid = {'n_estimators': [5,10,50,100,150,200,250]}\n",
    "\n",
    "clf = RandomForestClassifier(n_jobs=-1, random_state=42)\n",
    "\n",
    "cv = GridSearchCV(clf, param_grid=param_grid, \n",
    "                  scoring='f1_weighted', cv=5, \n",
    "                  iid=True, n_jobs=-1, \n",
    "                  return_train_score=True)\n",
    "\n",
    "cv.fit(X_train,y_train)"
   ]
  },
  {
   "cell_type": "markdown",
   "metadata": {},
   "source": [
    "The results of the search are shown below. "
   ]
  },
  {
   "cell_type": "code",
   "execution_count": 53,
   "metadata": {},
   "outputs": [
    {
     "data": {
      "text/html": [
       "<div>\n",
       "<style>\n",
       "    .dataframe thead tr:only-child th {\n",
       "        text-align: right;\n",
       "    }\n",
       "\n",
       "    .dataframe thead th {\n",
       "        text-align: left;\n",
       "    }\n",
       "\n",
       "    .dataframe tbody tr th {\n",
       "        vertical-align: top;\n",
       "    }\n",
       "</style>\n",
       "<table border=\"1\" class=\"dataframe\">\n",
       "  <thead>\n",
       "    <tr style=\"text-align: right;\">\n",
       "      <th></th>\n",
       "      <th>combined_mean_fit-test_time</th>\n",
       "      <th>mean_test_score</th>\n",
       "      <th>mean_train_score</th>\n",
       "      <th>n_estimators</th>\n",
       "    </tr>\n",
       "  </thead>\n",
       "  <tbody>\n",
       "    <tr>\n",
       "      <th>0</th>\n",
       "      <td>0.804431</td>\n",
       "      <td>0.492844</td>\n",
       "      <td>0.939287</td>\n",
       "      <td>5</td>\n",
       "    </tr>\n",
       "    <tr>\n",
       "      <th>1</th>\n",
       "      <td>4.254232</td>\n",
       "      <td>0.502990</td>\n",
       "      <td>0.977063</td>\n",
       "      <td>10</td>\n",
       "    </tr>\n",
       "    <tr>\n",
       "      <th>2</th>\n",
       "      <td>23.390794</td>\n",
       "      <td>0.515610</td>\n",
       "      <td>0.999707</td>\n",
       "      <td>50</td>\n",
       "    </tr>\n",
       "    <tr>\n",
       "      <th>3</th>\n",
       "      <td>53.823086</td>\n",
       "      <td>0.518985</td>\n",
       "      <td>0.999916</td>\n",
       "      <td>100</td>\n",
       "    </tr>\n",
       "    <tr>\n",
       "      <th>4</th>\n",
       "      <td>84.666681</td>\n",
       "      <td>0.519500</td>\n",
       "      <td>0.999921</td>\n",
       "      <td>150</td>\n",
       "    </tr>\n",
       "    <tr>\n",
       "      <th>5</th>\n",
       "      <td>119.281836</td>\n",
       "      <td>0.520998</td>\n",
       "      <td>0.999921</td>\n",
       "      <td>200</td>\n",
       "    </tr>\n",
       "    <tr>\n",
       "      <th>6</th>\n",
       "      <td>116.855950</td>\n",
       "      <td>0.520498</td>\n",
       "      <td>0.999921</td>\n",
       "      <td>250</td>\n",
       "    </tr>\n",
       "  </tbody>\n",
       "</table>\n",
       "</div>"
      ],
      "text/plain": [
       "   combined_mean_fit-test_time  mean_test_score  mean_train_score  \\\n",
       "0                     0.804431         0.492844          0.939287   \n",
       "1                     4.254232         0.502990          0.977063   \n",
       "2                    23.390794         0.515610          0.999707   \n",
       "3                    53.823086         0.518985          0.999916   \n",
       "4                    84.666681         0.519500          0.999921   \n",
       "5                   119.281836         0.520998          0.999921   \n",
       "6                   116.855950         0.520498          0.999921   \n",
       "\n",
       "   n_estimators  \n",
       "0             5  \n",
       "1            10  \n",
       "2            50  \n",
       "3           100  \n",
       "4           150  \n",
       "5           200  \n",
       "6           250  "
      ]
     },
     "execution_count": 53,
     "metadata": {},
     "output_type": "execute_result"
    }
   ],
   "source": [
    "results = pd.DataFrame({'n_estimators' : [5,10,50,100,150,200,250],\n",
    "                        'combined_mean_fit-test_time': cv.cv_results_['mean_fit_time'] + cv.cv_results_['mean_score_time'],\n",
    "                        'mean_test_score': cv.cv_results_['mean_test_score'],\n",
    "                       'mean_train_score': cv.cv_results_['mean_train_score']})\n",
    "\n",
    "results"
   ]
  },
  {
   "cell_type": "markdown",
   "metadata": {},
   "source": [
    "Let's plot the train and test scores as a function of N_estimators."
   ]
  },
  {
   "cell_type": "code",
   "execution_count": 54,
   "metadata": {},
   "outputs": [
    {
     "data": {
      "application/vnd.plotly.v1+json": {
       "data": [
        {
         "mode": "lines+markers",
         "name": "Mean Test Score",
         "type": "scattergl",
         "uid": "27b471a8-a666-11e9-befc-28c63f3df6d4",
         "x": [
          5,
          10,
          50,
          100,
          150,
          200,
          250
         ],
         "y": [
          0.4928441482271173,
          0.5029901465063431,
          0.5156095340036493,
          0.5189849461973903,
          0.5194999888094498,
          0.5209984947166072,
          0.5204982967708334
         ],
         "yaxis": "y2"
        },
        {
         "mode": "lines+markers",
         "name": "Mean Train Score",
         "type": "scattergl",
         "uid": "27b471a9-a666-11e9-a5fe-28c63f3df6d4",
         "x": [
          5,
          10,
          50,
          100,
          150,
          200,
          250
         ],
         "y": [
          0.9392872632828407,
          0.9770631802803095,
          0.999706853295742,
          0.9999159023036028,
          0.9999207078811685,
          0.9999207081708683,
          0.9999207079301933
         ]
        }
       ],
       "layout": {
        "legend": {
         "orientation": "h",
         "y": 1.12
        },
        "margin": {
         "t": 120
        },
        "title": "Mean Train & Test Scores vs N_estimators",
        "xaxis": {
         "title": "N_estimators"
        },
        "yaxis": {
         "title": "Mean Train Score"
        },
        "yaxis2": {
         "side": "right",
         "title": "Mean Test Score"
        }
       }
      },
      "text/html": [
       "<div id=\"2b7f3662-33cd-43c3-9f37-8a5b1e9acaa1\" style=\"height: 525px; width: 100%;\" class=\"plotly-graph-div\"></div><script type=\"text/javascript\">require([\"plotly\"], function(Plotly) { window.PLOTLYENV=window.PLOTLYENV || {};window.PLOTLYENV.BASE_URL=\"https://plot.ly\";\n",
       "        Plotly.plot(\n",
       "            '2b7f3662-33cd-43c3-9f37-8a5b1e9acaa1',\n",
       "            [{\"mode\": \"lines+markers\", \"name\": \"Mean Test Score\", \"x\": [5.0, 10.0, 50.0, 100.0, 150.0, 200.0, 250.0], \"y\": [0.4928441482271173, 0.5029901465063431, 0.5156095340036493, 0.5189849461973903, 0.5194999888094498, 0.5209984947166072, 0.5204982967708334], \"yaxis\": \"y2\", \"type\": \"scattergl\", \"uid\": \"27b471a8-a666-11e9-befc-28c63f3df6d4\"}, {\"mode\": \"lines+markers\", \"name\": \"Mean Train Score\", \"x\": [5.0, 10.0, 50.0, 100.0, 150.0, 200.0, 250.0], \"y\": [0.9392872632828407, 0.9770631802803095, 0.999706853295742, 0.9999159023036028, 0.9999207078811685, 0.9999207081708683, 0.9999207079301933], \"type\": \"scattergl\", \"uid\": \"27b471a9-a666-11e9-a5fe-28c63f3df6d4\"}],\n",
       "            {\"legend\": {\"orientation\": \"h\", \"y\": 1.12}, \"margin\": {\"t\": 120}, \"title\": \"Mean Train & Test Scores vs N_estimators\", \"xaxis\": {\"title\": \"N_estimators\"}, \"yaxis\": {\"title\": \"Mean Train Score\"}, \"yaxis2\": {\"side\": \"right\", \"title\": \"Mean Test Score\"}},\n",
       "            {\"showLink\": true, \"linkText\": \"Export to plot.ly\"}\n",
       "        ).then(function () {return Plotly.addFrames('2b7f3662-33cd-43c3-9f37-8a5b1e9acaa1',{});}).then(function(){Plotly.animate('2b7f3662-33cd-43c3-9f37-8a5b1e9acaa1');})\n",
       "        });</script>"
      ],
      "text/vnd.plotly.v1+html": [
       "<div id=\"2b7f3662-33cd-43c3-9f37-8a5b1e9acaa1\" style=\"height: 525px; width: 100%;\" class=\"plotly-graph-div\"></div><script type=\"text/javascript\">require([\"plotly\"], function(Plotly) { window.PLOTLYENV=window.PLOTLYENV || {};window.PLOTLYENV.BASE_URL=\"https://plot.ly\";\n",
       "        Plotly.plot(\n",
       "            '2b7f3662-33cd-43c3-9f37-8a5b1e9acaa1',\n",
       "            [{\"mode\": \"lines+markers\", \"name\": \"Mean Test Score\", \"x\": [5.0, 10.0, 50.0, 100.0, 150.0, 200.0, 250.0], \"y\": [0.4928441482271173, 0.5029901465063431, 0.5156095340036493, 0.5189849461973903, 0.5194999888094498, 0.5209984947166072, 0.5204982967708334], \"yaxis\": \"y2\", \"type\": \"scattergl\", \"uid\": \"27b471a8-a666-11e9-befc-28c63f3df6d4\"}, {\"mode\": \"lines+markers\", \"name\": \"Mean Train Score\", \"x\": [5.0, 10.0, 50.0, 100.0, 150.0, 200.0, 250.0], \"y\": [0.9392872632828407, 0.9770631802803095, 0.999706853295742, 0.9999159023036028, 0.9999207078811685, 0.9999207081708683, 0.9999207079301933], \"type\": \"scattergl\", \"uid\": \"27b471a9-a666-11e9-a5fe-28c63f3df6d4\"}],\n",
       "            {\"legend\": {\"orientation\": \"h\", \"y\": 1.12}, \"margin\": {\"t\": 120}, \"title\": \"Mean Train & Test Scores vs N_estimators\", \"xaxis\": {\"title\": \"N_estimators\"}, \"yaxis\": {\"title\": \"Mean Train Score\"}, \"yaxis2\": {\"side\": \"right\", \"title\": \"Mean Test Score\"}},\n",
       "            {\"showLink\": true, \"linkText\": \"Export to plot.ly\"}\n",
       "        ).then(function () {return Plotly.addFrames('2b7f3662-33cd-43c3-9f37-8a5b1e9acaa1',{});}).then(function(){Plotly.animate('2b7f3662-33cd-43c3-9f37-8a5b1e9acaa1');})\n",
       "        });</script>"
      ]
     },
     "metadata": {},
     "output_type": "display_data"
    }
   ],
   "source": [
    "trace1 = go.Scattergl(name='Mean Test Score',\n",
    "                      x=results['n_estimators'],\n",
    "                      y=results['mean_test_score'], \n",
    "                      mode='lines+markers',\n",
    "                     yaxis='y2')\n",
    "trace2 = go.Scattergl(name='Mean Train Score',\n",
    "                      x=results['n_estimators'],\n",
    "                      y=results['mean_train_score'], \n",
    "                      mode='lines+markers')\n",
    "\n",
    "layout = go.Layout(title='Mean Train & Test Scores vs N_estimators',\n",
    "               xaxis=dict(title='N_estimators'),\n",
    "               yaxis=dict(title='Mean Train Score'), \n",
    "                   yaxis2=dict(title='Mean Test Score',\n",
    "                              side='right'),\n",
    "                  legend=dict(orientation='h', y=1.12),\n",
    "                  margin=dict(t=120))\n",
    "\n",
    "fig = go.Figure([trace1, trace2], layout=layout)\n",
    "\n",
    "iplot(fig, filename='train-test-scores.html')"
   ]
  },
  {
   "cell_type": "markdown",
   "metadata": {},
   "source": [
    "We can see both scores increase in going from 5 to 100 estimators but quickly plateau after that. The train and test scores are plotted on separate axes above so we can distinguish the knees of both curves. We can see that the training score is very close to 1, even for n_estimators=5. The more important score of course is the test score. Let's now look at the tradeoff between the test score and the time required to train and test the model."
   ]
  },
  {
   "cell_type": "code",
   "execution_count": 139,
   "metadata": {},
   "outputs": [],
   "source": [
    "def plot_cv(df, param):\n",
    "    trace0 = go.Scattergl(name='Combined Mean Train+Test Time',\n",
    "                      x=results[param],\n",
    "                      y=results['combined_mean_fit-test_time'], \n",
    "                      mode='lines+markers',)\n",
    "    trace1 = go.Scattergl(name='Mean Test Score',\n",
    "                          x=results[param],\n",
    "                          y=results['mean_test_score'], \n",
    "                          mode='lines+markers',\n",
    "                         yaxis='y2')\n",
    "\n",
    "    layout = go.Layout(title='Model Train+Test Time & Test Score vs %s' % param,\n",
    "                   xaxis=dict(title=param),\n",
    "                   yaxis=dict(title='Combined Train+Test Time'), \n",
    "                       yaxis2=dict(title='Mean Test Score',\n",
    "                                  side='right'),\n",
    "                      legend=dict(orientation='h', y=1.12),\n",
    "                      margin=dict(t=120))\n",
    "\n",
    "    fig = go.Figure([trace0, trace1], layout=layout)\n",
    "\n",
    "    iplot(fig, filename='%s.html' % param)"
   ]
  },
  {
   "cell_type": "code",
   "execution_count": 56,
   "metadata": {
    "scrolled": false
   },
   "outputs": [
    {
     "data": {
      "application/vnd.plotly.v1+json": {
       "data": [
        {
         "mode": "lines+markers",
         "name": "Combined Mean Train+Test Time",
         "type": "scattergl",
         "uid": "4d0f2098-a666-11e9-b317-28c63f3df6d4",
         "x": [
          5,
          10,
          50,
          100,
          150,
          200,
          250
         ],
         "y": [
          0.8044311523437501,
          4.254231691360474,
          23.39079384803772,
          53.82308611869812,
          84.66668071746825,
          119.28183646202088,
          116.85594964027405
         ]
        },
        {
         "mode": "lines+markers",
         "name": "Mean Test Score",
         "type": "scattergl",
         "uid": "4d0f2099-a666-11e9-a5f9-28c63f3df6d4",
         "x": [
          5,
          10,
          50,
          100,
          150,
          200,
          250
         ],
         "y": [
          0.4928441482271173,
          0.5029901465063431,
          0.5156095340036493,
          0.5189849461973903,
          0.5194999888094498,
          0.5209984947166072,
          0.5204982967708334
         ],
         "yaxis": "y2"
        }
       ],
       "layout": {
        "legend": {
         "orientation": "h",
         "y": 1.12
        },
        "margin": {
         "t": 120
        },
        "title": "Model Train+Test Time & Test Score vs N_estimators",
        "xaxis": {
         "title": "n_estimators"
        },
        "yaxis": {
         "title": "Combined Train+Test Time"
        },
        "yaxis2": {
         "side": "right",
         "title": "Mean Test Score"
        }
       }
      },
      "text/html": [
       "<div id=\"c86d7e27-1f5b-4bf1-b091-8f5c18815b99\" style=\"height: 525px; width: 100%;\" class=\"plotly-graph-div\"></div><script type=\"text/javascript\">require([\"plotly\"], function(Plotly) { window.PLOTLYENV=window.PLOTLYENV || {};window.PLOTLYENV.BASE_URL=\"https://plot.ly\";\n",
       "        Plotly.plot(\n",
       "            'c86d7e27-1f5b-4bf1-b091-8f5c18815b99',\n",
       "            [{\"mode\": \"lines+markers\", \"name\": \"Combined Mean Train+Test Time\", \"x\": [5.0, 10.0, 50.0, 100.0, 150.0, 200.0, 250.0], \"y\": [0.8044311523437501, 4.254231691360474, 23.39079384803772, 53.82308611869812, 84.66668071746825, 119.28183646202088, 116.85594964027405], \"type\": \"scattergl\", \"uid\": \"4d0f2098-a666-11e9-b317-28c63f3df6d4\"}, {\"mode\": \"lines+markers\", \"name\": \"Mean Test Score\", \"x\": [5.0, 10.0, 50.0, 100.0, 150.0, 200.0, 250.0], \"y\": [0.4928441482271173, 0.5029901465063431, 0.5156095340036493, 0.5189849461973903, 0.5194999888094498, 0.5209984947166072, 0.5204982967708334], \"yaxis\": \"y2\", \"type\": \"scattergl\", \"uid\": \"4d0f2099-a666-11e9-a5f9-28c63f3df6d4\"}],\n",
       "            {\"legend\": {\"orientation\": \"h\", \"y\": 1.12}, \"margin\": {\"t\": 120}, \"title\": \"Model Train+Test Time & Test Score vs N_estimators\", \"xaxis\": {\"title\": \"n_estimators\"}, \"yaxis\": {\"title\": \"Combined Train+Test Time\"}, \"yaxis2\": {\"side\": \"right\", \"title\": \"Mean Test Score\"}},\n",
       "            {\"showLink\": true, \"linkText\": \"Export to plot.ly\"}\n",
       "        ).then(function () {return Plotly.addFrames('c86d7e27-1f5b-4bf1-b091-8f5c18815b99',{});}).then(function(){Plotly.animate('c86d7e27-1f5b-4bf1-b091-8f5c18815b99');})\n",
       "        });</script>"
      ],
      "text/vnd.plotly.v1+html": [
       "<div id=\"c86d7e27-1f5b-4bf1-b091-8f5c18815b99\" style=\"height: 525px; width: 100%;\" class=\"plotly-graph-div\"></div><script type=\"text/javascript\">require([\"plotly\"], function(Plotly) { window.PLOTLYENV=window.PLOTLYENV || {};window.PLOTLYENV.BASE_URL=\"https://plot.ly\";\n",
       "        Plotly.plot(\n",
       "            'c86d7e27-1f5b-4bf1-b091-8f5c18815b99',\n",
       "            [{\"mode\": \"lines+markers\", \"name\": \"Combined Mean Train+Test Time\", \"x\": [5.0, 10.0, 50.0, 100.0, 150.0, 200.0, 250.0], \"y\": [0.8044311523437501, 4.254231691360474, 23.39079384803772, 53.82308611869812, 84.66668071746825, 119.28183646202088, 116.85594964027405], \"type\": \"scattergl\", \"uid\": \"4d0f2098-a666-11e9-b317-28c63f3df6d4\"}, {\"mode\": \"lines+markers\", \"name\": \"Mean Test Score\", \"x\": [5.0, 10.0, 50.0, 100.0, 150.0, 200.0, 250.0], \"y\": [0.4928441482271173, 0.5029901465063431, 0.5156095340036493, 0.5189849461973903, 0.5194999888094498, 0.5209984947166072, 0.5204982967708334], \"yaxis\": \"y2\", \"type\": \"scattergl\", \"uid\": \"4d0f2099-a666-11e9-a5f9-28c63f3df6d4\"}],\n",
       "            {\"legend\": {\"orientation\": \"h\", \"y\": 1.12}, \"margin\": {\"t\": 120}, \"title\": \"Model Train+Test Time & Test Score vs N_estimators\", \"xaxis\": {\"title\": \"n_estimators\"}, \"yaxis\": {\"title\": \"Combined Train+Test Time\"}, \"yaxis2\": {\"side\": \"right\", \"title\": \"Mean Test Score\"}},\n",
       "            {\"showLink\": true, \"linkText\": \"Export to plot.ly\"}\n",
       "        ).then(function () {return Plotly.addFrames('c86d7e27-1f5b-4bf1-b091-8f5c18815b99',{});}).then(function(){Plotly.animate('c86d7e27-1f5b-4bf1-b091-8f5c18815b99');})\n",
       "        });</script>"
      ]
     },
     "metadata": {},
     "output_type": "display_data"
    }
   ],
   "source": [
    "plot_cv(results, param='n_estimators')"
   ]
  },
  {
   "cell_type": "markdown",
   "metadata": {},
   "source": [
    "Here we see that the combined time for training and testing the model increases significantly up to 109 seconds at N_estimators=150. At N_estimators=100, the train+test time is 65 seconds but the difference in test score between the two is negligible. We can thus save a lot of computational resources and time by choosing N_estimators=100."
   ]
  },
  {
   "cell_type": "markdown",
   "metadata": {},
   "source": [
    "#### max_depth"
   ]
  },
  {
   "cell_type": "code",
   "execution_count": 61,
   "metadata": {},
   "outputs": [
    {
     "name": "stdout",
     "output_type": "stream",
     "text": [
      "Wall time: 25.8 s\n"
     ]
    }
   ],
   "source": [
    "%%time\n",
    "param_grid = {'max_depth': [5,10,50,100,150]}\n",
    "\n",
    "clf = RandomForestClassifier(n_jobs=-1, random_state=42)\n",
    "\n",
    "cv = GridSearchCV(clf, param_grid=param_grid, \n",
    "                  scoring='f1_weighted', cv=5, \n",
    "                  iid=True, n_jobs=-1, \n",
    "                  return_train_score=True)\n",
    "\n",
    "cv.fit(X_train,y_train)"
   ]
  },
  {
   "cell_type": "code",
   "execution_count": 62,
   "metadata": {},
   "outputs": [
    {
     "data": {
      "text/html": [
       "<div>\n",
       "<style>\n",
       "    .dataframe thead tr:only-child th {\n",
       "        text-align: right;\n",
       "    }\n",
       "\n",
       "    .dataframe thead th {\n",
       "        text-align: left;\n",
       "    }\n",
       "\n",
       "    .dataframe tbody tr th {\n",
       "        vertical-align: top;\n",
       "    }\n",
       "</style>\n",
       "<table border=\"1\" class=\"dataframe\">\n",
       "  <thead>\n",
       "    <tr style=\"text-align: right;\">\n",
       "      <th></th>\n",
       "      <th>combined_mean_fit-test_time</th>\n",
       "      <th>max_depth</th>\n",
       "      <th>mean_test_score</th>\n",
       "      <th>mean_train_score</th>\n",
       "    </tr>\n",
       "  </thead>\n",
       "  <tbody>\n",
       "    <tr>\n",
       "      <th>0</th>\n",
       "      <td>0.538286</td>\n",
       "      <td>5</td>\n",
       "      <td>0.391628</td>\n",
       "      <td>0.392864</td>\n",
       "    </tr>\n",
       "    <tr>\n",
       "      <th>1</th>\n",
       "      <td>1.557230</td>\n",
       "      <td>10</td>\n",
       "      <td>0.482226</td>\n",
       "      <td>0.500286</td>\n",
       "    </tr>\n",
       "    <tr>\n",
       "      <th>2</th>\n",
       "      <td>4.712002</td>\n",
       "      <td>50</td>\n",
       "      <td>0.504457</td>\n",
       "      <td>0.976816</td>\n",
       "    </tr>\n",
       "    <tr>\n",
       "      <th>3</th>\n",
       "      <td>5.501036</td>\n",
       "      <td>100</td>\n",
       "      <td>0.502990</td>\n",
       "      <td>0.977063</td>\n",
       "    </tr>\n",
       "    <tr>\n",
       "      <th>4</th>\n",
       "      <td>5.080660</td>\n",
       "      <td>150</td>\n",
       "      <td>0.502990</td>\n",
       "      <td>0.977063</td>\n",
       "    </tr>\n",
       "  </tbody>\n",
       "</table>\n",
       "</div>"
      ],
      "text/plain": [
       "   combined_mean_fit-test_time  max_depth  mean_test_score  mean_train_score\n",
       "0                     0.538286          5         0.391628          0.392864\n",
       "1                     1.557230         10         0.482226          0.500286\n",
       "2                     4.712002         50         0.504457          0.976816\n",
       "3                     5.501036        100         0.502990          0.977063\n",
       "4                     5.080660        150         0.502990          0.977063"
      ]
     },
     "execution_count": 62,
     "metadata": {},
     "output_type": "execute_result"
    }
   ],
   "source": [
    "results = pd.DataFrame({'max_depth' : [5,10,50,100,150],\n",
    "                        'combined_mean_fit-test_time': cv.cv_results_['mean_fit_time'] + cv.cv_results_['mean_score_time'],\n",
    "                        'mean_test_score': cv.cv_results_['mean_test_score'],\n",
    "                       'mean_train_score': cv.cv_results_['mean_train_score']})\n",
    "\n",
    "results"
   ]
  },
  {
   "cell_type": "code",
   "execution_count": 63,
   "metadata": {},
   "outputs": [
    {
     "data": {
      "application/vnd.plotly.v1+json": {
       "data": [
        {
         "mode": "lines+markers",
         "name": "Combined Mean Train+Test Time",
         "type": "scattergl",
         "uid": "bd3c68b6-a666-11e9-a3d1-28c63f3df6d4",
         "x": [
          5,
          10,
          50,
          100,
          150
         ],
         "y": [
          0.5382864952087403,
          1.5572299480438232,
          4.712001895904541,
          5.5010357856750485,
          5.080660200119019
         ]
        },
        {
         "mode": "lines+markers",
         "name": "Mean Test Score",
         "type": "scattergl",
         "uid": "bd3c68b7-a666-11e9-959e-28c63f3df6d4",
         "x": [
          5,
          10,
          50,
          100,
          150
         ],
         "y": [
          0.39162826755438307,
          0.48222586841352294,
          0.5044567060063037,
          0.5029901465063431,
          0.5029901465063431
         ],
         "yaxis": "y2"
        }
       ],
       "layout": {
        "legend": {
         "orientation": "h",
         "y": 1.12
        },
        "margin": {
         "t": 120
        },
        "title": "Model Train+Test Time & Test Score vs N_estimators",
        "xaxis": {
         "title": "max_depth"
        },
        "yaxis": {
         "title": "Combined Train+Test Time"
        },
        "yaxis2": {
         "side": "right",
         "title": "Mean Test Score"
        }
       }
      },
      "text/html": [
       "<div id=\"0de28555-4882-46f1-b00d-eda8e5d799aa\" style=\"height: 525px; width: 100%;\" class=\"plotly-graph-div\"></div><script type=\"text/javascript\">require([\"plotly\"], function(Plotly) { window.PLOTLYENV=window.PLOTLYENV || {};window.PLOTLYENV.BASE_URL=\"https://plot.ly\";\n",
       "        Plotly.plot(\n",
       "            '0de28555-4882-46f1-b00d-eda8e5d799aa',\n",
       "            [{\"mode\": \"lines+markers\", \"name\": \"Combined Mean Train+Test Time\", \"x\": [5.0, 10.0, 50.0, 100.0, 150.0], \"y\": [0.5382864952087403, 1.5572299480438232, 4.712001895904541, 5.5010357856750485, 5.080660200119019], \"type\": \"scattergl\", \"uid\": \"bd3c68b6-a666-11e9-a3d1-28c63f3df6d4\"}, {\"mode\": \"lines+markers\", \"name\": \"Mean Test Score\", \"x\": [5.0, 10.0, 50.0, 100.0, 150.0], \"y\": [0.39162826755438307, 0.48222586841352294, 0.5044567060063037, 0.5029901465063431, 0.5029901465063431], \"yaxis\": \"y2\", \"type\": \"scattergl\", \"uid\": \"bd3c68b7-a666-11e9-959e-28c63f3df6d4\"}],\n",
       "            {\"legend\": {\"orientation\": \"h\", \"y\": 1.12}, \"margin\": {\"t\": 120}, \"title\": \"Model Train+Test Time & Test Score vs N_estimators\", \"xaxis\": {\"title\": \"max_depth\"}, \"yaxis\": {\"title\": \"Combined Train+Test Time\"}, \"yaxis2\": {\"side\": \"right\", \"title\": \"Mean Test Score\"}},\n",
       "            {\"showLink\": true, \"linkText\": \"Export to plot.ly\"}\n",
       "        ).then(function () {return Plotly.addFrames('0de28555-4882-46f1-b00d-eda8e5d799aa',{});}).then(function(){Plotly.animate('0de28555-4882-46f1-b00d-eda8e5d799aa');})\n",
       "        });</script>"
      ],
      "text/vnd.plotly.v1+html": [
       "<div id=\"0de28555-4882-46f1-b00d-eda8e5d799aa\" style=\"height: 525px; width: 100%;\" class=\"plotly-graph-div\"></div><script type=\"text/javascript\">require([\"plotly\"], function(Plotly) { window.PLOTLYENV=window.PLOTLYENV || {};window.PLOTLYENV.BASE_URL=\"https://plot.ly\";\n",
       "        Plotly.plot(\n",
       "            '0de28555-4882-46f1-b00d-eda8e5d799aa',\n",
       "            [{\"mode\": \"lines+markers\", \"name\": \"Combined Mean Train+Test Time\", \"x\": [5.0, 10.0, 50.0, 100.0, 150.0], \"y\": [0.5382864952087403, 1.5572299480438232, 4.712001895904541, 5.5010357856750485, 5.080660200119019], \"type\": \"scattergl\", \"uid\": \"bd3c68b6-a666-11e9-a3d1-28c63f3df6d4\"}, {\"mode\": \"lines+markers\", \"name\": \"Mean Test Score\", \"x\": [5.0, 10.0, 50.0, 100.0, 150.0], \"y\": [0.39162826755438307, 0.48222586841352294, 0.5044567060063037, 0.5029901465063431, 0.5029901465063431], \"yaxis\": \"y2\", \"type\": \"scattergl\", \"uid\": \"bd3c68b7-a666-11e9-959e-28c63f3df6d4\"}],\n",
       "            {\"legend\": {\"orientation\": \"h\", \"y\": 1.12}, \"margin\": {\"t\": 120}, \"title\": \"Model Train+Test Time & Test Score vs N_estimators\", \"xaxis\": {\"title\": \"max_depth\"}, \"yaxis\": {\"title\": \"Combined Train+Test Time\"}, \"yaxis2\": {\"side\": \"right\", \"title\": \"Mean Test Score\"}},\n",
       "            {\"showLink\": true, \"linkText\": \"Export to plot.ly\"}\n",
       "        ).then(function () {return Plotly.addFrames('0de28555-4882-46f1-b00d-eda8e5d799aa',{});}).then(function(){Plotly.animate('0de28555-4882-46f1-b00d-eda8e5d799aa');})\n",
       "        });</script>"
      ]
     },
     "metadata": {},
     "output_type": "display_data"
    }
   ],
   "source": [
    "plot_cv(results, param='max_depth')"
   ]
  },
  {
   "cell_type": "markdown",
   "metadata": {},
   "source": [
    "#### min_samples_split"
   ]
  },
  {
   "cell_type": "code",
   "execution_count": 64,
   "metadata": {},
   "outputs": [
    {
     "name": "stdout",
     "output_type": "stream",
     "text": [
      "Wall time: 42.6 s\n"
     ]
    }
   ],
   "source": [
    "%%time\n",
    "param_grid = {'min_samples_split': [2,3,4,5,10,25,50,100]}\n",
    "\n",
    "clf = RandomForestClassifier(n_jobs=-1, random_state=42)\n",
    "\n",
    "cv = GridSearchCV(clf, param_grid=param_grid, \n",
    "                  scoring='f1_weighted', cv=5, \n",
    "                  iid=True, n_jobs=-1, \n",
    "                  return_train_score=True)\n",
    "\n",
    "cv.fit(X_train,y_train)"
   ]
  },
  {
   "cell_type": "code",
   "execution_count": 65,
   "metadata": {},
   "outputs": [
    {
     "data": {
      "text/html": [
       "<div>\n",
       "<style>\n",
       "    .dataframe thead tr:only-child th {\n",
       "        text-align: right;\n",
       "    }\n",
       "\n",
       "    .dataframe thead th {\n",
       "        text-align: left;\n",
       "    }\n",
       "\n",
       "    .dataframe tbody tr th {\n",
       "        vertical-align: top;\n",
       "    }\n",
       "</style>\n",
       "<table border=\"1\" class=\"dataframe\">\n",
       "  <thead>\n",
       "    <tr style=\"text-align: right;\">\n",
       "      <th></th>\n",
       "      <th>combined_mean_fit-test_time</th>\n",
       "      <th>mean_test_score</th>\n",
       "      <th>mean_train_score</th>\n",
       "      <th>min_samples_split</th>\n",
       "    </tr>\n",
       "  </thead>\n",
       "  <tbody>\n",
       "    <tr>\n",
       "      <th>0</th>\n",
       "      <td>1.473731</td>\n",
       "      <td>0.502990</td>\n",
       "      <td>0.977063</td>\n",
       "      <td>2</td>\n",
       "    </tr>\n",
       "    <tr>\n",
       "      <th>1</th>\n",
       "      <td>3.979908</td>\n",
       "      <td>0.508514</td>\n",
       "      <td>0.950357</td>\n",
       "      <td>3</td>\n",
       "    </tr>\n",
       "    <tr>\n",
       "      <th>2</th>\n",
       "      <td>5.731563</td>\n",
       "      <td>0.511425</td>\n",
       "      <td>0.922482</td>\n",
       "      <td>4</td>\n",
       "    </tr>\n",
       "    <tr>\n",
       "      <th>3</th>\n",
       "      <td>5.137546</td>\n",
       "      <td>0.512388</td>\n",
       "      <td>0.894911</td>\n",
       "      <td>5</td>\n",
       "    </tr>\n",
       "    <tr>\n",
       "      <th>4</th>\n",
       "      <td>4.976796</td>\n",
       "      <td>0.516058</td>\n",
       "      <td>0.791177</td>\n",
       "      <td>10</td>\n",
       "    </tr>\n",
       "    <tr>\n",
       "      <th>5</th>\n",
       "      <td>5.364788</td>\n",
       "      <td>0.516848</td>\n",
       "      <td>0.669401</td>\n",
       "      <td>25</td>\n",
       "    </tr>\n",
       "    <tr>\n",
       "      <th>6</th>\n",
       "      <td>4.638996</td>\n",
       "      <td>0.514864</td>\n",
       "      <td>0.606484</td>\n",
       "      <td>50</td>\n",
       "    </tr>\n",
       "    <tr>\n",
       "      <th>7</th>\n",
       "      <td>3.893256</td>\n",
       "      <td>0.514250</td>\n",
       "      <td>0.564602</td>\n",
       "      <td>100</td>\n",
       "    </tr>\n",
       "  </tbody>\n",
       "</table>\n",
       "</div>"
      ],
      "text/plain": [
       "   combined_mean_fit-test_time  mean_test_score  mean_train_score  \\\n",
       "0                     1.473731         0.502990          0.977063   \n",
       "1                     3.979908         0.508514          0.950357   \n",
       "2                     5.731563         0.511425          0.922482   \n",
       "3                     5.137546         0.512388          0.894911   \n",
       "4                     4.976796         0.516058          0.791177   \n",
       "5                     5.364788         0.516848          0.669401   \n",
       "6                     4.638996         0.514864          0.606484   \n",
       "7                     3.893256         0.514250          0.564602   \n",
       "\n",
       "   min_samples_split  \n",
       "0                  2  \n",
       "1                  3  \n",
       "2                  4  \n",
       "3                  5  \n",
       "4                 10  \n",
       "5                 25  \n",
       "6                 50  \n",
       "7                100  "
      ]
     },
     "execution_count": 65,
     "metadata": {},
     "output_type": "execute_result"
    }
   ],
   "source": [
    "results = pd.DataFrame({'min_samples_split' : [2,3,4,5,10,25,50,100],\n",
    "                        'combined_mean_fit-test_time': cv.cv_results_['mean_fit_time'] + cv.cv_results_['mean_score_time'],\n",
    "                        'mean_test_score': cv.cv_results_['mean_test_score'],\n",
    "                       'mean_train_score': cv.cv_results_['mean_train_score']})\n",
    "\n",
    "results"
   ]
  },
  {
   "cell_type": "code",
   "execution_count": 66,
   "metadata": {},
   "outputs": [
    {
     "data": {
      "application/vnd.plotly.v1+json": {
       "data": [
        {
         "mode": "lines+markers",
         "name": "Combined Mean Train+Test Time",
         "type": "scattergl",
         "uid": "d6b310b4-a666-11e9-a3fb-28c63f3df6d4",
         "x": [
          2,
          3,
          4,
          5,
          10,
          25,
          50,
          100
         ],
         "y": [
          1.473730993270874,
          3.9799082279205322,
          5.731563234329224,
          5.137545585632324,
          4.9767961502075195,
          5.364787721633911,
          4.638996124267578,
          3.8932558059692384
         ]
        },
        {
         "mode": "lines+markers",
         "name": "Mean Test Score",
         "type": "scattergl",
         "uid": "d6b310b5-a666-11e9-b4e7-28c63f3df6d4",
         "x": [
          2,
          3,
          4,
          5,
          10,
          25,
          50,
          100
         ],
         "y": [
          0.5029901465063431,
          0.5085138455965034,
          0.5114253921456552,
          0.5123877701855969,
          0.5160579516442381,
          0.5168479684567376,
          0.5148641871970915,
          0.5142496295264639
         ],
         "yaxis": "y2"
        }
       ],
       "layout": {
        "legend": {
         "orientation": "h",
         "y": 1.12
        },
        "margin": {
         "t": 120
        },
        "title": "Model Train+Test Time & Test Score vs N_estimators",
        "xaxis": {
         "title": "min_samples_split"
        },
        "yaxis": {
         "title": "Combined Train+Test Time"
        },
        "yaxis2": {
         "side": "right",
         "title": "Mean Test Score"
        }
       }
      },
      "text/html": [
       "<div id=\"274a6f6c-a842-4f0c-b834-0b66cc21e0bb\" style=\"height: 525px; width: 100%;\" class=\"plotly-graph-div\"></div><script type=\"text/javascript\">require([\"plotly\"], function(Plotly) { window.PLOTLYENV=window.PLOTLYENV || {};window.PLOTLYENV.BASE_URL=\"https://plot.ly\";\n",
       "        Plotly.plot(\n",
       "            '274a6f6c-a842-4f0c-b834-0b66cc21e0bb',\n",
       "            [{\"mode\": \"lines+markers\", \"name\": \"Combined Mean Train+Test Time\", \"x\": [2.0, 3.0, 4.0, 5.0, 10.0, 25.0, 50.0, 100.0], \"y\": [1.473730993270874, 3.9799082279205322, 5.731563234329224, 5.137545585632324, 4.9767961502075195, 5.364787721633911, 4.638996124267578, 3.8932558059692384], \"type\": \"scattergl\", \"uid\": \"d6b310b4-a666-11e9-a3fb-28c63f3df6d4\"}, {\"mode\": \"lines+markers\", \"name\": \"Mean Test Score\", \"x\": [2.0, 3.0, 4.0, 5.0, 10.0, 25.0, 50.0, 100.0], \"y\": [0.5029901465063431, 0.5085138455965034, 0.5114253921456552, 0.5123877701855969, 0.5160579516442381, 0.5168479684567376, 0.5148641871970915, 0.5142496295264639], \"yaxis\": \"y2\", \"type\": \"scattergl\", \"uid\": \"d6b310b5-a666-11e9-b4e7-28c63f3df6d4\"}],\n",
       "            {\"legend\": {\"orientation\": \"h\", \"y\": 1.12}, \"margin\": {\"t\": 120}, \"title\": \"Model Train+Test Time & Test Score vs N_estimators\", \"xaxis\": {\"title\": \"min_samples_split\"}, \"yaxis\": {\"title\": \"Combined Train+Test Time\"}, \"yaxis2\": {\"side\": \"right\", \"title\": \"Mean Test Score\"}},\n",
       "            {\"showLink\": true, \"linkText\": \"Export to plot.ly\"}\n",
       "        ).then(function () {return Plotly.addFrames('274a6f6c-a842-4f0c-b834-0b66cc21e0bb',{});}).then(function(){Plotly.animate('274a6f6c-a842-4f0c-b834-0b66cc21e0bb');})\n",
       "        });</script>"
      ],
      "text/vnd.plotly.v1+html": [
       "<div id=\"274a6f6c-a842-4f0c-b834-0b66cc21e0bb\" style=\"height: 525px; width: 100%;\" class=\"plotly-graph-div\"></div><script type=\"text/javascript\">require([\"plotly\"], function(Plotly) { window.PLOTLYENV=window.PLOTLYENV || {};window.PLOTLYENV.BASE_URL=\"https://plot.ly\";\n",
       "        Plotly.plot(\n",
       "            '274a6f6c-a842-4f0c-b834-0b66cc21e0bb',\n",
       "            [{\"mode\": \"lines+markers\", \"name\": \"Combined Mean Train+Test Time\", \"x\": [2.0, 3.0, 4.0, 5.0, 10.0, 25.0, 50.0, 100.0], \"y\": [1.473730993270874, 3.9799082279205322, 5.731563234329224, 5.137545585632324, 4.9767961502075195, 5.364787721633911, 4.638996124267578, 3.8932558059692384], \"type\": \"scattergl\", \"uid\": \"d6b310b4-a666-11e9-a3fb-28c63f3df6d4\"}, {\"mode\": \"lines+markers\", \"name\": \"Mean Test Score\", \"x\": [2.0, 3.0, 4.0, 5.0, 10.0, 25.0, 50.0, 100.0], \"y\": [0.5029901465063431, 0.5085138455965034, 0.5114253921456552, 0.5123877701855969, 0.5160579516442381, 0.5168479684567376, 0.5148641871970915, 0.5142496295264639], \"yaxis\": \"y2\", \"type\": \"scattergl\", \"uid\": \"d6b310b5-a666-11e9-b4e7-28c63f3df6d4\"}],\n",
       "            {\"legend\": {\"orientation\": \"h\", \"y\": 1.12}, \"margin\": {\"t\": 120}, \"title\": \"Model Train+Test Time & Test Score vs N_estimators\", \"xaxis\": {\"title\": \"min_samples_split\"}, \"yaxis\": {\"title\": \"Combined Train+Test Time\"}, \"yaxis2\": {\"side\": \"right\", \"title\": \"Mean Test Score\"}},\n",
       "            {\"showLink\": true, \"linkText\": \"Export to plot.ly\"}\n",
       "        ).then(function () {return Plotly.addFrames('274a6f6c-a842-4f0c-b834-0b66cc21e0bb',{});}).then(function(){Plotly.animate('274a6f6c-a842-4f0c-b834-0b66cc21e0bb');})\n",
       "        });</script>"
      ]
     },
     "metadata": {},
     "output_type": "display_data"
    }
   ],
   "source": [
    "plot_cv(results, param='min_samples_split')"
   ]
  },
  {
   "cell_type": "code",
   "execution_count": null,
   "metadata": {},
   "outputs": [],
   "source": []
  },
  {
   "cell_type": "markdown",
   "metadata": {},
   "source": [
    "#### min_samples_leaf"
   ]
  },
  {
   "cell_type": "code",
   "execution_count": 71,
   "metadata": {},
   "outputs": [
    {
     "name": "stdout",
     "output_type": "stream",
     "text": [
      "Wall time: 34.4 s\n"
     ]
    }
   ],
   "source": [
    "%%time\n",
    "param_grid = {'min_samples_leaf': [2,3,4,5,10,25,50,100]}\n",
    "\n",
    "clf = RandomForestClassifier(n_jobs=-1, random_state=42)\n",
    "\n",
    "cv = GridSearchCV(clf, param_grid=param_grid, \n",
    "                  scoring='f1_weighted', cv=5, \n",
    "                  iid=True, n_jobs=-1, \n",
    "                  return_train_score=True)\n",
    "\n",
    "cv.fit(X_train,y_train)"
   ]
  },
  {
   "cell_type": "code",
   "execution_count": 72,
   "metadata": {},
   "outputs": [
    {
     "data": {
      "text/html": [
       "<div>\n",
       "<style>\n",
       "    .dataframe thead tr:only-child th {\n",
       "        text-align: right;\n",
       "    }\n",
       "\n",
       "    .dataframe thead th {\n",
       "        text-align: left;\n",
       "    }\n",
       "\n",
       "    .dataframe tbody tr th {\n",
       "        vertical-align: top;\n",
       "    }\n",
       "</style>\n",
       "<table border=\"1\" class=\"dataframe\">\n",
       "  <thead>\n",
       "    <tr style=\"text-align: right;\">\n",
       "      <th></th>\n",
       "      <th>combined_mean_fit-test_time</th>\n",
       "      <th>mean_test_score</th>\n",
       "      <th>mean_train_score</th>\n",
       "      <th>min_samples_leaf</th>\n",
       "    </tr>\n",
       "  </thead>\n",
       "  <tbody>\n",
       "    <tr>\n",
       "      <th>0</th>\n",
       "      <td>1.081507</td>\n",
       "      <td>0.514596</td>\n",
       "      <td>0.794307</td>\n",
       "      <td>2</td>\n",
       "    </tr>\n",
       "    <tr>\n",
       "      <th>1</th>\n",
       "      <td>2.887071</td>\n",
       "      <td>0.514521</td>\n",
       "      <td>0.700129</td>\n",
       "      <td>3</td>\n",
       "    </tr>\n",
       "    <tr>\n",
       "      <th>2</th>\n",
       "      <td>4.853926</td>\n",
       "      <td>0.513977</td>\n",
       "      <td>0.653190</td>\n",
       "      <td>4</td>\n",
       "    </tr>\n",
       "    <tr>\n",
       "      <th>3</th>\n",
       "      <td>4.244852</td>\n",
       "      <td>0.513873</td>\n",
       "      <td>0.626746</td>\n",
       "      <td>5</td>\n",
       "    </tr>\n",
       "    <tr>\n",
       "      <th>4</th>\n",
       "      <td>3.542787</td>\n",
       "      <td>0.509917</td>\n",
       "      <td>0.569166</td>\n",
       "      <td>10</td>\n",
       "    </tr>\n",
       "    <tr>\n",
       "      <th>5</th>\n",
       "      <td>3.508213</td>\n",
       "      <td>0.501484</td>\n",
       "      <td>0.527091</td>\n",
       "      <td>25</td>\n",
       "    </tr>\n",
       "    <tr>\n",
       "      <th>6</th>\n",
       "      <td>2.928419</td>\n",
       "      <td>0.494499</td>\n",
       "      <td>0.507405</td>\n",
       "      <td>50</td>\n",
       "    </tr>\n",
       "    <tr>\n",
       "      <th>7</th>\n",
       "      <td>2.645871</td>\n",
       "      <td>0.485798</td>\n",
       "      <td>0.492205</td>\n",
       "      <td>100</td>\n",
       "    </tr>\n",
       "  </tbody>\n",
       "</table>\n",
       "</div>"
      ],
      "text/plain": [
       "   combined_mean_fit-test_time  mean_test_score  mean_train_score  \\\n",
       "0                     1.081507         0.514596          0.794307   \n",
       "1                     2.887071         0.514521          0.700129   \n",
       "2                     4.853926         0.513977          0.653190   \n",
       "3                     4.244852         0.513873          0.626746   \n",
       "4                     3.542787         0.509917          0.569166   \n",
       "5                     3.508213         0.501484          0.527091   \n",
       "6                     2.928419         0.494499          0.507405   \n",
       "7                     2.645871         0.485798          0.492205   \n",
       "\n",
       "   min_samples_leaf  \n",
       "0                 2  \n",
       "1                 3  \n",
       "2                 4  \n",
       "3                 5  \n",
       "4                10  \n",
       "5                25  \n",
       "6                50  \n",
       "7               100  "
      ]
     },
     "execution_count": 72,
     "metadata": {},
     "output_type": "execute_result"
    }
   ],
   "source": [
    "results = pd.DataFrame({'min_samples_leaf' : [2,3,4,5,10,25,50,100],\n",
    "                        'combined_mean_fit-test_time': cv.cv_results_['mean_fit_time'] + cv.cv_results_['mean_score_time'],\n",
    "                        'mean_test_score': cv.cv_results_['mean_test_score'],\n",
    "                       'mean_train_score': cv.cv_results_['mean_train_score']})\n",
    "\n",
    "results"
   ]
  },
  {
   "cell_type": "markdown",
   "metadata": {},
   "source": [
    "#### criterion"
   ]
  },
  {
   "cell_type": "code",
   "execution_count": 73,
   "metadata": {},
   "outputs": [
    {
     "name": "stdout",
     "output_type": "stream",
     "text": [
      "Wall time: 18.7 s\n"
     ]
    }
   ],
   "source": [
    "%%time\n",
    "param_grid = {'criterion': [\"gini\", \"entropy\"]}\n",
    "\n",
    "clf = RandomForestClassifier(n_jobs=-1, random_state=42)\n",
    "\n",
    "cv = GridSearchCV(clf, param_grid=param_grid, \n",
    "                  scoring='f1_weighted', cv=5, \n",
    "                  iid=True, n_jobs=-1, \n",
    "                  return_train_score=True)\n",
    "\n",
    "cv.fit(X_train,y_train)"
   ]
  },
  {
   "cell_type": "code",
   "execution_count": 74,
   "metadata": {},
   "outputs": [
    {
     "data": {
      "text/html": [
       "<div>\n",
       "<style>\n",
       "    .dataframe thead tr:only-child th {\n",
       "        text-align: right;\n",
       "    }\n",
       "\n",
       "    .dataframe thead th {\n",
       "        text-align: left;\n",
       "    }\n",
       "\n",
       "    .dataframe tbody tr th {\n",
       "        vertical-align: top;\n",
       "    }\n",
       "</style>\n",
       "<table border=\"1\" class=\"dataframe\">\n",
       "  <thead>\n",
       "    <tr style=\"text-align: right;\">\n",
       "      <th></th>\n",
       "      <th>combined_mean_fit-test_time</th>\n",
       "      <th>criterion</th>\n",
       "      <th>mean_test_score</th>\n",
       "      <th>mean_train_score</th>\n",
       "    </tr>\n",
       "  </thead>\n",
       "  <tbody>\n",
       "    <tr>\n",
       "      <th>0</th>\n",
       "      <td>1.550646</td>\n",
       "      <td>gini</td>\n",
       "      <td>0.50299</td>\n",
       "      <td>0.977063</td>\n",
       "    </tr>\n",
       "    <tr>\n",
       "      <th>1</th>\n",
       "      <td>2.316627</td>\n",
       "      <td>entropy</td>\n",
       "      <td>0.50109</td>\n",
       "      <td>0.976539</td>\n",
       "    </tr>\n",
       "  </tbody>\n",
       "</table>\n",
       "</div>"
      ],
      "text/plain": [
       "   combined_mean_fit-test_time criterion  mean_test_score  mean_train_score\n",
       "0                     1.550646      gini          0.50299          0.977063\n",
       "1                     2.316627   entropy          0.50109          0.976539"
      ]
     },
     "execution_count": 74,
     "metadata": {},
     "output_type": "execute_result"
    }
   ],
   "source": [
    "results = pd.DataFrame({'criterion' : ['gini', 'entropy'],\n",
    "                        'combined_mean_fit-test_time': cv.cv_results_['mean_fit_time'] + cv.cv_results_['mean_score_time'],\n",
    "                        'mean_test_score': cv.cv_results_['mean_test_score'],\n",
    "                       'mean_train_score': cv.cv_results_['mean_train_score']})\n",
    "\n",
    "results"
   ]
  },
  {
   "cell_type": "markdown",
   "metadata": {},
   "source": [
    "#### max_features"
   ]
  },
  {
   "cell_type": "code",
   "execution_count": 75,
   "metadata": {},
   "outputs": [
    {
     "name": "stdout",
     "output_type": "stream",
     "text": [
      "Wall time: 1min 24s\n"
     ]
    }
   ],
   "source": [
    "%%time\n",
    "param_grid = {'max_features': [2, 10, 25, 50, 100, 150]}\n",
    "\n",
    "clf = RandomForestClassifier(n_jobs=-1)\n",
    "\n",
    "cv = GridSearchCV(clf, param_grid=param_grid, \n",
    "                  scoring='f1_weighted', cv=5, \n",
    "                  iid=True, n_jobs=-1, \n",
    "                  return_train_score=True)\n",
    "\n",
    "cv.fit(X_train,y_train)"
   ]
  },
  {
   "cell_type": "code",
   "execution_count": 76,
   "metadata": {},
   "outputs": [
    {
     "data": {
      "text/html": [
       "<div>\n",
       "<style>\n",
       "    .dataframe thead tr:only-child th {\n",
       "        text-align: right;\n",
       "    }\n",
       "\n",
       "    .dataframe thead th {\n",
       "        text-align: left;\n",
       "    }\n",
       "\n",
       "    .dataframe tbody tr th {\n",
       "        vertical-align: top;\n",
       "    }\n",
       "</style>\n",
       "<table border=\"1\" class=\"dataframe\">\n",
       "  <thead>\n",
       "    <tr style=\"text-align: right;\">\n",
       "      <th></th>\n",
       "      <th>combined_mean_fit-test_time</th>\n",
       "      <th>max_features</th>\n",
       "      <th>mean_test_score</th>\n",
       "      <th>mean_train_score</th>\n",
       "    </tr>\n",
       "  </thead>\n",
       "  <tbody>\n",
       "    <tr>\n",
       "      <th>0</th>\n",
       "      <td>1.131247</td>\n",
       "      <td>2</td>\n",
       "      <td>0.486668</td>\n",
       "      <td>0.976429</td>\n",
       "    </tr>\n",
       "    <tr>\n",
       "      <th>1</th>\n",
       "      <td>4.126612</td>\n",
       "      <td>10</td>\n",
       "      <td>0.499394</td>\n",
       "      <td>0.977091</td>\n",
       "    </tr>\n",
       "    <tr>\n",
       "      <th>2</th>\n",
       "      <td>8.166927</td>\n",
       "      <td>25</td>\n",
       "      <td>0.507646</td>\n",
       "      <td>0.976184</td>\n",
       "    </tr>\n",
       "    <tr>\n",
       "      <th>3</th>\n",
       "      <td>15.851055</td>\n",
       "      <td>50</td>\n",
       "      <td>0.511771</td>\n",
       "      <td>0.975862</td>\n",
       "    </tr>\n",
       "    <tr>\n",
       "      <th>4</th>\n",
       "      <td>25.009694</td>\n",
       "      <td>100</td>\n",
       "      <td>0.512960</td>\n",
       "      <td>0.975006</td>\n",
       "    </tr>\n",
       "    <tr>\n",
       "      <th>5</th>\n",
       "      <td>26.563426</td>\n",
       "      <td>150</td>\n",
       "      <td>0.513040</td>\n",
       "      <td>0.974943</td>\n",
       "    </tr>\n",
       "  </tbody>\n",
       "</table>\n",
       "</div>"
      ],
      "text/plain": [
       "   combined_mean_fit-test_time  max_features  mean_test_score  \\\n",
       "0                     1.131247             2         0.486668   \n",
       "1                     4.126612            10         0.499394   \n",
       "2                     8.166927            25         0.507646   \n",
       "3                    15.851055            50         0.511771   \n",
       "4                    25.009694           100         0.512960   \n",
       "5                    26.563426           150         0.513040   \n",
       "\n",
       "   mean_train_score  \n",
       "0          0.976429  \n",
       "1          0.977091  \n",
       "2          0.976184  \n",
       "3          0.975862  \n",
       "4          0.975006  \n",
       "5          0.974943  "
      ]
     },
     "execution_count": 76,
     "metadata": {},
     "output_type": "execute_result"
    }
   ],
   "source": [
    "results = pd.DataFrame({'max_features': [2, 10, 25, 50, 100, 150],\n",
    "                        'combined_mean_fit-test_time': cv.cv_results_['mean_fit_time'] + cv.cv_results_['mean_score_time'],\n",
    "                        'mean_test_score': cv.cv_results_['mean_test_score'],\n",
    "                       'mean_train_score': cv.cv_results_['mean_train_score']})\n",
    "\n",
    "results"
   ]
  },
  {
   "cell_type": "code",
   "execution_count": 77,
   "metadata": {},
   "outputs": [
    {
     "data": {
      "application/vnd.plotly.v1+json": {
       "data": [
        {
         "mode": "lines+markers",
         "name": "Combined Mean Train+Test Time",
         "type": "scattergl",
         "uid": "61a3746e-a667-11e9-b589-28c63f3df6d4",
         "x": [
          2,
          10,
          25,
          50,
          100,
          150
         ],
         "y": [
          1.131246566772461,
          4.126611709594727,
          8.166927289962768,
          15.851055097579955,
          25.0096941947937,
          26.563426446914676
         ]
        },
        {
         "mode": "lines+markers",
         "name": "Mean Test Score",
         "type": "scattergl",
         "uid": "61a3746f-a667-11e9-aae3-28c63f3df6d4",
         "x": [
          2,
          10,
          25,
          50,
          100,
          150
         ],
         "y": [
          0.4866679946947913,
          0.499394033548092,
          0.5076461993633453,
          0.5117708613694586,
          0.5129603604419195,
          0.5130401800854892
         ],
         "yaxis": "y2"
        }
       ],
       "layout": {
        "legend": {
         "orientation": "h",
         "y": 1.12
        },
        "margin": {
         "t": 120
        },
        "title": "Model Train+Test Time & Test Score vs N_estimators",
        "xaxis": {
         "title": "max_features"
        },
        "yaxis": {
         "title": "Combined Train+Test Time"
        },
        "yaxis2": {
         "side": "right",
         "title": "Mean Test Score"
        }
       }
      },
      "text/html": [
       "<div id=\"4d35e41d-77c6-4bf7-b54a-95f46f0ddc6d\" style=\"height: 525px; width: 100%;\" class=\"plotly-graph-div\"></div><script type=\"text/javascript\">require([\"plotly\"], function(Plotly) { window.PLOTLYENV=window.PLOTLYENV || {};window.PLOTLYENV.BASE_URL=\"https://plot.ly\";\n",
       "        Plotly.plot(\n",
       "            '4d35e41d-77c6-4bf7-b54a-95f46f0ddc6d',\n",
       "            [{\"mode\": \"lines+markers\", \"name\": \"Combined Mean Train+Test Time\", \"x\": [2.0, 10.0, 25.0, 50.0, 100.0, 150.0], \"y\": [1.131246566772461, 4.126611709594727, 8.166927289962768, 15.851055097579955, 25.0096941947937, 26.563426446914676], \"type\": \"scattergl\", \"uid\": \"61a3746e-a667-11e9-b589-28c63f3df6d4\"}, {\"mode\": \"lines+markers\", \"name\": \"Mean Test Score\", \"x\": [2.0, 10.0, 25.0, 50.0, 100.0, 150.0], \"y\": [0.4866679946947913, 0.499394033548092, 0.5076461993633453, 0.5117708613694586, 0.5129603604419195, 0.5130401800854892], \"yaxis\": \"y2\", \"type\": \"scattergl\", \"uid\": \"61a3746f-a667-11e9-aae3-28c63f3df6d4\"}],\n",
       "            {\"legend\": {\"orientation\": \"h\", \"y\": 1.12}, \"margin\": {\"t\": 120}, \"title\": \"Model Train+Test Time & Test Score vs N_estimators\", \"xaxis\": {\"title\": \"max_features\"}, \"yaxis\": {\"title\": \"Combined Train+Test Time\"}, \"yaxis2\": {\"side\": \"right\", \"title\": \"Mean Test Score\"}},\n",
       "            {\"showLink\": true, \"linkText\": \"Export to plot.ly\"}\n",
       "        ).then(function () {return Plotly.addFrames('4d35e41d-77c6-4bf7-b54a-95f46f0ddc6d',{});}).then(function(){Plotly.animate('4d35e41d-77c6-4bf7-b54a-95f46f0ddc6d');})\n",
       "        });</script>"
      ],
      "text/vnd.plotly.v1+html": [
       "<div id=\"4d35e41d-77c6-4bf7-b54a-95f46f0ddc6d\" style=\"height: 525px; width: 100%;\" class=\"plotly-graph-div\"></div><script type=\"text/javascript\">require([\"plotly\"], function(Plotly) { window.PLOTLYENV=window.PLOTLYENV || {};window.PLOTLYENV.BASE_URL=\"https://plot.ly\";\n",
       "        Plotly.plot(\n",
       "            '4d35e41d-77c6-4bf7-b54a-95f46f0ddc6d',\n",
       "            [{\"mode\": \"lines+markers\", \"name\": \"Combined Mean Train+Test Time\", \"x\": [2.0, 10.0, 25.0, 50.0, 100.0, 150.0], \"y\": [1.131246566772461, 4.126611709594727, 8.166927289962768, 15.851055097579955, 25.0096941947937, 26.563426446914676], \"type\": \"scattergl\", \"uid\": \"61a3746e-a667-11e9-b589-28c63f3df6d4\"}, {\"mode\": \"lines+markers\", \"name\": \"Mean Test Score\", \"x\": [2.0, 10.0, 25.0, 50.0, 100.0, 150.0], \"y\": [0.4866679946947913, 0.499394033548092, 0.5076461993633453, 0.5117708613694586, 0.5129603604419195, 0.5130401800854892], \"yaxis\": \"y2\", \"type\": \"scattergl\", \"uid\": \"61a3746f-a667-11e9-aae3-28c63f3df6d4\"}],\n",
       "            {\"legend\": {\"orientation\": \"h\", \"y\": 1.12}, \"margin\": {\"t\": 120}, \"title\": \"Model Train+Test Time & Test Score vs N_estimators\", \"xaxis\": {\"title\": \"max_features\"}, \"yaxis\": {\"title\": \"Combined Train+Test Time\"}, \"yaxis2\": {\"side\": \"right\", \"title\": \"Mean Test Score\"}},\n",
       "            {\"showLink\": true, \"linkText\": \"Export to plot.ly\"}\n",
       "        ).then(function () {return Plotly.addFrames('4d35e41d-77c6-4bf7-b54a-95f46f0ddc6d',{});}).then(function(){Plotly.animate('4d35e41d-77c6-4bf7-b54a-95f46f0ddc6d');})\n",
       "        });</script>"
      ]
     },
     "metadata": {},
     "output_type": "display_data"
    }
   ],
   "source": [
    "plot_cv(results, 'max_features')"
   ]
  },
  {
   "cell_type": "markdown",
   "metadata": {},
   "source": [
    "#### oob_score"
   ]
  },
  {
   "cell_type": "code",
   "execution_count": 78,
   "metadata": {},
   "outputs": [
    {
     "name": "stdout",
     "output_type": "stream",
     "text": [
      "Wall time: 17.7 s\n"
     ]
    }
   ],
   "source": [
    "%%time\n",
    "param_grid = {'oob_score': [True, False]}\n",
    "\n",
    "clf = RandomForestClassifier(n_jobs=-1)\n",
    "\n",
    "cv = GridSearchCV(clf, param_grid=param_grid, \n",
    "                  scoring='f1_weighted', cv=5, \n",
    "                  iid=True, n_jobs=-1, \n",
    "                  return_train_score=True)\n",
    "\n",
    "cv.fit(X_train,y_train)"
   ]
  },
  {
   "cell_type": "code",
   "execution_count": 79,
   "metadata": {},
   "outputs": [
    {
     "data": {
      "text/html": [
       "<div>\n",
       "<style>\n",
       "    .dataframe thead tr:only-child th {\n",
       "        text-align: right;\n",
       "    }\n",
       "\n",
       "    .dataframe thead th {\n",
       "        text-align: left;\n",
       "    }\n",
       "\n",
       "    .dataframe tbody tr th {\n",
       "        vertical-align: top;\n",
       "    }\n",
       "</style>\n",
       "<table border=\"1\" class=\"dataframe\">\n",
       "  <thead>\n",
       "    <tr style=\"text-align: right;\">\n",
       "      <th></th>\n",
       "      <th>combined_mean_fit-test_time</th>\n",
       "      <th>mean_test_score</th>\n",
       "      <th>mean_train_score</th>\n",
       "      <th>oob_score</th>\n",
       "    </tr>\n",
       "  </thead>\n",
       "  <tbody>\n",
       "    <tr>\n",
       "      <th>0</th>\n",
       "      <td>1.901680</td>\n",
       "      <td>0.503503</td>\n",
       "      <td>0.976880</td>\n",
       "      <td>True</td>\n",
       "    </tr>\n",
       "    <tr>\n",
       "      <th>1</th>\n",
       "      <td>2.120224</td>\n",
       "      <td>0.504003</td>\n",
       "      <td>0.977537</td>\n",
       "      <td>False</td>\n",
       "    </tr>\n",
       "  </tbody>\n",
       "</table>\n",
       "</div>"
      ],
      "text/plain": [
       "   combined_mean_fit-test_time  mean_test_score  mean_train_score  oob_score\n",
       "0                     1.901680         0.503503          0.976880       True\n",
       "1                     2.120224         0.504003          0.977537      False"
      ]
     },
     "execution_count": 79,
     "metadata": {},
     "output_type": "execute_result"
    }
   ],
   "source": [
    "results = pd.DataFrame({'oob_score': [True, False],\n",
    "                        'combined_mean_fit-test_time': cv.cv_results_['mean_fit_time'] + cv.cv_results_['mean_score_time'],\n",
    "                        'mean_test_score': cv.cv_results_['mean_test_score'],\n",
    "                       'mean_train_score': cv.cv_results_['mean_train_score']})\n",
    "\n",
    "results"
   ]
  },
  {
   "cell_type": "markdown",
   "metadata": {},
   "source": [
    "#### warm_start"
   ]
  },
  {
   "cell_type": "code",
   "execution_count": 80,
   "metadata": {},
   "outputs": [
    {
     "name": "stdout",
     "output_type": "stream",
     "text": [
      "Wall time: 18.2 s\n"
     ]
    }
   ],
   "source": [
    "%%time\n",
    "param_grid = {'warm_start': [True, False]}\n",
    "\n",
    "clf = RandomForestClassifier(n_jobs=-1)\n",
    "\n",
    "cv = GridSearchCV(clf, param_grid=param_grid, \n",
    "                  scoring='f1_weighted', cv=5, \n",
    "                  iid=True, n_jobs=-1, \n",
    "                  return_train_score=True)\n",
    "\n",
    "cv.fit(X_train,y_train)"
   ]
  },
  {
   "cell_type": "code",
   "execution_count": 81,
   "metadata": {},
   "outputs": [
    {
     "data": {
      "text/html": [
       "<div>\n",
       "<style>\n",
       "    .dataframe thead tr:only-child th {\n",
       "        text-align: right;\n",
       "    }\n",
       "\n",
       "    .dataframe thead th {\n",
       "        text-align: left;\n",
       "    }\n",
       "\n",
       "    .dataframe tbody tr th {\n",
       "        vertical-align: top;\n",
       "    }\n",
       "</style>\n",
       "<table border=\"1\" class=\"dataframe\">\n",
       "  <thead>\n",
       "    <tr style=\"text-align: right;\">\n",
       "      <th></th>\n",
       "      <th>combined_mean_fit-test_time</th>\n",
       "      <th>mean_test_score</th>\n",
       "      <th>mean_train_score</th>\n",
       "      <th>warm_start</th>\n",
       "    </tr>\n",
       "  </thead>\n",
       "  <tbody>\n",
       "    <tr>\n",
       "      <th>0</th>\n",
       "      <td>1.335766</td>\n",
       "      <td>0.502620</td>\n",
       "      <td>0.976584</td>\n",
       "      <td>True</td>\n",
       "    </tr>\n",
       "    <tr>\n",
       "      <th>1</th>\n",
       "      <td>2.241348</td>\n",
       "      <td>0.505112</td>\n",
       "      <td>0.976516</td>\n",
       "      <td>False</td>\n",
       "    </tr>\n",
       "  </tbody>\n",
       "</table>\n",
       "</div>"
      ],
      "text/plain": [
       "   combined_mean_fit-test_time  mean_test_score  mean_train_score  warm_start\n",
       "0                     1.335766         0.502620          0.976584        True\n",
       "1                     2.241348         0.505112          0.976516       False"
      ]
     },
     "execution_count": 81,
     "metadata": {},
     "output_type": "execute_result"
    }
   ],
   "source": [
    "results = pd.DataFrame({'warm_start': [True, False],\n",
    "                        'combined_mean_fit-test_time': cv.cv_results_['mean_fit_time'] + cv.cv_results_['mean_score_time'],\n",
    "                        'mean_test_score': cv.cv_results_['mean_test_score'],\n",
    "                       'mean_train_score': cv.cv_results_['mean_train_score']})\n",
    "\n",
    "results"
   ]
  },
  {
   "cell_type": "markdown",
   "metadata": {},
   "source": [
    "#### class_weight"
   ]
  },
  {
   "cell_type": "code",
   "execution_count": 82,
   "metadata": {},
   "outputs": [
    {
     "name": "stdout",
     "output_type": "stream",
     "text": [
      "Wall time: 26.1 s\n"
     ]
    }
   ],
   "source": [
    "%%time\n",
    "param_grid = {'class_weight': [None, 'balanced', 'balanced_subsample']}\n",
    "\n",
    "clf = RandomForestClassifier(n_jobs=-1)\n",
    "\n",
    "cv = GridSearchCV(clf, param_grid=param_grid, \n",
    "                  scoring='f1_weighted', cv=5, \n",
    "                  iid=True, n_jobs=-1, \n",
    "                  return_train_score=True)\n",
    "\n",
    "cv.fit(X_train,y_train)"
   ]
  },
  {
   "cell_type": "code",
   "execution_count": 83,
   "metadata": {},
   "outputs": [
    {
     "data": {
      "text/html": [
       "<div>\n",
       "<style>\n",
       "    .dataframe thead tr:only-child th {\n",
       "        text-align: right;\n",
       "    }\n",
       "\n",
       "    .dataframe thead th {\n",
       "        text-align: left;\n",
       "    }\n",
       "\n",
       "    .dataframe tbody tr th {\n",
       "        vertical-align: top;\n",
       "    }\n",
       "</style>\n",
       "<table border=\"1\" class=\"dataframe\">\n",
       "  <thead>\n",
       "    <tr style=\"text-align: right;\">\n",
       "      <th></th>\n",
       "      <th>class_weight</th>\n",
       "      <th>combined_mean_fit-test_time</th>\n",
       "      <th>mean_test_score</th>\n",
       "      <th>mean_train_score</th>\n",
       "    </tr>\n",
       "  </thead>\n",
       "  <tbody>\n",
       "    <tr>\n",
       "      <th>0</th>\n",
       "      <td>None</td>\n",
       "      <td>1.538506</td>\n",
       "      <td>0.503074</td>\n",
       "      <td>0.976677</td>\n",
       "    </tr>\n",
       "    <tr>\n",
       "      <th>1</th>\n",
       "      <td>balanced</td>\n",
       "      <td>4.328634</td>\n",
       "      <td>0.497881</td>\n",
       "      <td>0.977521</td>\n",
       "    </tr>\n",
       "    <tr>\n",
       "      <th>2</th>\n",
       "      <td>balanced_subsample</td>\n",
       "      <td>6.721630</td>\n",
       "      <td>0.497269</td>\n",
       "      <td>0.977080</td>\n",
       "    </tr>\n",
       "  </tbody>\n",
       "</table>\n",
       "</div>"
      ],
      "text/plain": [
       "         class_weight  combined_mean_fit-test_time  mean_test_score  \\\n",
       "0                None                     1.538506         0.503074   \n",
       "1            balanced                     4.328634         0.497881   \n",
       "2  balanced_subsample                     6.721630         0.497269   \n",
       "\n",
       "   mean_train_score  \n",
       "0          0.976677  \n",
       "1          0.977521  \n",
       "2          0.977080  "
      ]
     },
     "execution_count": 83,
     "metadata": {},
     "output_type": "execute_result"
    }
   ],
   "source": [
    "results = pd.DataFrame({'class_weight': [None, 'balanced', 'balanced_subsample'],\n",
    "                        'combined_mean_fit-test_time': cv.cv_results_['mean_fit_time'] + cv.cv_results_['mean_score_time'],\n",
    "                        'mean_test_score': cv.cv_results_['mean_test_score'],\n",
    "                       'mean_train_score': cv.cv_results_['mean_train_score']})\n",
    "\n",
    "results"
   ]
  },
  {
   "cell_type": "markdown",
   "metadata": {},
   "source": [
    "#### max_leaf_nodes"
   ]
  },
  {
   "cell_type": "code",
   "execution_count": 84,
   "metadata": {},
   "outputs": [
    {
     "name": "stdout",
     "output_type": "stream",
     "text": [
      "Wall time: 22.8 s\n"
     ]
    }
   ],
   "source": [
    "%%time\n",
    "param_grid = {'max_leaf_nodes': [None, 10, 25, 50, 100, 150]}\n",
    "\n",
    "clf = RandomForestClassifier(n_jobs=-1)\n",
    "\n",
    "cv = GridSearchCV(clf, param_grid=param_grid, \n",
    "                  scoring='f1_weighted', cv=5, \n",
    "                  iid=True, n_jobs=-1, \n",
    "                  return_train_score=True)\n",
    "\n",
    "cv.fit(X_train,y_train)"
   ]
  },
  {
   "cell_type": "code",
   "execution_count": 85,
   "metadata": {},
   "outputs": [
    {
     "data": {
      "text/html": [
       "<div>\n",
       "<style>\n",
       "    .dataframe thead tr:only-child th {\n",
       "        text-align: right;\n",
       "    }\n",
       "\n",
       "    .dataframe thead th {\n",
       "        text-align: left;\n",
       "    }\n",
       "\n",
       "    .dataframe tbody tr th {\n",
       "        vertical-align: top;\n",
       "    }\n",
       "</style>\n",
       "<table border=\"1\" class=\"dataframe\">\n",
       "  <thead>\n",
       "    <tr style=\"text-align: right;\">\n",
       "      <th></th>\n",
       "      <th>combined_mean_fit-test_time</th>\n",
       "      <th>max_leaf_nodes</th>\n",
       "      <th>mean_test_score</th>\n",
       "      <th>mean_train_score</th>\n",
       "    </tr>\n",
       "  </thead>\n",
       "  <tbody>\n",
       "    <tr>\n",
       "      <th>0</th>\n",
       "      <td>1.331590</td>\n",
       "      <td>NaN</td>\n",
       "      <td>0.502644</td>\n",
       "      <td>0.977297</td>\n",
       "    </tr>\n",
       "    <tr>\n",
       "      <th>1</th>\n",
       "      <td>0.853774</td>\n",
       "      <td>10.0</td>\n",
       "      <td>0.417141</td>\n",
       "      <td>0.415954</td>\n",
       "    </tr>\n",
       "    <tr>\n",
       "      <th>2</th>\n",
       "      <td>1.552411</td>\n",
       "      <td>25.0</td>\n",
       "      <td>0.441470</td>\n",
       "      <td>0.441634</td>\n",
       "    </tr>\n",
       "    <tr>\n",
       "      <th>3</th>\n",
       "      <td>2.180825</td>\n",
       "      <td>50.0</td>\n",
       "      <td>0.467904</td>\n",
       "      <td>0.470300</td>\n",
       "    </tr>\n",
       "    <tr>\n",
       "      <th>4</th>\n",
       "      <td>2.472590</td>\n",
       "      <td>100.0</td>\n",
       "      <td>0.477493</td>\n",
       "      <td>0.482593</td>\n",
       "    </tr>\n",
       "    <tr>\n",
       "      <th>5</th>\n",
       "      <td>2.354054</td>\n",
       "      <td>150.0</td>\n",
       "      <td>0.483904</td>\n",
       "      <td>0.490865</td>\n",
       "    </tr>\n",
       "  </tbody>\n",
       "</table>\n",
       "</div>"
      ],
      "text/plain": [
       "   combined_mean_fit-test_time  max_leaf_nodes  mean_test_score  \\\n",
       "0                     1.331590             NaN         0.502644   \n",
       "1                     0.853774            10.0         0.417141   \n",
       "2                     1.552411            25.0         0.441470   \n",
       "3                     2.180825            50.0         0.467904   \n",
       "4                     2.472590           100.0         0.477493   \n",
       "5                     2.354054           150.0         0.483904   \n",
       "\n",
       "   mean_train_score  \n",
       "0          0.977297  \n",
       "1          0.415954  \n",
       "2          0.441634  \n",
       "3          0.470300  \n",
       "4          0.482593  \n",
       "5          0.490865  "
      ]
     },
     "execution_count": 85,
     "metadata": {},
     "output_type": "execute_result"
    }
   ],
   "source": [
    "results = pd.DataFrame({'max_leaf_nodes': [None, 10, 25, 50, 100, 150],\n",
    "                        'combined_mean_fit-test_time': cv.cv_results_['mean_fit_time'] + cv.cv_results_['mean_score_time'],\n",
    "                        'mean_test_score': cv.cv_results_['mean_test_score'],\n",
    "                       'mean_train_score': cv.cv_results_['mean_train_score']})\n",
    "\n",
    "results"
   ]
  },
  {
   "cell_type": "markdown",
   "metadata": {},
   "source": [
    "#### Putting it all together"
   ]
  },
  {
   "cell_type": "code",
   "execution_count": 143,
   "metadata": {},
   "outputs": [
    {
     "data": {
      "text/plain": [
       "0.5300938646563604"
      ]
     },
     "execution_count": 143,
     "metadata": {},
     "output_type": "execute_result"
    }
   ],
   "source": [
    "clf = RandomForestClassifier(n_estimators=100, \n",
    "                             max_depth=50, \n",
    "                             min_samples_split=25, \n",
    "                             min_samples_leaf=25,\n",
    "                             max_features=50,\n",
    "                             n_jobs=-1)\n",
    "\n",
    "clf.fit(X_train, y_train)\n",
    "\n",
    "y_pred = clf.predict(X_test)\n",
    "\n",
    "f1_score(y_test, y_pred, average='weighted')"
   ]
  },
  {
   "cell_type": "markdown",
   "metadata": {},
   "source": [
    "## SGD"
   ]
  },
  {
   "cell_type": "code",
   "execution_count": 260,
   "metadata": {},
   "outputs": [],
   "source": [
    "# number of unique users\n",
    "n_u = submissions['user_id'].nunique()\n",
    "# number of unique items (problems)\n",
    "n_i = submissions['problem_id'].nunique()"
   ]
  },
  {
   "cell_type": "code",
   "execution_count": 268,
   "metadata": {},
   "outputs": [
    {
     "name": "stdout",
     "output_type": "stream",
     "text": [
      "Number of unique users: 3529\n",
      "Number of unique problems: 5776\n"
     ]
    }
   ],
   "source": [
    "print('Number of unique users: %s' % n_u)\n",
    "print('Number of unique problems: %s' % n_i)"
   ]
  },
  {
   "cell_type": "code",
   "execution_count": 269,
   "metadata": {},
   "outputs": [
    {
     "name": "stdout",
     "output_type": "stream",
     "text": [
      "Sparsity of attempts_range: 0.76%\n"
     ]
    }
   ],
   "source": [
    "sparsity = len(submissions)/(n_u*n_i)\n",
    "print('Sparsity of attempts_range: %s%%' % round(sparsity*100, 2))"
   ]
  },
  {
   "cell_type": "markdown",
   "metadata": {},
   "source": [
    "The full submissions dataset contains 3529 unique users and 5776 unique problems. We have attempts_range data for only 0.76% of all user x problem combinations!! This data is incredibly sparse. Even the Netflix prize dataset had a sparsity of at least 1%. This type of collaborative filtering model may therefore be very poor at predicting."
   ]
  },
  {
   "cell_type": "code",
   "execution_count": 271,
   "metadata": {
    "scrolled": true
   },
   "outputs": [
    {
     "data": {
      "text/html": [
       "<div>\n",
       "<style>\n",
       "    .dataframe thead tr:only-child th {\n",
       "        text-align: right;\n",
       "    }\n",
       "\n",
       "    .dataframe thead th {\n",
       "        text-align: left;\n",
       "    }\n",
       "\n",
       "    .dataframe tbody tr th {\n",
       "        vertical-align: top;\n",
       "    }\n",
       "</style>\n",
       "<table border=\"1\" class=\"dataframe\">\n",
       "  <thead>\n",
       "    <tr>\n",
       "      <th></th>\n",
       "      <th colspan=\"21\" halign=\"left\">attempts_range</th>\n",
       "    </tr>\n",
       "    <tr>\n",
       "      <th>problem_id</th>\n",
       "      <th>prob_1</th>\n",
       "      <th>prob_10</th>\n",
       "      <th>prob_100</th>\n",
       "      <th>prob_1000</th>\n",
       "      <th>prob_1001</th>\n",
       "      <th>prob_1002</th>\n",
       "      <th>prob_1003</th>\n",
       "      <th>prob_1004</th>\n",
       "      <th>prob_1005</th>\n",
       "      <th>prob_1006</th>\n",
       "      <th>...</th>\n",
       "      <th>prob_990</th>\n",
       "      <th>prob_991</th>\n",
       "      <th>prob_992</th>\n",
       "      <th>prob_993</th>\n",
       "      <th>prob_994</th>\n",
       "      <th>prob_995</th>\n",
       "      <th>prob_996</th>\n",
       "      <th>prob_997</th>\n",
       "      <th>prob_998</th>\n",
       "      <th>prob_999</th>\n",
       "    </tr>\n",
       "    <tr>\n",
       "      <th>user_id</th>\n",
       "      <th></th>\n",
       "      <th></th>\n",
       "      <th></th>\n",
       "      <th></th>\n",
       "      <th></th>\n",
       "      <th></th>\n",
       "      <th></th>\n",
       "      <th></th>\n",
       "      <th></th>\n",
       "      <th></th>\n",
       "      <th></th>\n",
       "      <th></th>\n",
       "      <th></th>\n",
       "      <th></th>\n",
       "      <th></th>\n",
       "      <th></th>\n",
       "      <th></th>\n",
       "      <th></th>\n",
       "      <th></th>\n",
       "      <th></th>\n",
       "      <th></th>\n",
       "    </tr>\n",
       "  </thead>\n",
       "  <tbody>\n",
       "    <tr>\n",
       "      <th>user_1</th>\n",
       "      <td>NaN</td>\n",
       "      <td>NaN</td>\n",
       "      <td>NaN</td>\n",
       "      <td>NaN</td>\n",
       "      <td>NaN</td>\n",
       "      <td>NaN</td>\n",
       "      <td>NaN</td>\n",
       "      <td>NaN</td>\n",
       "      <td>NaN</td>\n",
       "      <td>NaN</td>\n",
       "      <td>...</td>\n",
       "      <td>NaN</td>\n",
       "      <td>NaN</td>\n",
       "      <td>NaN</td>\n",
       "      <td>NaN</td>\n",
       "      <td>NaN</td>\n",
       "      <td>NaN</td>\n",
       "      <td>NaN</td>\n",
       "      <td>NaN</td>\n",
       "      <td>NaN</td>\n",
       "      <td>NaN</td>\n",
       "    </tr>\n",
       "    <tr>\n",
       "      <th>user_10</th>\n",
       "      <td>NaN</td>\n",
       "      <td>NaN</td>\n",
       "      <td>NaN</td>\n",
       "      <td>NaN</td>\n",
       "      <td>NaN</td>\n",
       "      <td>NaN</td>\n",
       "      <td>NaN</td>\n",
       "      <td>NaN</td>\n",
       "      <td>NaN</td>\n",
       "      <td>NaN</td>\n",
       "      <td>...</td>\n",
       "      <td>NaN</td>\n",
       "      <td>NaN</td>\n",
       "      <td>NaN</td>\n",
       "      <td>NaN</td>\n",
       "      <td>NaN</td>\n",
       "      <td>NaN</td>\n",
       "      <td>NaN</td>\n",
       "      <td>NaN</td>\n",
       "      <td>NaN</td>\n",
       "      <td>NaN</td>\n",
       "    </tr>\n",
       "    <tr>\n",
       "      <th>user_100</th>\n",
       "      <td>NaN</td>\n",
       "      <td>NaN</td>\n",
       "      <td>NaN</td>\n",
       "      <td>NaN</td>\n",
       "      <td>NaN</td>\n",
       "      <td>NaN</td>\n",
       "      <td>NaN</td>\n",
       "      <td>NaN</td>\n",
       "      <td>NaN</td>\n",
       "      <td>NaN</td>\n",
       "      <td>...</td>\n",
       "      <td>NaN</td>\n",
       "      <td>NaN</td>\n",
       "      <td>NaN</td>\n",
       "      <td>NaN</td>\n",
       "      <td>NaN</td>\n",
       "      <td>NaN</td>\n",
       "      <td>NaN</td>\n",
       "      <td>NaN</td>\n",
       "      <td>NaN</td>\n",
       "      <td>NaN</td>\n",
       "    </tr>\n",
       "    <tr>\n",
       "      <th>user_1000</th>\n",
       "      <td>NaN</td>\n",
       "      <td>NaN</td>\n",
       "      <td>NaN</td>\n",
       "      <td>1.0</td>\n",
       "      <td>NaN</td>\n",
       "      <td>NaN</td>\n",
       "      <td>NaN</td>\n",
       "      <td>NaN</td>\n",
       "      <td>NaN</td>\n",
       "      <td>NaN</td>\n",
       "      <td>...</td>\n",
       "      <td>NaN</td>\n",
       "      <td>NaN</td>\n",
       "      <td>NaN</td>\n",
       "      <td>NaN</td>\n",
       "      <td>NaN</td>\n",
       "      <td>NaN</td>\n",
       "      <td>NaN</td>\n",
       "      <td>NaN</td>\n",
       "      <td>NaN</td>\n",
       "      <td>NaN</td>\n",
       "    </tr>\n",
       "    <tr>\n",
       "      <th>user_1001</th>\n",
       "      <td>NaN</td>\n",
       "      <td>NaN</td>\n",
       "      <td>NaN</td>\n",
       "      <td>NaN</td>\n",
       "      <td>NaN</td>\n",
       "      <td>NaN</td>\n",
       "      <td>NaN</td>\n",
       "      <td>NaN</td>\n",
       "      <td>NaN</td>\n",
       "      <td>NaN</td>\n",
       "      <td>...</td>\n",
       "      <td>NaN</td>\n",
       "      <td>NaN</td>\n",
       "      <td>NaN</td>\n",
       "      <td>NaN</td>\n",
       "      <td>NaN</td>\n",
       "      <td>NaN</td>\n",
       "      <td>NaN</td>\n",
       "      <td>NaN</td>\n",
       "      <td>NaN</td>\n",
       "      <td>NaN</td>\n",
       "    </tr>\n",
       "  </tbody>\n",
       "</table>\n",
       "<p>5 rows × 5776 columns</p>\n",
       "</div>"
      ],
      "text/plain": [
       "           attempts_range                                                 \\\n",
       "problem_id         prob_1 prob_10 prob_100 prob_1000 prob_1001 prob_1002   \n",
       "user_id                                                                    \n",
       "user_1                NaN     NaN      NaN       NaN       NaN       NaN   \n",
       "user_10               NaN     NaN      NaN       NaN       NaN       NaN   \n",
       "user_100              NaN     NaN      NaN       NaN       NaN       NaN   \n",
       "user_1000             NaN     NaN      NaN       1.0       NaN       NaN   \n",
       "user_1001             NaN     NaN      NaN       NaN       NaN       NaN   \n",
       "\n",
       "                                                     ...                       \\\n",
       "problem_id prob_1003 prob_1004 prob_1005 prob_1006   ...    prob_990 prob_991   \n",
       "user_id                                              ...                        \n",
       "user_1           NaN       NaN       NaN       NaN   ...         NaN      NaN   \n",
       "user_10          NaN       NaN       NaN       NaN   ...         NaN      NaN   \n",
       "user_100         NaN       NaN       NaN       NaN   ...         NaN      NaN   \n",
       "user_1000        NaN       NaN       NaN       NaN   ...         NaN      NaN   \n",
       "user_1001        NaN       NaN       NaN       NaN   ...         NaN      NaN   \n",
       "\n",
       "                                                                           \\\n",
       "problem_id prob_992 prob_993 prob_994 prob_995 prob_996 prob_997 prob_998   \n",
       "user_id                                                                     \n",
       "user_1          NaN      NaN      NaN      NaN      NaN      NaN      NaN   \n",
       "user_10         NaN      NaN      NaN      NaN      NaN      NaN      NaN   \n",
       "user_100        NaN      NaN      NaN      NaN      NaN      NaN      NaN   \n",
       "user_1000       NaN      NaN      NaN      NaN      NaN      NaN      NaN   \n",
       "user_1001       NaN      NaN      NaN      NaN      NaN      NaN      NaN   \n",
       "\n",
       "                     \n",
       "problem_id prob_999  \n",
       "user_id              \n",
       "user_1          NaN  \n",
       "user_10         NaN  \n",
       "user_100        NaN  \n",
       "user_1000       NaN  \n",
       "user_1001       NaN  \n",
       "\n",
       "[5 rows x 5776 columns]"
      ]
     },
     "execution_count": 271,
     "metadata": {},
     "output_type": "execute_result"
    }
   ],
   "source": [
    "R = submissions.set_index(['user_id','problem_id']).unstack(level=-1)\n",
    "R.head()"
   ]
  },
  {
   "cell_type": "code",
   "execution_count": 292,
   "metadata": {},
   "outputs": [],
   "source": [
    "from scipy.sparse import csr_matrix\n",
    "\n",
    "R_train, R_test = train_test_split(R, test_size=0.25)\n",
    "R_train = csr_matrix(R_train)\n",
    "R_test = csr_matrix(R_test)"
   ]
  },
  {
   "cell_type": "code",
   "execution_count": 293,
   "metadata": {},
   "outputs": [],
   "source": [
    "n_features = 50\n",
    "p = np.random.rand(n_u, n_features) - 0.5\n",
    "q = np.random.rand(n_i, n_features) - 0.5"
   ]
  },
  {
   "cell_type": "code",
   "execution_count": 294,
   "metadata": {},
   "outputs": [],
   "source": [
    "# get only nonzero entries of the sparse matrix\n",
    "idx_u, idx_i = R_train.nonzero()"
   ]
  },
  {
   "cell_type": "code",
   "execution_count": 295,
   "metadata": {},
   "outputs": [],
   "source": [
    "def rmse_score(R, q, p):\n",
    "    I = R != 0  # Indicator function which is zero for missing data\n",
    "    ME = I * (R - np.dot(p, q.T))  # Errors between real and predicted ratings\n",
    "    MSE = ME**2  \n",
    "    return np.sqrt(np.sum(MSE)/np.sum(I))  # sum of squared errors"
   ]
  },
  {
   "cell_type": "code",
   "execution_count": 298,
   "metadata": {},
   "outputs": [
    {
     "ename": "KeyboardInterrupt",
     "evalue": "",
     "output_type": "error",
     "traceback": [
      "\u001b[1;31m---------------------------------------------------------------------------\u001b[0m",
      "\u001b[1;31mKeyboardInterrupt\u001b[0m                         Traceback (most recent call last)",
      "\u001b[1;32m<ipython-input-298-67482431a8ec>\u001b[0m in \u001b[0;36m<module>\u001b[1;34m()\u001b[0m\n\u001b[0;32m      8\u001b[0m \u001b[1;32mfor\u001b[0m \u001b[0mepoch\u001b[0m \u001b[1;32min\u001b[0m \u001b[0mrange\u001b[0m\u001b[1;33m(\u001b[0m\u001b[0mn_epochs\u001b[0m\u001b[1;33m)\u001b[0m\u001b[1;33m:\u001b[0m\u001b[1;33m\u001b[0m\u001b[0m\n\u001b[0;32m      9\u001b[0m     \u001b[1;32mfor\u001b[0m \u001b[0mu\u001b[0m\u001b[1;33m,\u001b[0m \u001b[0mi\u001b[0m \u001b[1;32min\u001b[0m \u001b[0mzip\u001b[0m\u001b[1;33m(\u001b[0m\u001b[0midx_u\u001b[0m\u001b[1;33m,\u001b[0m \u001b[0midx_i\u001b[0m\u001b[1;33m)\u001b[0m\u001b[1;33m:\u001b[0m\u001b[1;33m\u001b[0m\u001b[0m\n\u001b[1;32m---> 10\u001b[1;33m         \u001b[0me\u001b[0m \u001b[1;33m=\u001b[0m \u001b[0mR_train\u001b[0m\u001b[1;33m[\u001b[0m\u001b[0mu\u001b[0m\u001b[1;33m,\u001b[0m \u001b[0mi\u001b[0m\u001b[1;33m]\u001b[0m \u001b[1;33m-\u001b[0m \u001b[0mnp\u001b[0m\u001b[1;33m.\u001b[0m\u001b[0mdot\u001b[0m\u001b[1;33m(\u001b[0m\u001b[0mp\u001b[0m\u001b[1;33m[\u001b[0m\u001b[0mu\u001b[0m\u001b[1;33m,\u001b[0m\u001b[1;33m:\u001b[0m\u001b[1;33m]\u001b[0m\u001b[1;33m,\u001b[0m \u001b[0mq\u001b[0m\u001b[1;33m[\u001b[0m\u001b[0mi\u001b[0m\u001b[1;33m,\u001b[0m \u001b[1;33m:\u001b[0m\u001b[1;33m]\u001b[0m\u001b[1;33m.\u001b[0m\u001b[0mT\u001b[0m\u001b[1;33m)\u001b[0m\u001b[1;33m\u001b[0m\u001b[0m\n\u001b[0m\u001b[0;32m     11\u001b[0m         \u001b[0mp\u001b[0m\u001b[1;33m[\u001b[0m\u001b[0mu\u001b[0m\u001b[1;33m,\u001b[0m \u001b[1;33m:\u001b[0m\u001b[1;33m]\u001b[0m \u001b[1;33m+=\u001b[0m \u001b[0malpha\u001b[0m \u001b[1;33m*\u001b[0m \u001b[1;33m(\u001b[0m\u001b[0me\u001b[0m \u001b[1;33m*\u001b[0m \u001b[0mq\u001b[0m\u001b[1;33m[\u001b[0m\u001b[0mi\u001b[0m\u001b[1;33m,\u001b[0m \u001b[1;33m:\u001b[0m\u001b[1;33m]\u001b[0m \u001b[1;33m-\u001b[0m \u001b[0mlmbda\u001b[0m \u001b[1;33m*\u001b[0m \u001b[0mp\u001b[0m\u001b[1;33m[\u001b[0m\u001b[0mu\u001b[0m\u001b[1;33m,\u001b[0m \u001b[1;33m:\u001b[0m\u001b[1;33m]\u001b[0m\u001b[1;33m)\u001b[0m\u001b[1;33m\u001b[0m\u001b[0m\n\u001b[0;32m     12\u001b[0m         \u001b[0mq\u001b[0m\u001b[1;33m[\u001b[0m\u001b[0mi\u001b[0m\u001b[1;33m,\u001b[0m \u001b[1;33m:\u001b[0m\u001b[1;33m]\u001b[0m \u001b[1;33m+=\u001b[0m \u001b[0malpha\u001b[0m \u001b[1;33m*\u001b[0m \u001b[1;33m(\u001b[0m\u001b[0me\u001b[0m \u001b[1;33m*\u001b[0m \u001b[0mp\u001b[0m\u001b[1;33m[\u001b[0m\u001b[0mu\u001b[0m\u001b[1;33m,\u001b[0m \u001b[1;33m:\u001b[0m\u001b[1;33m]\u001b[0m \u001b[1;33m-\u001b[0m \u001b[0mlmbda\u001b[0m \u001b[1;33m*\u001b[0m \u001b[0mq\u001b[0m\u001b[1;33m[\u001b[0m\u001b[0mi\u001b[0m\u001b[1;33m,\u001b[0m \u001b[1;33m:\u001b[0m\u001b[1;33m]\u001b[0m\u001b[1;33m)\u001b[0m\u001b[1;33m\u001b[0m\u001b[0m\n",
      "\u001b[1;32m~\\Anaconda3\\lib\\site-packages\\scipy\\sparse\\csr.py\u001b[0m in \u001b[0;36m__getitem__\u001b[1;34m(self, key)\u001b[0m\n\u001b[0;32m    287\u001b[0m             \u001b[1;31m# [i, j]\u001b[0m\u001b[1;33m\u001b[0m\u001b[1;33m\u001b[0m\u001b[0m\n\u001b[0;32m    288\u001b[0m             \u001b[1;32mif\u001b[0m \u001b[0misintlike\u001b[0m\u001b[1;33m(\u001b[0m\u001b[0mcol\u001b[0m\u001b[1;33m)\u001b[0m\u001b[1;33m:\u001b[0m\u001b[1;33m\u001b[0m\u001b[0m\n\u001b[1;32m--> 289\u001b[1;33m                 \u001b[1;32mreturn\u001b[0m \u001b[0mself\u001b[0m\u001b[1;33m.\u001b[0m\u001b[0m_get_single_element\u001b[0m\u001b[1;33m(\u001b[0m\u001b[0mrow\u001b[0m\u001b[1;33m,\u001b[0m \u001b[0mcol\u001b[0m\u001b[1;33m)\u001b[0m\u001b[1;33m\u001b[0m\u001b[0m\n\u001b[0m\u001b[0;32m    290\u001b[0m             \u001b[1;31m# [i, 1:2]\u001b[0m\u001b[1;33m\u001b[0m\u001b[1;33m\u001b[0m\u001b[0m\n\u001b[0;32m    291\u001b[0m             \u001b[1;32melif\u001b[0m \u001b[0misinstance\u001b[0m\u001b[1;33m(\u001b[0m\u001b[0mcol\u001b[0m\u001b[1;33m,\u001b[0m \u001b[0mslice\u001b[0m\u001b[1;33m)\u001b[0m\u001b[1;33m:\u001b[0m\u001b[1;33m\u001b[0m\u001b[0m\n",
      "\u001b[1;32m~\\Anaconda3\\lib\\site-packages\\scipy\\sparse\\compressed.py\u001b[0m in \u001b[0;36m_get_single_element\u001b[1;34m(self, row, col)\u001b[0m\n\u001b[0;32m    890\u001b[0m         \u001b[0mend\u001b[0m \u001b[1;33m=\u001b[0m \u001b[0mself\u001b[0m\u001b[1;33m.\u001b[0m\u001b[0mindptr\u001b[0m\u001b[1;33m[\u001b[0m\u001b[0mmajor_index\u001b[0m\u001b[1;33m+\u001b[0m\u001b[1;36m1\u001b[0m\u001b[1;33m]\u001b[0m\u001b[1;33m\u001b[0m\u001b[0m\n\u001b[0;32m    891\u001b[0m         \u001b[1;31m# can use np.add(..., where) from numpy 1.7\u001b[0m\u001b[1;33m\u001b[0m\u001b[1;33m\u001b[0m\u001b[0m\n\u001b[1;32m--> 892\u001b[1;33m         return np.compress(minor_index == self.indices[start:end],\n\u001b[0m\u001b[0;32m    893\u001b[0m                            self.data[start:end]).sum(dtype=self.dtype)\n\u001b[0;32m    894\u001b[0m \u001b[1;33m\u001b[0m\u001b[0m\n",
      "\u001b[1;31mKeyboardInterrupt\u001b[0m: "
     ]
    }
   ],
   "source": [
    "alpha = 0.01\n",
    "lmbda = 1\n",
    "n_epochs=10\n",
    "\n",
    "train_errors = []\n",
    "test_errors = []\n",
    "\n",
    "for epoch in range(n_epochs):\n",
    "    for u, i in zip(idx_u, idx_i):\n",
    "        e = R_train[u, i] - np.dot(p[u,:], q[i, :].T)\n",
    "        p[u, :] += alpha * (e * q[i, :] - lmbda * p[u, :])\n",
    "        q[i, :] += alpha * (e * p[u, :] - lmbda * q[i, :])\n",
    "    train_errors.append(rmse_score(R, q, p))\n",
    "    test_errors.append(rmse_score(R_test, q, p))"
   ]
  },
  {
   "cell_type": "code",
   "execution_count": null,
   "metadata": {},
   "outputs": [],
   "source": []
  },
  {
   "cell_type": "code",
   "execution_count": null,
   "metadata": {},
   "outputs": [],
   "source": [
    "from sklearn.preprocessing import StandardScaler\n",
    "scaler = StandardScaler()\n",
    "scaler.fit(R)  # Don't cheat - fit only on training data\n",
    "X_train = scaler.transform(R)\n",
    "X_test = scaler.transform(R_test)  # apply same transformation to test data"
   ]
  },
  {
   "cell_type": "code",
   "execution_count": null,
   "metadata": {},
   "outputs": [],
   "source": []
  },
  {
   "cell_type": "code",
   "execution_count": null,
   "metadata": {},
   "outputs": [],
   "source": []
  },
  {
   "cell_type": "code",
   "execution_count": null,
   "metadata": {},
   "outputs": [],
   "source": []
  },
  {
   "cell_type": "code",
   "execution_count": null,
   "metadata": {},
   "outputs": [],
   "source": []
  },
  {
   "cell_type": "code",
   "execution_count": null,
   "metadata": {},
   "outputs": [],
   "source": []
  },
  {
   "cell_type": "code",
   "execution_count": null,
   "metadata": {},
   "outputs": [],
   "source": []
  },
  {
   "cell_type": "code",
   "execution_count": null,
   "metadata": {},
   "outputs": [],
   "source": []
  },
  {
   "cell_type": "code",
   "execution_count": null,
   "metadata": {},
   "outputs": [],
   "source": []
  },
  {
   "cell_type": "code",
   "execution_count": null,
   "metadata": {},
   "outputs": [],
   "source": []
  },
  {
   "cell_type": "code",
   "execution_count": 230,
   "metadata": {
    "scrolled": true
   },
   "outputs": [
    {
     "data": {
      "text/html": [
       "<div>\n",
       "<style>\n",
       "    .dataframe thead tr:only-child th {\n",
       "        text-align: right;\n",
       "    }\n",
       "\n",
       "    .dataframe thead th {\n",
       "        text-align: left;\n",
       "    }\n",
       "\n",
       "    .dataframe tbody tr th {\n",
       "        vertical-align: top;\n",
       "    }\n",
       "</style>\n",
       "<table border=\"1\" class=\"dataframe\">\n",
       "  <thead>\n",
       "    <tr>\n",
       "      <th></th>\n",
       "      <th colspan=\"21\" halign=\"left\">attempts_range</th>\n",
       "    </tr>\n",
       "    <tr>\n",
       "      <th>problem_id</th>\n",
       "      <th>prob_1</th>\n",
       "      <th>prob_10</th>\n",
       "      <th>prob_100</th>\n",
       "      <th>prob_1000</th>\n",
       "      <th>prob_1001</th>\n",
       "      <th>prob_1002</th>\n",
       "      <th>prob_1003</th>\n",
       "      <th>prob_1004</th>\n",
       "      <th>prob_1005</th>\n",
       "      <th>prob_1006</th>\n",
       "      <th>...</th>\n",
       "      <th>prob_990</th>\n",
       "      <th>prob_991</th>\n",
       "      <th>prob_992</th>\n",
       "      <th>prob_993</th>\n",
       "      <th>prob_994</th>\n",
       "      <th>prob_995</th>\n",
       "      <th>prob_996</th>\n",
       "      <th>prob_997</th>\n",
       "      <th>prob_998</th>\n",
       "      <th>prob_999</th>\n",
       "    </tr>\n",
       "    <tr>\n",
       "      <th>user_id</th>\n",
       "      <th></th>\n",
       "      <th></th>\n",
       "      <th></th>\n",
       "      <th></th>\n",
       "      <th></th>\n",
       "      <th></th>\n",
       "      <th></th>\n",
       "      <th></th>\n",
       "      <th></th>\n",
       "      <th></th>\n",
       "      <th></th>\n",
       "      <th></th>\n",
       "      <th></th>\n",
       "      <th></th>\n",
       "      <th></th>\n",
       "      <th></th>\n",
       "      <th></th>\n",
       "      <th></th>\n",
       "      <th></th>\n",
       "      <th></th>\n",
       "      <th></th>\n",
       "    </tr>\n",
       "  </thead>\n",
       "  <tbody>\n",
       "    <tr>\n",
       "      <th>user_1</th>\n",
       "      <td>NaN</td>\n",
       "      <td>NaN</td>\n",
       "      <td>NaN</td>\n",
       "      <td>NaN</td>\n",
       "      <td>NaN</td>\n",
       "      <td>NaN</td>\n",
       "      <td>NaN</td>\n",
       "      <td>NaN</td>\n",
       "      <td>NaN</td>\n",
       "      <td>NaN</td>\n",
       "      <td>...</td>\n",
       "      <td>NaN</td>\n",
       "      <td>NaN</td>\n",
       "      <td>NaN</td>\n",
       "      <td>NaN</td>\n",
       "      <td>NaN</td>\n",
       "      <td>NaN</td>\n",
       "      <td>NaN</td>\n",
       "      <td>NaN</td>\n",
       "      <td>NaN</td>\n",
       "      <td>NaN</td>\n",
       "    </tr>\n",
       "    <tr>\n",
       "      <th>user_10</th>\n",
       "      <td>NaN</td>\n",
       "      <td>NaN</td>\n",
       "      <td>NaN</td>\n",
       "      <td>NaN</td>\n",
       "      <td>NaN</td>\n",
       "      <td>NaN</td>\n",
       "      <td>NaN</td>\n",
       "      <td>NaN</td>\n",
       "      <td>NaN</td>\n",
       "      <td>NaN</td>\n",
       "      <td>...</td>\n",
       "      <td>NaN</td>\n",
       "      <td>NaN</td>\n",
       "      <td>NaN</td>\n",
       "      <td>NaN</td>\n",
       "      <td>NaN</td>\n",
       "      <td>NaN</td>\n",
       "      <td>NaN</td>\n",
       "      <td>NaN</td>\n",
       "      <td>NaN</td>\n",
       "      <td>NaN</td>\n",
       "    </tr>\n",
       "    <tr>\n",
       "      <th>user_100</th>\n",
       "      <td>NaN</td>\n",
       "      <td>NaN</td>\n",
       "      <td>NaN</td>\n",
       "      <td>NaN</td>\n",
       "      <td>NaN</td>\n",
       "      <td>NaN</td>\n",
       "      <td>NaN</td>\n",
       "      <td>NaN</td>\n",
       "      <td>NaN</td>\n",
       "      <td>NaN</td>\n",
       "      <td>...</td>\n",
       "      <td>NaN</td>\n",
       "      <td>NaN</td>\n",
       "      <td>NaN</td>\n",
       "      <td>NaN</td>\n",
       "      <td>NaN</td>\n",
       "      <td>NaN</td>\n",
       "      <td>NaN</td>\n",
       "      <td>NaN</td>\n",
       "      <td>NaN</td>\n",
       "      <td>NaN</td>\n",
       "    </tr>\n",
       "    <tr>\n",
       "      <th>user_1000</th>\n",
       "      <td>NaN</td>\n",
       "      <td>NaN</td>\n",
       "      <td>NaN</td>\n",
       "      <td>1.0</td>\n",
       "      <td>NaN</td>\n",
       "      <td>NaN</td>\n",
       "      <td>NaN</td>\n",
       "      <td>NaN</td>\n",
       "      <td>NaN</td>\n",
       "      <td>NaN</td>\n",
       "      <td>...</td>\n",
       "      <td>NaN</td>\n",
       "      <td>NaN</td>\n",
       "      <td>NaN</td>\n",
       "      <td>NaN</td>\n",
       "      <td>NaN</td>\n",
       "      <td>NaN</td>\n",
       "      <td>NaN</td>\n",
       "      <td>NaN</td>\n",
       "      <td>NaN</td>\n",
       "      <td>NaN</td>\n",
       "    </tr>\n",
       "    <tr>\n",
       "      <th>user_1001</th>\n",
       "      <td>NaN</td>\n",
       "      <td>NaN</td>\n",
       "      <td>NaN</td>\n",
       "      <td>NaN</td>\n",
       "      <td>NaN</td>\n",
       "      <td>NaN</td>\n",
       "      <td>NaN</td>\n",
       "      <td>NaN</td>\n",
       "      <td>NaN</td>\n",
       "      <td>NaN</td>\n",
       "      <td>...</td>\n",
       "      <td>NaN</td>\n",
       "      <td>NaN</td>\n",
       "      <td>NaN</td>\n",
       "      <td>NaN</td>\n",
       "      <td>NaN</td>\n",
       "      <td>NaN</td>\n",
       "      <td>NaN</td>\n",
       "      <td>NaN</td>\n",
       "      <td>NaN</td>\n",
       "      <td>NaN</td>\n",
       "    </tr>\n",
       "  </tbody>\n",
       "</table>\n",
       "<p>5 rows × 5776 columns</p>\n",
       "</div>"
      ],
      "text/plain": [
       "           attempts_range                                                 \\\n",
       "problem_id         prob_1 prob_10 prob_100 prob_1000 prob_1001 prob_1002   \n",
       "user_id                                                                    \n",
       "user_1                NaN     NaN      NaN       NaN       NaN       NaN   \n",
       "user_10               NaN     NaN      NaN       NaN       NaN       NaN   \n",
       "user_100              NaN     NaN      NaN       NaN       NaN       NaN   \n",
       "user_1000             NaN     NaN      NaN       1.0       NaN       NaN   \n",
       "user_1001             NaN     NaN      NaN       NaN       NaN       NaN   \n",
       "\n",
       "                                                     ...                       \\\n",
       "problem_id prob_1003 prob_1004 prob_1005 prob_1006   ...    prob_990 prob_991   \n",
       "user_id                                              ...                        \n",
       "user_1           NaN       NaN       NaN       NaN   ...         NaN      NaN   \n",
       "user_10          NaN       NaN       NaN       NaN   ...         NaN      NaN   \n",
       "user_100         NaN       NaN       NaN       NaN   ...         NaN      NaN   \n",
       "user_1000        NaN       NaN       NaN       NaN   ...         NaN      NaN   \n",
       "user_1001        NaN       NaN       NaN       NaN   ...         NaN      NaN   \n",
       "\n",
       "                                                                           \\\n",
       "problem_id prob_992 prob_993 prob_994 prob_995 prob_996 prob_997 prob_998   \n",
       "user_id                                                                     \n",
       "user_1          NaN      NaN      NaN      NaN      NaN      NaN      NaN   \n",
       "user_10         NaN      NaN      NaN      NaN      NaN      NaN      NaN   \n",
       "user_100        NaN      NaN      NaN      NaN      NaN      NaN      NaN   \n",
       "user_1000       NaN      NaN      NaN      NaN      NaN      NaN      NaN   \n",
       "user_1001       NaN      NaN      NaN      NaN      NaN      NaN      NaN   \n",
       "\n",
       "                     \n",
       "problem_id prob_999  \n",
       "user_id              \n",
       "user_1          NaN  \n",
       "user_10         NaN  \n",
       "user_100        NaN  \n",
       "user_1000       NaN  \n",
       "user_1001       NaN  \n",
       "\n",
       "[5 rows x 5776 columns]"
      ]
     },
     "execution_count": 230,
     "metadata": {},
     "output_type": "execute_result"
    }
   ],
   "source": [
    "R = R.set_index(['user_id','problem_id']).unstack(level=-1)\n",
    "R.head()"
   ]
  },
  {
   "cell_type": "code",
   "execution_count": null,
   "metadata": {},
   "outputs": [],
   "source": [
    "def get_args(X, f):\n",
    "\n",
    "    X = np.array(X)\n",
    "    \n",
    "    # get mean for each column\n",
    "    mean = np.nanmean(X, axis=0)\n",
    "\n",
    "    # subtract mean from each column (mean normalization)\n",
    "    y = X - mean # (N_users x N_games)\n",
    "\n",
    "    n_u, n_i = X.shape\n",
    "\n",
    "    # Initialize two random matrices to make our initial predictions\n",
    "    p = np.random.rand(n_u, f) - 0.5\n",
    "    q = np.random.rand(n_i, f) - 0.5\n",
    "\n",
    "    return X_init, y, theta_init, n_users, n_items, mean"
   ]
  },
  {
   "cell_type": "code",
   "execution_count": 252,
   "metadata": {},
   "outputs": [
    {
     "name": "stderr",
     "output_type": "stream",
     "text": [
      "C:\\Users\\Kenny\\Anaconda3\\lib\\site-packages\\ipykernel_launcher.py:6: RuntimeWarning:\n",
      "\n",
      "Mean of empty slice\n",
      "\n"
     ]
    }
   ],
   "source": [
    "X_init, y, theta_init, n_users, n_items, mean = get_args(R, n_features=10)"
   ]
  },
  {
   "cell_type": "code",
   "execution_count": 253,
   "metadata": {},
   "outputs": [],
   "source": [
    "def unroll_params(X, theta, order='C'):\n",
    "\n",
    "    X = np.array(X)\n",
    "    theta = np.array(theta)\n",
    "\n",
    "    parameters = np.concatenate((X.flatten(order=order),\n",
    "                                 theta.flatten(order=order)), axis=0)\n",
    "\n",
    "    return parameters"
   ]
  },
  {
   "cell_type": "code",
   "execution_count": 254,
   "metadata": {},
   "outputs": [],
   "source": [
    "params = unroll_params(X_init, theta_init)"
   ]
  },
  {
   "cell_type": "code",
   "execution_count": 255,
   "metadata": {},
   "outputs": [],
   "source": [
    "def roll_params(parameters, n_users, n_items, n_features):\n",
    "\n",
    "    dim1 = n_items*n_features\n",
    "\n",
    "    X = np.reshape(parameters[0:dim1], (n_items, n_features))\n",
    "    theta = np.reshape(parameters[dim1:], (n_users, n_features))\n",
    "\n",
    "    return X, theta"
   ]
  },
  {
   "cell_type": "code",
   "execution_count": 256,
   "metadata": {},
   "outputs": [],
   "source": [
    "def cost_f(parameters, y, Lambda):\n",
    "    X, theta = roll_params(parameters, *args)\n",
    "\n",
    "    hyp = np.dot(theta,X.T)\n",
    "    error = hyp - y\n",
    "    error_factor = error.copy() # dimensions (N_games x N_users)\n",
    "    error_factor[np.isnan(error)] = 0 # Sets all missing values to 0s\n",
    "\n",
    "    # Compute the COST FUNCTION with REGULARIZATION\n",
    "    theta_reg = (Lambda/2) * np.nansum(theta*theta)\n",
    "    X_reg = (Lambda/2) * np.nansum(X*X)\n",
    "\n",
    "    J = (1/2) * np.nansum(error_factor*error_factor) + theta_reg + X_reg\n",
    "\n",
    "    return J\n",
    "\n",
    "# grad_f calculates the gradients of the cost function w.r.t. X and Theta\n",
    "\n",
    "def grad_f(parameters, y, Lambda):\n",
    "    X, theta = roll_params(parameters, *args)\n",
    "\n",
    "    hyp = np.dot(theta,X.T)\n",
    "    error = hyp - y\n",
    "    error_factor = error.copy() # dimensions (N_games x N_users)\n",
    "    error_factor[np.isnan(error)] = 0 # Sets all missing values to 0s\n",
    "\n",
    "    X_grad = np.dot(error_factor.T, theta) + Lambda*X\n",
    "    theta_grad = np.dot(error_factor, X) + Lambda*theta\n",
    "\n",
    "    grad = unroll_params(X_grad, theta_grad)\n",
    "\n",
    "    return grad"
   ]
  },
  {
   "cell_type": "code",
   "execution_count": 259,
   "metadata": {},
   "outputs": [
    {
     "ename": "SyntaxError",
     "evalue": "invalid syntax (<ipython-input-259-9c015ed97b05>, line 1)",
     "output_type": "error",
     "traceback": [
      "\u001b[1;36m  File \u001b[1;32m\"<ipython-input-259-9c015ed97b05>\"\u001b[1;36m, line \u001b[1;32m1\u001b[0m\n\u001b[1;33m    results = fmin_cg(cost_f, parameters, grad_f, args=(y, Lambda=1),\u001b[0m\n\u001b[1;37m                                                                 ^\u001b[0m\n\u001b[1;31mSyntaxError\u001b[0m\u001b[1;31m:\u001b[0m invalid syntax\n"
     ]
    }
   ],
   "source": [
    "results = fmin_cg(cost_f, parameters, grad_f, args=(y, ), \n",
    "                 full_output=True, maxiter=100)"
   ]
  },
  {
   "cell_type": "code",
   "execution_count": 239,
   "metadata": {},
   "outputs": [],
   "source": [
    "\n",
    "\n",
    "# unroll_params takes two matrices (X and Theta), and unrolls them into a\n",
    "# single end-to-end vector (params).\n",
    "\n",
    "\n",
    "\n",
    "# roll_params takes an unrolled vector, params, and reshapes it into the\n",
    "# matrices X and Theta.\n",
    "\n",
    "\n",
    "\n",
    "# cost_f takes in the parameters vector and computes the model's predictions.\n",
    "# It then compares the model's predictions to the actual ratings and computes\n",
    "# a cost associated with the model's current parameters.\n",
    "\n",
    "def cost_f(parameters, *args):\n",
    "\n",
    "    Y = args[1]\n",
    "    Lambda = args[3]\n",
    "\n",
    "    X, Theta = roll_params(parameters, *args)\n",
    "\n",
    "    hyp = np.dot(Theta,X.T)\n",
    "    error = hyp - Y\n",
    "    error_factor = error.copy() # dimensions (N_games x N_users)\n",
    "    error_factor[np.isnan(error)] = 0 # Sets all missing values to 0s\n",
    "\n",
    "    # Compute the COST FUNCTION with REGULARIZATION\n",
    "    Theta_reg = (Lambda/2) * np.nansum(Theta*Theta)\n",
    "    X_reg = (Lambda/2) * np.nansum(X*X)\n",
    "\n",
    "    J = (1/2) * np.nansum(error_factor*error_factor) + Theta_reg + X_reg\n",
    "\n",
    "    return J\n",
    "\n",
    "# grad_f calculates the gradients of the cost function w.r.t. X and Theta\n",
    "\n",
    "def grad_f(parameters, *args):\n",
    "\n",
    "    Y = args[1]\n",
    "    Lambda = args[3]\n",
    "\n",
    "    X, Theta = roll_params(parameters, *args)\n",
    "\n",
    "    hyp = np.dot(Theta,X.T)\n",
    "    error = hyp - Y\n",
    "    error_factor = error.copy() # dimensions (N_games x N_users)\n",
    "    error_factor[np.isnan(error)] = 0 # Sets all missing values to 0s\n",
    "\n",
    "    X_grad = np.dot(error_factor.T, Theta) + Lambda*X\n",
    "    Theta_grad = np.dot(error_factor, X) + Lambda*Theta\n",
    "\n",
    "    grad = unroll_params(X_grad, Theta_grad)\n",
    "\n",
    "    return grad\n"
   ]
  },
  {
   "cell_type": "code",
   "execution_count": 240,
   "metadata": {},
   "outputs": [
    {
     "name": "stderr",
     "output_type": "stream",
     "text": [
      "C:\\Users\\Kenny\\Anaconda3\\lib\\site-packages\\ipykernel_launcher.py:6: RuntimeWarning:\n",
      "\n",
      "Mean of empty slice\n",
      "\n"
     ]
    },
    {
     "name": "stdout",
     "output_type": "stream",
     "text": [
      "Warning: Maximum number of iterations has been exceeded.\n",
      "         Current function value: 7503.733864\n",
      "         Iterations: 100\n",
      "         Function evaluations: 153\n",
      "         Gradient evaluations: 153\n"
     ]
    },
    {
     "data": {
      "text/html": [
       "<div>\n",
       "<style>\n",
       "    .dataframe thead tr:only-child th {\n",
       "        text-align: right;\n",
       "    }\n",
       "\n",
       "    .dataframe thead th {\n",
       "        text-align: left;\n",
       "    }\n",
       "\n",
       "    .dataframe tbody tr th {\n",
       "        vertical-align: top;\n",
       "    }\n",
       "</style>\n",
       "<table border=\"1\" class=\"dataframe\">\n",
       "  <thead>\n",
       "    <tr>\n",
       "      <th></th>\n",
       "      <th colspan=\"21\" halign=\"left\">attempts_range</th>\n",
       "    </tr>\n",
       "    <tr>\n",
       "      <th>problem_id</th>\n",
       "      <th>prob_1</th>\n",
       "      <th>prob_10</th>\n",
       "      <th>prob_100</th>\n",
       "      <th>prob_1000</th>\n",
       "      <th>prob_1001</th>\n",
       "      <th>prob_1002</th>\n",
       "      <th>prob_1003</th>\n",
       "      <th>prob_1004</th>\n",
       "      <th>prob_1005</th>\n",
       "      <th>prob_1006</th>\n",
       "      <th>...</th>\n",
       "      <th>prob_990</th>\n",
       "      <th>prob_991</th>\n",
       "      <th>prob_992</th>\n",
       "      <th>prob_993</th>\n",
       "      <th>prob_994</th>\n",
       "      <th>prob_995</th>\n",
       "      <th>prob_996</th>\n",
       "      <th>prob_997</th>\n",
       "      <th>prob_998</th>\n",
       "      <th>prob_999</th>\n",
       "    </tr>\n",
       "    <tr>\n",
       "      <th>user_id</th>\n",
       "      <th></th>\n",
       "      <th></th>\n",
       "      <th></th>\n",
       "      <th></th>\n",
       "      <th></th>\n",
       "      <th></th>\n",
       "      <th></th>\n",
       "      <th></th>\n",
       "      <th></th>\n",
       "      <th></th>\n",
       "      <th></th>\n",
       "      <th></th>\n",
       "      <th></th>\n",
       "      <th></th>\n",
       "      <th></th>\n",
       "      <th></th>\n",
       "      <th></th>\n",
       "      <th></th>\n",
       "      <th></th>\n",
       "      <th></th>\n",
       "      <th></th>\n",
       "    </tr>\n",
       "  </thead>\n",
       "  <tbody>\n",
       "    <tr>\n",
       "      <th>user_1</th>\n",
       "      <td>NaN</td>\n",
       "      <td>NaN</td>\n",
       "      <td>1.000888</td>\n",
       "      <td>1.391362</td>\n",
       "      <td>1.030485</td>\n",
       "      <td>1.909976</td>\n",
       "      <td>2.497523</td>\n",
       "      <td>0.999289</td>\n",
       "      <td>1.601160</td>\n",
       "      <td>1.777720</td>\n",
       "      <td>...</td>\n",
       "      <td>NaN</td>\n",
       "      <td>1.509982</td>\n",
       "      <td>2.050654</td>\n",
       "      <td>2.000307</td>\n",
       "      <td>2.999014</td>\n",
       "      <td>1.000568</td>\n",
       "      <td>1.999924</td>\n",
       "      <td>1.008984</td>\n",
       "      <td>1.999767</td>\n",
       "      <td>4.213580</td>\n",
       "    </tr>\n",
       "    <tr>\n",
       "      <th>user_10</th>\n",
       "      <td>NaN</td>\n",
       "      <td>NaN</td>\n",
       "      <td>0.999922</td>\n",
       "      <td>0.792726</td>\n",
       "      <td>1.101327</td>\n",
       "      <td>1.820148</td>\n",
       "      <td>2.562085</td>\n",
       "      <td>1.000163</td>\n",
       "      <td>1.626114</td>\n",
       "      <td>1.724674</td>\n",
       "      <td>...</td>\n",
       "      <td>NaN</td>\n",
       "      <td>1.502891</td>\n",
       "      <td>1.831747</td>\n",
       "      <td>2.000264</td>\n",
       "      <td>2.999466</td>\n",
       "      <td>1.000351</td>\n",
       "      <td>2.000106</td>\n",
       "      <td>1.218786</td>\n",
       "      <td>1.999930</td>\n",
       "      <td>4.406965</td>\n",
       "    </tr>\n",
       "    <tr>\n",
       "      <th>user_100</th>\n",
       "      <td>NaN</td>\n",
       "      <td>NaN</td>\n",
       "      <td>1.000285</td>\n",
       "      <td>1.226508</td>\n",
       "      <td>1.058790</td>\n",
       "      <td>1.941849</td>\n",
       "      <td>2.501446</td>\n",
       "      <td>1.000097</td>\n",
       "      <td>1.896022</td>\n",
       "      <td>1.862571</td>\n",
       "      <td>...</td>\n",
       "      <td>NaN</td>\n",
       "      <td>1.553863</td>\n",
       "      <td>1.812087</td>\n",
       "      <td>2.000139</td>\n",
       "      <td>3.000414</td>\n",
       "      <td>1.000081</td>\n",
       "      <td>2.000730</td>\n",
       "      <td>1.189150</td>\n",
       "      <td>2.000231</td>\n",
       "      <td>4.512710</td>\n",
       "    </tr>\n",
       "    <tr>\n",
       "      <th>user_1000</th>\n",
       "      <td>NaN</td>\n",
       "      <td>NaN</td>\n",
       "      <td>1.000422</td>\n",
       "      <td>1.020091</td>\n",
       "      <td>1.183453</td>\n",
       "      <td>2.002745</td>\n",
       "      <td>2.597639</td>\n",
       "      <td>0.999034</td>\n",
       "      <td>1.589689</td>\n",
       "      <td>1.683946</td>\n",
       "      <td>...</td>\n",
       "      <td>NaN</td>\n",
       "      <td>1.564693</td>\n",
       "      <td>1.921421</td>\n",
       "      <td>2.000174</td>\n",
       "      <td>2.999734</td>\n",
       "      <td>1.000566</td>\n",
       "      <td>1.999734</td>\n",
       "      <td>1.125296</td>\n",
       "      <td>1.999941</td>\n",
       "      <td>4.408706</td>\n",
       "    </tr>\n",
       "    <tr>\n",
       "      <th>user_1001</th>\n",
       "      <td>NaN</td>\n",
       "      <td>NaN</td>\n",
       "      <td>1.000567</td>\n",
       "      <td>0.846059</td>\n",
       "      <td>1.094228</td>\n",
       "      <td>1.939560</td>\n",
       "      <td>2.574057</td>\n",
       "      <td>1.000007</td>\n",
       "      <td>2.087727</td>\n",
       "      <td>1.690446</td>\n",
       "      <td>...</td>\n",
       "      <td>NaN</td>\n",
       "      <td>1.498363</td>\n",
       "      <td>1.711499</td>\n",
       "      <td>1.999883</td>\n",
       "      <td>2.999942</td>\n",
       "      <td>0.999931</td>\n",
       "      <td>2.000678</td>\n",
       "      <td>0.974653</td>\n",
       "      <td>2.000149</td>\n",
       "      <td>4.547452</td>\n",
       "    </tr>\n",
       "  </tbody>\n",
       "</table>\n",
       "<p>5 rows × 5776 columns</p>\n",
       "</div>"
      ],
      "text/plain": [
       "           attempts_range                                                  \\\n",
       "problem_id         prob_1 prob_10  prob_100 prob_1000 prob_1001 prob_1002   \n",
       "user_id                                                                     \n",
       "user_1                NaN     NaN  1.000888  1.391362  1.030485  1.909976   \n",
       "user_10               NaN     NaN  0.999922  0.792726  1.101327  1.820148   \n",
       "user_100              NaN     NaN  1.000285  1.226508  1.058790  1.941849   \n",
       "user_1000             NaN     NaN  1.000422  1.020091  1.183453  2.002745   \n",
       "user_1001             NaN     NaN  1.000567  0.846059  1.094228  1.939560   \n",
       "\n",
       "                                                      ...              \\\n",
       "problem_id prob_1003 prob_1004 prob_1005 prob_1006    ...    prob_990   \n",
       "user_id                                               ...               \n",
       "user_1      2.497523  0.999289  1.601160  1.777720    ...         NaN   \n",
       "user_10     2.562085  1.000163  1.626114  1.724674    ...         NaN   \n",
       "user_100    2.501446  1.000097  1.896022  1.862571    ...         NaN   \n",
       "user_1000   2.597639  0.999034  1.589689  1.683946    ...         NaN   \n",
       "user_1001   2.574057  1.000007  2.087727  1.690446    ...         NaN   \n",
       "\n",
       "                                                                        \\\n",
       "problem_id  prob_991  prob_992  prob_993  prob_994  prob_995  prob_996   \n",
       "user_id                                                                  \n",
       "user_1      1.509982  2.050654  2.000307  2.999014  1.000568  1.999924   \n",
       "user_10     1.502891  1.831747  2.000264  2.999466  1.000351  2.000106   \n",
       "user_100    1.553863  1.812087  2.000139  3.000414  1.000081  2.000730   \n",
       "user_1000   1.564693  1.921421  2.000174  2.999734  1.000566  1.999734   \n",
       "user_1001   1.498363  1.711499  1.999883  2.999942  0.999931  2.000678   \n",
       "\n",
       "                                          \n",
       "problem_id  prob_997  prob_998  prob_999  \n",
       "user_id                                   \n",
       "user_1      1.008984  1.999767  4.213580  \n",
       "user_10     1.218786  1.999930  4.406965  \n",
       "user_100    1.189150  2.000231  4.512710  \n",
       "user_1000   1.125296  1.999941  4.408706  \n",
       "user_1001   0.974653  2.000149  4.547452  \n",
       "\n",
       "[5 rows x 5776 columns]"
      ]
     },
     "execution_count": 240,
     "metadata": {},
     "output_type": "execute_result"
    }
   ],
   "source": [
    "from scipy.optimize import fmin_cg\n",
    "\n",
    "# Make an initial prediction using the model and compare to the training data.\n",
    "args = get_args(R, N_features=150, Lambda=1)\n",
    "parameters = unroll_params(args[0], args[2])\n",
    "\n",
    "results = fmin_cg(cost_f, parameters, grad_f, args=args, \n",
    "                 full_output=True, maxiter=100)\n",
    "\n",
    "X_opt, Theta_opt = roll_params(results[0], *args)\n",
    "\n",
    "predictions = np.dot(Theta_opt, X_opt.T)\n",
    "predictions = pd.DataFrame(predictions, index=R.index, columns=R.columns)\n",
    "predictions = predictions.add(args[7], axis=1)\n",
    "predictions.head()"
   ]
  },
  {
   "cell_type": "code",
   "execution_count": null,
   "metadata": {},
   "outputs": [],
   "source": []
  },
  {
   "cell_type": "code",
   "execution_count": 105,
   "metadata": {},
   "outputs": [
    {
     "data": {
      "text/html": [
       "<div>\n",
       "<style scoped>\n",
       "    .dataframe tbody tr th:only-of-type {\n",
       "        vertical-align: middle;\n",
       "    }\n",
       "\n",
       "    .dataframe tbody tr th {\n",
       "        vertical-align: top;\n",
       "    }\n",
       "\n",
       "    .dataframe thead th {\n",
       "        text-align: right;\n",
       "    }\n",
       "</style>\n",
       "<table border=\"1\" class=\"dataframe\">\n",
       "  <thead>\n",
       "    <tr style=\"text-align: right;\">\n",
       "      <th>Actual attempts_range</th>\n",
       "      <th>1</th>\n",
       "      <th>2</th>\n",
       "      <th>3</th>\n",
       "      <th>4</th>\n",
       "      <th>5</th>\n",
       "      <th>6</th>\n",
       "    </tr>\n",
       "    <tr>\n",
       "      <th>Predicted attempts_range</th>\n",
       "      <th></th>\n",
       "      <th></th>\n",
       "      <th></th>\n",
       "      <th></th>\n",
       "      <th></th>\n",
       "      <th></th>\n",
       "    </tr>\n",
       "  </thead>\n",
       "  <tbody>\n",
       "    <tr>\n",
       "      <th>1</th>\n",
       "      <td>21520</td>\n",
       "      <td>9401</td>\n",
       "      <td>2234</td>\n",
       "      <td>751</td>\n",
       "      <td>332</td>\n",
       "      <td>332</td>\n",
       "    </tr>\n",
       "    <tr>\n",
       "      <th>2</th>\n",
       "      <td>4890</td>\n",
       "      <td>5376</td>\n",
       "      <td>1848</td>\n",
       "      <td>749</td>\n",
       "      <td>360</td>\n",
       "      <td>377</td>\n",
       "    </tr>\n",
       "    <tr>\n",
       "      <th>3</th>\n",
       "      <td>571</td>\n",
       "      <td>691</td>\n",
       "      <td>450</td>\n",
       "      <td>155</td>\n",
       "      <td>78</td>\n",
       "      <td>132</td>\n",
       "    </tr>\n",
       "    <tr>\n",
       "      <th>4</th>\n",
       "      <td>118</td>\n",
       "      <td>150</td>\n",
       "      <td>85</td>\n",
       "      <td>68</td>\n",
       "      <td>36</td>\n",
       "      <td>40</td>\n",
       "    </tr>\n",
       "    <tr>\n",
       "      <th>5</th>\n",
       "      <td>27</td>\n",
       "      <td>46</td>\n",
       "      <td>25</td>\n",
       "      <td>19</td>\n",
       "      <td>15</td>\n",
       "      <td>18</td>\n",
       "    </tr>\n",
       "    <tr>\n",
       "      <th>6</th>\n",
       "      <td>54</td>\n",
       "      <td>97</td>\n",
       "      <td>52</td>\n",
       "      <td>34</td>\n",
       "      <td>21</td>\n",
       "      <td>96</td>\n",
       "    </tr>\n",
       "  </tbody>\n",
       "</table>\n",
       "</div>"
      ],
      "text/plain": [
       "Actual attempts_range         1     2     3    4    5    6\n",
       "Predicted attempts_range                                  \n",
       "1                         21520  9401  2234  751  332  332\n",
       "2                          4890  5376  1848  749  360  377\n",
       "3                           571   691   450  155   78  132\n",
       "4                           118   150    85   68   36   40\n",
       "5                            27    46    25   19   15   18\n",
       "6                            54    97    52   34   21   96"
      ]
     },
     "execution_count": 105,
     "metadata": {},
     "output_type": "execute_result"
    }
   ],
   "source": [
    "pd.crosstab(y_pred, y_test, rownames=['Predicted attempts_range'], \n",
    "            colnames=['Actual attempts_range'])"
   ]
  },
  {
   "cell_type": "code",
   "execution_count": null,
   "metadata": {},
   "outputs": [],
   "source": []
  }
 ],
 "metadata": {
  "kernelspec": {
   "display_name": "Python 3",
   "language": "python",
   "name": "python3"
  },
  "language_info": {
   "codemirror_mode": {
    "name": "ipython",
    "version": 3
   },
   "file_extension": ".py",
   "mimetype": "text/x-python",
   "name": "python",
   "nbconvert_exporter": "python",
   "pygments_lexer": "ipython3",
   "version": "3.6.3"
  }
 },
 "nbformat": 4,
 "nbformat_minor": 2
}
