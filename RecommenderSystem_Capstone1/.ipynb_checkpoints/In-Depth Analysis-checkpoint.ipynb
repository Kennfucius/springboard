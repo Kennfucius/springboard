{
 "cells": [
  {
   "cell_type": "markdown",
   "metadata": {},
   "source": [
    "# Capstone 1: Recommender System In-Depth Analysis"
   ]
  },
  {
   "cell_type": "markdown",
   "metadata": {},
   "source": [
    "#### Kenneth Liao\n",
    "\n",
    "Original datasource: https://datahack.analyticsvidhya.com/contest/practice-problem-recommendation-engine/#"
   ]
  },
  {
   "cell_type": "code",
   "execution_count": 109,
   "metadata": {},
   "outputs": [
    {
     "data": {
      "text/html": [
       "<script>requirejs.config({paths: { 'plotly': ['https://cdn.plot.ly/plotly-latest.min']},});if(!window.Plotly) {{require(['plotly'],function(plotly) {window.Plotly=plotly;});}}</script>"
      ],
      "text/vnd.plotly.v1+html": [
       "<script>requirejs.config({paths: { 'plotly': ['https://cdn.plot.ly/plotly-latest.min']},});if(!window.Plotly) {{require(['plotly'],function(plotly) {window.Plotly=plotly;});}}</script>"
      ]
     },
     "metadata": {},
     "output_type": "display_data"
    }
   ],
   "source": [
    "import pandas as pd\n",
    "import numpy as np\n",
    "import plotly.graph_objs as go\n",
    "from plotly.offline import download_plotlyjs, init_notebook_mode, plot, iplot\n",
    "from sklearn.model_selection import train_test_split\n",
    "from sklearn.ensemble import RandomForestClassifier\n",
    "from sklearn.metrics import f1_score\n",
    "from sklearn.model_selection import GridSearchCV\n",
    "\n",
    "# enable offline plotting in plotly\n",
    "init_notebook_mode(connected=True)"
   ]
  },
  {
   "cell_type": "code",
   "execution_count": 73,
   "metadata": {},
   "outputs": [],
   "source": [
    "# load our 3 datasets\n",
    "users = pd.read_csv('data/user_features.csv')\n",
    "problems =  pd.read_csv('data/problem_features.csv')\n",
    "submissions = pd.read_csv('data/train_submissions.csv')"
   ]
  },
  {
   "cell_type": "markdown",
   "metadata": {},
   "source": [
    "## Background & Problem Statement "
   ]
  },
  {
   "cell_type": "markdown",
   "metadata": {},
   "source": [
    "Ultimately, our goal is to recommend practice problems to users given some information about the problems they have already solved. There are many criteria we could choose to base how we recommend problems. For the purpose of this model, I will keep the criteria simple. The criteria are as follows:\n",
    "\n",
    "1. The problem has not yet been attempted by the user.\n",
    "2. The predicted number of attempts the user will require to solve the problem is equal to 2 or 3.\n",
    "\n",
    "Given the criteria defined above, we must first be able to predict how many attempts a user will require to solve a problem they've never attempted before. I will perform this prediction using two very different models. \n",
    "\n",
    "The first model will be a Random Forest Classifier. For this model, I will use meta data available for users and problems. The goal is to find patterns in the user and problem features that predict well the number of attempts for a given user-problem combination.\n",
    "\n",
    "The second model will be a collaborative filtering model. This model will employ stochastic gradient descent (SGD) to find an approximate solution to the single value decomposition (SVD) of our user-problem matrix. In this case, we will not use any user or problem features. Predictions will be made exclusively using the history of users and problems solved."
   ]
  },
  {
   "cell_type": "markdown",
   "metadata": {},
   "source": [
    "Let's take a quick look at the submissions dataset. This dataset has 3 columns: user_id, problem_id, and attempts_range. Attempts_range gives the range of attempts that the user_id took to solve the problem_id and is defined in the original datasource as shown below."
   ]
  },
  {
   "cell_type": "code",
   "execution_count": 75,
   "metadata": {
    "scrolled": true
   },
   "outputs": [
    {
     "data": {
      "text/html": [
       "<div>\n",
       "<style scoped>\n",
       "    .dataframe tbody tr th:only-of-type {\n",
       "        vertical-align: middle;\n",
       "    }\n",
       "\n",
       "    .dataframe tbody tr th {\n",
       "        vertical-align: top;\n",
       "    }\n",
       "\n",
       "    .dataframe thead th {\n",
       "        text-align: right;\n",
       "    }\n",
       "</style>\n",
       "<table border=\"1\" class=\"dataframe\">\n",
       "  <thead>\n",
       "    <tr style=\"text-align: right;\">\n",
       "      <th></th>\n",
       "      <th>user_id</th>\n",
       "      <th>problem_id</th>\n",
       "      <th>attempts_range</th>\n",
       "    </tr>\n",
       "  </thead>\n",
       "  <tbody>\n",
       "    <tr>\n",
       "      <th>0</th>\n",
       "      <td>user_232</td>\n",
       "      <td>prob_6507</td>\n",
       "      <td>1</td>\n",
       "    </tr>\n",
       "    <tr>\n",
       "      <th>1</th>\n",
       "      <td>user_3568</td>\n",
       "      <td>prob_2994</td>\n",
       "      <td>3</td>\n",
       "    </tr>\n",
       "    <tr>\n",
       "      <th>2</th>\n",
       "      <td>user_1600</td>\n",
       "      <td>prob_5071</td>\n",
       "      <td>1</td>\n",
       "    </tr>\n",
       "    <tr>\n",
       "      <th>3</th>\n",
       "      <td>user_2256</td>\n",
       "      <td>prob_703</td>\n",
       "      <td>1</td>\n",
       "    </tr>\n",
       "    <tr>\n",
       "      <th>4</th>\n",
       "      <td>user_2321</td>\n",
       "      <td>prob_356</td>\n",
       "      <td>1</td>\n",
       "    </tr>\n",
       "  </tbody>\n",
       "</table>\n",
       "</div>"
      ],
      "text/plain": [
       "     user_id problem_id  attempts_range\n",
       "0   user_232  prob_6507               1\n",
       "1  user_3568  prob_2994               3\n",
       "2  user_1600  prob_5071               1\n",
       "3  user_2256   prob_703               1\n",
       "4  user_2321   prob_356               1"
      ]
     },
     "execution_count": 75,
     "metadata": {},
     "output_type": "execute_result"
    }
   ],
   "source": [
    "submissions.head()"
   ]
  },
  {
   "cell_type": "markdown",
   "metadata": {},
   "source": [
    ">We have used following criteria to define the attempts_range :-\n",
    ">\n",
    ">            attempts_range            No. of attempts lies inside\n",
    ">\n",
    ">            1                                         1-1\n",
    ">\n",
    ">            2                                         2-3\n",
    ">\n",
    ">            3                                         4-5\n",
    ">\n",
    ">            4                                         6-7\n",
    ">\n",
    ">            5                                         8-9\n",
    ">\n",
    ">            6                                         >=10"
   ]
  },
  {
   "cell_type": "markdown",
   "metadata": {},
   "source": [
    "## Random Forest Model"
   ]
  },
  {
   "cell_type": "markdown",
   "metadata": {},
   "source": [
    "### Preparing data for random forest "
   ]
  },
  {
   "cell_type": "markdown",
   "metadata": {},
   "source": [
    "The first thing we need to do to prepare the data for the random forest model is convert categorical, string columns into dummy variables. We do this for both the user and problem features."
   ]
  },
  {
   "cell_type": "code",
   "execution_count": 76,
   "metadata": {
    "scrolled": true
   },
   "outputs": [
    {
     "data": {
      "text/html": [
       "<div>\n",
       "<style scoped>\n",
       "    .dataframe tbody tr th:only-of-type {\n",
       "        vertical-align: middle;\n",
       "    }\n",
       "\n",
       "    .dataframe tbody tr th {\n",
       "        vertical-align: top;\n",
       "    }\n",
       "\n",
       "    .dataframe thead th {\n",
       "        text-align: right;\n",
       "    }\n",
       "</style>\n",
       "<table border=\"1\" class=\"dataframe\">\n",
       "  <thead>\n",
       "    <tr style=\"text-align: right;\">\n",
       "      <th></th>\n",
       "      <th>user_id</th>\n",
       "      <th>submission_count</th>\n",
       "      <th>problem_solved</th>\n",
       "      <th>contribution</th>\n",
       "      <th>follower_count</th>\n",
       "      <th>last_online_time_seconds</th>\n",
       "      <th>max_rating</th>\n",
       "      <th>rating</th>\n",
       "      <th>registration_time_seconds</th>\n",
       "      <th>user_attempts_median</th>\n",
       "      <th>...</th>\n",
       "      <th>country_Ukraine</th>\n",
       "      <th>country_United Kingdom</th>\n",
       "      <th>country_United States</th>\n",
       "      <th>country_Uzbekistan</th>\n",
       "      <th>country_Venezuela</th>\n",
       "      <th>country_Vietnam</th>\n",
       "      <th>rank_advanced</th>\n",
       "      <th>rank_beginner</th>\n",
       "      <th>rank_expert</th>\n",
       "      <th>rank_intermediate</th>\n",
       "    </tr>\n",
       "  </thead>\n",
       "  <tbody>\n",
       "    <tr>\n",
       "      <th>0</th>\n",
       "      <td>user_1</td>\n",
       "      <td>84</td>\n",
       "      <td>73</td>\n",
       "      <td>10</td>\n",
       "      <td>120</td>\n",
       "      <td>1505162220</td>\n",
       "      <td>502.007</td>\n",
       "      <td>499.713</td>\n",
       "      <td>1469108674</td>\n",
       "      <td>1.0</td>\n",
       "      <td>...</td>\n",
       "      <td>0</td>\n",
       "      <td>0</td>\n",
       "      <td>0</td>\n",
       "      <td>0</td>\n",
       "      <td>0</td>\n",
       "      <td>0</td>\n",
       "      <td>1</td>\n",
       "      <td>0</td>\n",
       "      <td>0</td>\n",
       "      <td>0</td>\n",
       "    </tr>\n",
       "    <tr>\n",
       "      <th>1</th>\n",
       "      <td>user_10</td>\n",
       "      <td>246</td>\n",
       "      <td>211</td>\n",
       "      <td>0</td>\n",
       "      <td>30</td>\n",
       "      <td>1505079658</td>\n",
       "      <td>326.548</td>\n",
       "      <td>313.360</td>\n",
       "      <td>1472038187</td>\n",
       "      <td>1.0</td>\n",
       "      <td>...</td>\n",
       "      <td>0</td>\n",
       "      <td>0</td>\n",
       "      <td>0</td>\n",
       "      <td>0</td>\n",
       "      <td>0</td>\n",
       "      <td>0</td>\n",
       "      <td>0</td>\n",
       "      <td>0</td>\n",
       "      <td>0</td>\n",
       "      <td>1</td>\n",
       "    </tr>\n",
       "    <tr>\n",
       "      <th>2</th>\n",
       "      <td>user_100</td>\n",
       "      <td>642</td>\n",
       "      <td>574</td>\n",
       "      <td>27</td>\n",
       "      <td>106</td>\n",
       "      <td>1505073569</td>\n",
       "      <td>458.429</td>\n",
       "      <td>385.894</td>\n",
       "      <td>1323974332</td>\n",
       "      <td>1.0</td>\n",
       "      <td>...</td>\n",
       "      <td>0</td>\n",
       "      <td>0</td>\n",
       "      <td>0</td>\n",
       "      <td>0</td>\n",
       "      <td>0</td>\n",
       "      <td>0</td>\n",
       "      <td>0</td>\n",
       "      <td>0</td>\n",
       "      <td>0</td>\n",
       "      <td>1</td>\n",
       "    </tr>\n",
       "    <tr>\n",
       "      <th>3</th>\n",
       "      <td>user_1000</td>\n",
       "      <td>259</td>\n",
       "      <td>235</td>\n",
       "      <td>0</td>\n",
       "      <td>41</td>\n",
       "      <td>1505579889</td>\n",
       "      <td>371.273</td>\n",
       "      <td>336.583</td>\n",
       "      <td>1450375392</td>\n",
       "      <td>1.0</td>\n",
       "      <td>...</td>\n",
       "      <td>0</td>\n",
       "      <td>0</td>\n",
       "      <td>0</td>\n",
       "      <td>0</td>\n",
       "      <td>0</td>\n",
       "      <td>0</td>\n",
       "      <td>0</td>\n",
       "      <td>0</td>\n",
       "      <td>0</td>\n",
       "      <td>1</td>\n",
       "    </tr>\n",
       "    <tr>\n",
       "      <th>4</th>\n",
       "      <td>user_1001</td>\n",
       "      <td>554</td>\n",
       "      <td>492</td>\n",
       "      <td>-6</td>\n",
       "      <td>55</td>\n",
       "      <td>1504521879</td>\n",
       "      <td>472.190</td>\n",
       "      <td>450.975</td>\n",
       "      <td>1423399585</td>\n",
       "      <td>1.0</td>\n",
       "      <td>...</td>\n",
       "      <td>0</td>\n",
       "      <td>0</td>\n",
       "      <td>0</td>\n",
       "      <td>0</td>\n",
       "      <td>0</td>\n",
       "      <td>0</td>\n",
       "      <td>0</td>\n",
       "      <td>0</td>\n",
       "      <td>0</td>\n",
       "      <td>1</td>\n",
       "    </tr>\n",
       "  </tbody>\n",
       "</table>\n",
       "<p>5 rows × 98 columns</p>\n",
       "</div>"
      ],
      "text/plain": [
       "     user_id  submission_count  problem_solved  contribution  follower_count  \\\n",
       "0     user_1                84              73            10             120   \n",
       "1    user_10               246             211             0              30   \n",
       "2   user_100               642             574            27             106   \n",
       "3  user_1000               259             235             0              41   \n",
       "4  user_1001               554             492            -6              55   \n",
       "\n",
       "   last_online_time_seconds  max_rating   rating  registration_time_seconds  \\\n",
       "0                1505162220     502.007  499.713                 1469108674   \n",
       "1                1505079658     326.548  313.360                 1472038187   \n",
       "2                1505073569     458.429  385.894                 1323974332   \n",
       "3                1505579889     371.273  336.583                 1450375392   \n",
       "4                1504521879     472.190  450.975                 1423399585   \n",
       "\n",
       "   user_attempts_median        ...          country_Ukraine  \\\n",
       "0                   1.0        ...                        0   \n",
       "1                   1.0        ...                        0   \n",
       "2                   1.0        ...                        0   \n",
       "3                   1.0        ...                        0   \n",
       "4                   1.0        ...                        0   \n",
       "\n",
       "   country_United Kingdom  country_United States  country_Uzbekistan  \\\n",
       "0                       0                      0                   0   \n",
       "1                       0                      0                   0   \n",
       "2                       0                      0                   0   \n",
       "3                       0                      0                   0   \n",
       "4                       0                      0                   0   \n",
       "\n",
       "   country_Venezuela  country_Vietnam  rank_advanced  rank_beginner  \\\n",
       "0                  0                0              1              0   \n",
       "1                  0                0              0              0   \n",
       "2                  0                0              0              0   \n",
       "3                  0                0              0              0   \n",
       "4                  0                0              0              0   \n",
       "\n",
       "   rank_expert  rank_intermediate  \n",
       "0            0                  0  \n",
       "1            0                  1  \n",
       "2            0                  1  \n",
       "3            0                  1  \n",
       "4            0                  1  \n",
       "\n",
       "[5 rows x 98 columns]"
      ]
     },
     "execution_count": 76,
     "metadata": {},
     "output_type": "execute_result"
    }
   ],
   "source": [
    "users = pd.get_dummies(users.set_index('user_id')).reset_index()\n",
    "users.head()"
   ]
  },
  {
   "cell_type": "code",
   "execution_count": 79,
   "metadata": {},
   "outputs": [
    {
     "data": {
      "text/html": [
       "<div>\n",
       "<style scoped>\n",
       "    .dataframe tbody tr th:only-of-type {\n",
       "        vertical-align: middle;\n",
       "    }\n",
       "\n",
       "    .dataframe tbody tr th {\n",
       "        vertical-align: top;\n",
       "    }\n",
       "\n",
       "    .dataframe thead th {\n",
       "        text-align: right;\n",
       "    }\n",
       "</style>\n",
       "<table border=\"1\" class=\"dataframe\">\n",
       "  <thead>\n",
       "    <tr style=\"text-align: right;\">\n",
       "      <th></th>\n",
       "      <th>problem_id</th>\n",
       "      <th>problem_attempts_median</th>\n",
       "      <th>problem_attempts_min</th>\n",
       "      <th>problem_attempts_max</th>\n",
       "      <th>problem_attempts_count</th>\n",
       "      <th>problem_attempts_iqr</th>\n",
       "      <th>algorithms</th>\n",
       "      <th>and</th>\n",
       "      <th>binary</th>\n",
       "      <th>bitmasks</th>\n",
       "      <th>...</th>\n",
       "      <th>string</th>\n",
       "      <th>strings</th>\n",
       "      <th>structures</th>\n",
       "      <th>suffix</th>\n",
       "      <th>ternary</th>\n",
       "      <th>the</th>\n",
       "      <th>theorem</th>\n",
       "      <th>theory</th>\n",
       "      <th>trees</th>\n",
       "      <th>two</th>\n",
       "    </tr>\n",
       "  </thead>\n",
       "  <tbody>\n",
       "    <tr>\n",
       "      <th>0</th>\n",
       "      <td>prob_1</td>\n",
       "      <td>1.5</td>\n",
       "      <td>1.0</td>\n",
       "      <td>2.0</td>\n",
       "      <td>2.0</td>\n",
       "      <td>0.005</td>\n",
       "      <td>0</td>\n",
       "      <td>0</td>\n",
       "      <td>0</td>\n",
       "      <td>0</td>\n",
       "      <td>...</td>\n",
       "      <td>0</td>\n",
       "      <td>0</td>\n",
       "      <td>0</td>\n",
       "      <td>0</td>\n",
       "      <td>0</td>\n",
       "      <td>0</td>\n",
       "      <td>0</td>\n",
       "      <td>0</td>\n",
       "      <td>0</td>\n",
       "      <td>0</td>\n",
       "    </tr>\n",
       "    <tr>\n",
       "      <th>1</th>\n",
       "      <td>prob_10</td>\n",
       "      <td>6.0</td>\n",
       "      <td>6.0</td>\n",
       "      <td>6.0</td>\n",
       "      <td>1.0</td>\n",
       "      <td>0.000</td>\n",
       "      <td>0</td>\n",
       "      <td>0</td>\n",
       "      <td>0</td>\n",
       "      <td>0</td>\n",
       "      <td>...</td>\n",
       "      <td>0</td>\n",
       "      <td>0</td>\n",
       "      <td>0</td>\n",
       "      <td>0</td>\n",
       "      <td>0</td>\n",
       "      <td>0</td>\n",
       "      <td>0</td>\n",
       "      <td>0</td>\n",
       "      <td>0</td>\n",
       "      <td>0</td>\n",
       "    </tr>\n",
       "    <tr>\n",
       "      <th>2</th>\n",
       "      <td>prob_100</td>\n",
       "      <td>1.0</td>\n",
       "      <td>1.0</td>\n",
       "      <td>1.0</td>\n",
       "      <td>1.0</td>\n",
       "      <td>0.000</td>\n",
       "      <td>0</td>\n",
       "      <td>0</td>\n",
       "      <td>0</td>\n",
       "      <td>0</td>\n",
       "      <td>...</td>\n",
       "      <td>0</td>\n",
       "      <td>0</td>\n",
       "      <td>0</td>\n",
       "      <td>0</td>\n",
       "      <td>0</td>\n",
       "      <td>0</td>\n",
       "      <td>0</td>\n",
       "      <td>0</td>\n",
       "      <td>0</td>\n",
       "      <td>0</td>\n",
       "    </tr>\n",
       "    <tr>\n",
       "      <th>3</th>\n",
       "      <td>prob_1000</td>\n",
       "      <td>1.0</td>\n",
       "      <td>1.0</td>\n",
       "      <td>6.0</td>\n",
       "      <td>246.0</td>\n",
       "      <td>0.000</td>\n",
       "      <td>0</td>\n",
       "      <td>0</td>\n",
       "      <td>0</td>\n",
       "      <td>0</td>\n",
       "      <td>...</td>\n",
       "      <td>0</td>\n",
       "      <td>0</td>\n",
       "      <td>0</td>\n",
       "      <td>0</td>\n",
       "      <td>0</td>\n",
       "      <td>0</td>\n",
       "      <td>0</td>\n",
       "      <td>0</td>\n",
       "      <td>0</td>\n",
       "      <td>0</td>\n",
       "    </tr>\n",
       "    <tr>\n",
       "      <th>4</th>\n",
       "      <td>prob_1001</td>\n",
       "      <td>1.0</td>\n",
       "      <td>1.0</td>\n",
       "      <td>2.0</td>\n",
       "      <td>10.0</td>\n",
       "      <td>0.000</td>\n",
       "      <td>0</td>\n",
       "      <td>0</td>\n",
       "      <td>0</td>\n",
       "      <td>0</td>\n",
       "      <td>...</td>\n",
       "      <td>0</td>\n",
       "      <td>0</td>\n",
       "      <td>0</td>\n",
       "      <td>0</td>\n",
       "      <td>0</td>\n",
       "      <td>0</td>\n",
       "      <td>0</td>\n",
       "      <td>0</td>\n",
       "      <td>0</td>\n",
       "      <td>0</td>\n",
       "    </tr>\n",
       "  </tbody>\n",
       "</table>\n",
       "<p>5 rows × 61 columns</p>\n",
       "</div>"
      ],
      "text/plain": [
       "  problem_id  problem_attempts_median  problem_attempts_min  \\\n",
       "0     prob_1                      1.5                   1.0   \n",
       "1    prob_10                      6.0                   6.0   \n",
       "2   prob_100                      1.0                   1.0   \n",
       "3  prob_1000                      1.0                   1.0   \n",
       "4  prob_1001                      1.0                   1.0   \n",
       "\n",
       "   problem_attempts_max  problem_attempts_count  problem_attempts_iqr  \\\n",
       "0                   2.0                     2.0                 0.005   \n",
       "1                   6.0                     1.0                 0.000   \n",
       "2                   1.0                     1.0                 0.000   \n",
       "3                   6.0                   246.0                 0.000   \n",
       "4                   2.0                    10.0                 0.000   \n",
       "\n",
       "   algorithms  and  binary  bitmasks ...   string  strings  structures  \\\n",
       "0           0    0       0         0 ...        0        0           0   \n",
       "1           0    0       0         0 ...        0        0           0   \n",
       "2           0    0       0         0 ...        0        0           0   \n",
       "3           0    0       0         0 ...        0        0           0   \n",
       "4           0    0       0         0 ...        0        0           0   \n",
       "\n",
       "   suffix  ternary  the  theorem  theory  trees  two  \n",
       "0       0        0    0        0       0      0    0  \n",
       "1       0        0    0        0       0      0    0  \n",
       "2       0        0    0        0       0      0    0  \n",
       "3       0        0    0        0       0      0    0  \n",
       "4       0        0    0        0       0      0    0  \n",
       "\n",
       "[5 rows x 61 columns]"
      ]
     },
     "execution_count": 79,
     "metadata": {},
     "output_type": "execute_result"
    }
   ],
   "source": [
    "problems = pd.get_dummies(problems.set_index('problem_id')).reset_index()\n",
    "problems.head()"
   ]
  },
  {
   "cell_type": "markdown",
   "metadata": {},
   "source": [
    "Next, we will prepare a single dataframe that joins the user and problem features with the submissions data."
   ]
  },
  {
   "cell_type": "code",
   "execution_count": 82,
   "metadata": {},
   "outputs": [
    {
     "data": {
      "text/html": [
       "<div>\n",
       "<style scoped>\n",
       "    .dataframe tbody tr th:only-of-type {\n",
       "        vertical-align: middle;\n",
       "    }\n",
       "\n",
       "    .dataframe tbody tr th {\n",
       "        vertical-align: top;\n",
       "    }\n",
       "\n",
       "    .dataframe thead th {\n",
       "        text-align: right;\n",
       "    }\n",
       "</style>\n",
       "<table border=\"1\" class=\"dataframe\">\n",
       "  <thead>\n",
       "    <tr style=\"text-align: right;\">\n",
       "      <th></th>\n",
       "      <th></th>\n",
       "      <th>submission_count</th>\n",
       "      <th>problem_solved</th>\n",
       "      <th>contribution</th>\n",
       "      <th>follower_count</th>\n",
       "      <th>last_online_time_seconds</th>\n",
       "      <th>max_rating</th>\n",
       "      <th>rating</th>\n",
       "      <th>registration_time_seconds</th>\n",
       "      <th>user_attempts_median</th>\n",
       "      <th>user_attempts_min</th>\n",
       "      <th>...</th>\n",
       "      <th>string</th>\n",
       "      <th>strings</th>\n",
       "      <th>structures</th>\n",
       "      <th>suffix</th>\n",
       "      <th>ternary</th>\n",
       "      <th>the</th>\n",
       "      <th>theorem</th>\n",
       "      <th>theory</th>\n",
       "      <th>trees</th>\n",
       "      <th>two</th>\n",
       "    </tr>\n",
       "    <tr>\n",
       "      <th>user_id</th>\n",
       "      <th>problem_id</th>\n",
       "      <th></th>\n",
       "      <th></th>\n",
       "      <th></th>\n",
       "      <th></th>\n",
       "      <th></th>\n",
       "      <th></th>\n",
       "      <th></th>\n",
       "      <th></th>\n",
       "      <th></th>\n",
       "      <th></th>\n",
       "      <th></th>\n",
       "      <th></th>\n",
       "      <th></th>\n",
       "      <th></th>\n",
       "      <th></th>\n",
       "      <th></th>\n",
       "      <th></th>\n",
       "      <th></th>\n",
       "      <th></th>\n",
       "      <th></th>\n",
       "      <th></th>\n",
       "    </tr>\n",
       "  </thead>\n",
       "  <tbody>\n",
       "    <tr>\n",
       "      <th>user_232</th>\n",
       "      <th>prob_6507</th>\n",
       "      <td>53</td>\n",
       "      <td>47</td>\n",
       "      <td>0</td>\n",
       "      <td>1</td>\n",
       "      <td>1503633778</td>\n",
       "      <td>307.913</td>\n",
       "      <td>206.709</td>\n",
       "      <td>1432110935</td>\n",
       "      <td>2.0</td>\n",
       "      <td>1.0</td>\n",
       "      <td>...</td>\n",
       "      <td>0</td>\n",
       "      <td>1</td>\n",
       "      <td>0</td>\n",
       "      <td>0</td>\n",
       "      <td>0</td>\n",
       "      <td>0</td>\n",
       "      <td>0</td>\n",
       "      <td>0</td>\n",
       "      <td>0</td>\n",
       "      <td>0</td>\n",
       "    </tr>\n",
       "    <tr>\n",
       "      <th>user_1910</th>\n",
       "      <th>prob_6507</th>\n",
       "      <td>240</td>\n",
       "      <td>218</td>\n",
       "      <td>0</td>\n",
       "      <td>50</td>\n",
       "      <td>1505252563</td>\n",
       "      <td>319.954</td>\n",
       "      <td>291.284</td>\n",
       "      <td>1385471472</td>\n",
       "      <td>1.0</td>\n",
       "      <td>1.0</td>\n",
       "      <td>...</td>\n",
       "      <td>0</td>\n",
       "      <td>1</td>\n",
       "      <td>0</td>\n",
       "      <td>0</td>\n",
       "      <td>0</td>\n",
       "      <td>0</td>\n",
       "      <td>0</td>\n",
       "      <td>0</td>\n",
       "      <td>0</td>\n",
       "      <td>0</td>\n",
       "    </tr>\n",
       "    <tr>\n",
       "      <th>user_1824</th>\n",
       "      <th>prob_6507</th>\n",
       "      <td>370</td>\n",
       "      <td>336</td>\n",
       "      <td>-10</td>\n",
       "      <td>30</td>\n",
       "      <td>1505395587</td>\n",
       "      <td>307.339</td>\n",
       "      <td>295.585</td>\n",
       "      <td>1471685215</td>\n",
       "      <td>1.0</td>\n",
       "      <td>1.0</td>\n",
       "      <td>...</td>\n",
       "      <td>0</td>\n",
       "      <td>1</td>\n",
       "      <td>0</td>\n",
       "      <td>0</td>\n",
       "      <td>0</td>\n",
       "      <td>0</td>\n",
       "      <td>0</td>\n",
       "      <td>0</td>\n",
       "      <td>0</td>\n",
       "      <td>0</td>\n",
       "    </tr>\n",
       "    <tr>\n",
       "      <th>user_895</th>\n",
       "      <th>prob_6507</th>\n",
       "      <td>318</td>\n",
       "      <td>286</td>\n",
       "      <td>0</td>\n",
       "      <td>20</td>\n",
       "      <td>1505511056</td>\n",
       "      <td>304.186</td>\n",
       "      <td>191.514</td>\n",
       "      <td>1475529522</td>\n",
       "      <td>2.0</td>\n",
       "      <td>1.0</td>\n",
       "      <td>...</td>\n",
       "      <td>0</td>\n",
       "      <td>1</td>\n",
       "      <td>0</td>\n",
       "      <td>0</td>\n",
       "      <td>0</td>\n",
       "      <td>0</td>\n",
       "      <td>0</td>\n",
       "      <td>0</td>\n",
       "      <td>0</td>\n",
       "      <td>0</td>\n",
       "    </tr>\n",
       "    <tr>\n",
       "      <th>user_779</th>\n",
       "      <th>prob_6507</th>\n",
       "      <td>463</td>\n",
       "      <td>410</td>\n",
       "      <td>0</td>\n",
       "      <td>39</td>\n",
       "      <td>1504799078</td>\n",
       "      <td>374.713</td>\n",
       "      <td>374.713</td>\n",
       "      <td>1437245990</td>\n",
       "      <td>1.0</td>\n",
       "      <td>1.0</td>\n",
       "      <td>...</td>\n",
       "      <td>0</td>\n",
       "      <td>1</td>\n",
       "      <td>0</td>\n",
       "      <td>0</td>\n",
       "      <td>0</td>\n",
       "      <td>0</td>\n",
       "      <td>0</td>\n",
       "      <td>0</td>\n",
       "      <td>0</td>\n",
       "      <td>0</td>\n",
       "    </tr>\n",
       "  </tbody>\n",
       "</table>\n",
       "<p>5 rows × 157 columns</p>\n",
       "</div>"
      ],
      "text/plain": [
       "                      submission_count  problem_solved  contribution  \\\n",
       "user_id   problem_id                                                   \n",
       "user_232  prob_6507                 53              47             0   \n",
       "user_1910 prob_6507                240             218             0   \n",
       "user_1824 prob_6507                370             336           -10   \n",
       "user_895  prob_6507                318             286             0   \n",
       "user_779  prob_6507                463             410             0   \n",
       "\n",
       "                      follower_count  last_online_time_seconds  max_rating  \\\n",
       "user_id   problem_id                                                         \n",
       "user_232  prob_6507                1                1503633778     307.913   \n",
       "user_1910 prob_6507               50                1505252563     319.954   \n",
       "user_1824 prob_6507               30                1505395587     307.339   \n",
       "user_895  prob_6507               20                1505511056     304.186   \n",
       "user_779  prob_6507               39                1504799078     374.713   \n",
       "\n",
       "                       rating  registration_time_seconds  \\\n",
       "user_id   problem_id                                       \n",
       "user_232  prob_6507   206.709                 1432110935   \n",
       "user_1910 prob_6507   291.284                 1385471472   \n",
       "user_1824 prob_6507   295.585                 1471685215   \n",
       "user_895  prob_6507   191.514                 1475529522   \n",
       "user_779  prob_6507   374.713                 1437245990   \n",
       "\n",
       "                      user_attempts_median  user_attempts_min ...   string  \\\n",
       "user_id   problem_id                                          ...            \n",
       "user_232  prob_6507                    2.0                1.0 ...        0   \n",
       "user_1910 prob_6507                    1.0                1.0 ...        0   \n",
       "user_1824 prob_6507                    1.0                1.0 ...        0   \n",
       "user_895  prob_6507                    2.0                1.0 ...        0   \n",
       "user_779  prob_6507                    1.0                1.0 ...        0   \n",
       "\n",
       "                      strings  structures  suffix  ternary  the  theorem  \\\n",
       "user_id   problem_id                                                       \n",
       "user_232  prob_6507         1           0       0        0    0        0   \n",
       "user_1910 prob_6507         1           0       0        0    0        0   \n",
       "user_1824 prob_6507         1           0       0        0    0        0   \n",
       "user_895  prob_6507         1           0       0        0    0        0   \n",
       "user_779  prob_6507         1           0       0        0    0        0   \n",
       "\n",
       "                      theory  trees  two  \n",
       "user_id   problem_id                      \n",
       "user_232  prob_6507        0      0    0  \n",
       "user_1910 prob_6507        0      0    0  \n",
       "user_1824 prob_6507        0      0    0  \n",
       "user_895  prob_6507        0      0    0  \n",
       "user_779  prob_6507        0      0    0  \n",
       "\n",
       "[5 rows x 157 columns]"
      ]
     },
     "execution_count": 82,
     "metadata": {},
     "output_type": "execute_result"
    }
   ],
   "source": [
    "X = submissions.merge(users, on='user_id').merge(problems, on='problem_id')\n",
    "\n",
    "# remove rows with any null values\n",
    "X = X.loc[:,X.notnull().all()]\n",
    "\n",
    "y = X.set_index(['user_id', 'problem_id'])['attempts_range']\n",
    "X = X.set_index(['user_id', 'problem_id']).loc[:,'submission_count':]\n",
    "\n",
    "X.head()"
   ]
  },
  {
   "cell_type": "code",
   "execution_count": 83,
   "metadata": {},
   "outputs": [
    {
     "data": {
      "text/plain": [
       "user_id    problem_id\n",
       "user_232   prob_6507     1\n",
       "user_1910  prob_6507     2\n",
       "user_1824  prob_6507     2\n",
       "user_895   prob_6507     1\n",
       "user_779   prob_6507     1\n",
       "Name: attempts_range, dtype: int64"
      ]
     },
     "execution_count": 83,
     "metadata": {},
     "output_type": "execute_result"
    }
   ],
   "source": [
    "y.head()"
   ]
  },
  {
   "cell_type": "markdown",
   "metadata": {},
   "source": [
    "Dataframe X now contains all of the user and problem feature data for each combination of user_id and problem_id. Thus, for each training sample or row, we will use the combination of user and problem features to predict the attempts_range. The attempts_range for each user-problem combination is saved in y."
   ]
  },
  {
   "cell_type": "markdown",
   "metadata": {},
   "source": [
    "Next, we'll split the data into train and test sets."
   ]
  },
  {
   "cell_type": "code",
   "execution_count": 84,
   "metadata": {},
   "outputs": [],
   "source": [
    "X_train, X_test, y_train, y_test = train_test_split(X, y, test_size=0.33, random_state=42)"
   ]
  },
  {
   "cell_type": "markdown",
   "metadata": {},
   "source": [
    "### Training"
   ]
  },
  {
   "cell_type": "markdown",
   "metadata": {},
   "source": [
    "We will start by building a baseline, out-of-box model and try to improve it from there."
   ]
  },
  {
   "cell_type": "markdown",
   "metadata": {},
   "source": [
    "#### Baseline model"
   ]
  },
  {
   "cell_type": "code",
   "execution_count": 95,
   "metadata": {},
   "outputs": [
    {
     "data": {
      "text/plain": [
       "RandomForestClassifier(bootstrap=True, class_weight=None, criterion='gini',\n",
       "            max_depth=None, max_features='auto', max_leaf_nodes=None,\n",
       "            min_impurity_decrease=0.0, min_impurity_split=None,\n",
       "            min_samples_leaf=1, min_samples_split=2,\n",
       "            min_weight_fraction_leaf=0.0, n_estimators=10, n_jobs=-1,\n",
       "            oob_score=False, random_state=None, verbose=0,\n",
       "            warm_start=False)"
      ]
     },
     "execution_count": 95,
     "metadata": {},
     "output_type": "execute_result"
    }
   ],
   "source": [
    "clf = RandomForestClassifier(n_jobs=-1)\n",
    "\n",
    "clf.fit(X_train, y_train)"
   ]
  },
  {
   "cell_type": "code",
   "execution_count": 101,
   "metadata": {},
   "outputs": [
    {
     "data": {
      "text/plain": [
       "0.49979545702473027"
      ]
     },
     "execution_count": 101,
     "metadata": {},
     "output_type": "execute_result"
    }
   ],
   "source": [
    "y_pred = clf.predict(X_test)\n",
    "\n",
    "f1_score(y_test, y_pred, average='weighted')"
   ]
  },
  {
   "cell_type": "markdown",
   "metadata": {},
   "source": [
    "The baseline model produces an f1_score of 0.5. This is far from 1. We can use GridSearhCV to try to tune the hyperparameters of the model. Rather than passing a large dictionary object of all the hyperparameters we want to tune at once, I will explore each of the hyperparameters individually. This will make it more straightforward when interpretting the effects of each hyperparameter. At the end, I will then pass all of the hyperparameters to GridSearchCV to find the optimal combination of all hyperparameters."
   ]
  },
  {
   "cell_type": "markdown",
   "metadata": {},
   "source": [
    "#### n_estimators"
   ]
  },
  {
   "cell_type": "markdown",
   "metadata": {},
   "source": [
    "n_estimators defines how many trees the model will have. Generally, the more trees the better the model will generalize. However more trees equals more computation and therefore we want to strike a balance between fit to the test data and train + test times."
   ]
  },
  {
   "cell_type": "markdown",
   "metadata": {},
   "source": [
    "With GridSearchCV, we can define the scoring function. Since we want to maximize the f1_score function with \"weighted\" averaging from sklearn.metrics, we pass this same scoring function to GridSearchCV."
   ]
  },
  {
   "cell_type": "code",
   "execution_count": 132,
   "metadata": {},
   "outputs": [
    {
     "name": "stdout",
     "output_type": "stream",
     "text": [
      "Wall time: 3min 56s\n"
     ]
    }
   ],
   "source": [
    "%%time\n",
    "param_grid = {'n_estimators': [5,10,50,100,150,200,250]}\n",
    "\n",
    "clf = RandomForestClassifier(n_jobs=-1)\n",
    "\n",
    "cv = GridSearchCV(clf, param_grid=param_grid, \n",
    "                  scoring='f1_weighted', cv=5, \n",
    "                  iid=True, n_jobs=-1, \n",
    "                  return_train_score=True)\n",
    "\n",
    "cv.fit(X_train,y_train)"
   ]
  },
  {
   "cell_type": "markdown",
   "metadata": {},
   "source": [
    "The results of the search are shown below. "
   ]
  },
  {
   "cell_type": "code",
   "execution_count": 153,
   "metadata": {},
   "outputs": [
    {
     "data": {
      "text/html": [
       "<div>\n",
       "<style scoped>\n",
       "    .dataframe tbody tr th:only-of-type {\n",
       "        vertical-align: middle;\n",
       "    }\n",
       "\n",
       "    .dataframe tbody tr th {\n",
       "        vertical-align: top;\n",
       "    }\n",
       "\n",
       "    .dataframe thead th {\n",
       "        text-align: right;\n",
       "    }\n",
       "</style>\n",
       "<table border=\"1\" class=\"dataframe\">\n",
       "  <thead>\n",
       "    <tr style=\"text-align: right;\">\n",
       "      <th></th>\n",
       "      <th>n_estimators</th>\n",
       "      <th>combined_mean_fit-test_time</th>\n",
       "      <th>mean_test_score</th>\n",
       "      <th>mean_train_score</th>\n",
       "    </tr>\n",
       "  </thead>\n",
       "  <tbody>\n",
       "    <tr>\n",
       "      <th>0</th>\n",
       "      <td>5</td>\n",
       "      <td>0.754767</td>\n",
       "      <td>0.490222</td>\n",
       "      <td>0.936031</td>\n",
       "    </tr>\n",
       "    <tr>\n",
       "      <th>1</th>\n",
       "      <td>10</td>\n",
       "      <td>0.981347</td>\n",
       "      <td>0.502005</td>\n",
       "      <td>0.974539</td>\n",
       "    </tr>\n",
       "    <tr>\n",
       "      <th>2</th>\n",
       "      <td>50</td>\n",
       "      <td>7.770343</td>\n",
       "      <td>0.511544</td>\n",
       "      <td>0.998722</td>\n",
       "    </tr>\n",
       "    <tr>\n",
       "      <th>3</th>\n",
       "      <td>100</td>\n",
       "      <td>64.798515</td>\n",
       "      <td>0.516341</td>\n",
       "      <td>0.999034</td>\n",
       "    </tr>\n",
       "    <tr>\n",
       "      <th>4</th>\n",
       "      <td>150</td>\n",
       "      <td>109.124288</td>\n",
       "      <td>0.516610</td>\n",
       "      <td>0.999039</td>\n",
       "    </tr>\n",
       "    <tr>\n",
       "      <th>5</th>\n",
       "      <td>200</td>\n",
       "      <td>72.066335</td>\n",
       "      <td>0.516317</td>\n",
       "      <td>0.999041</td>\n",
       "    </tr>\n",
       "    <tr>\n",
       "      <th>6</th>\n",
       "      <td>250</td>\n",
       "      <td>57.751733</td>\n",
       "      <td>0.516768</td>\n",
       "      <td>0.999041</td>\n",
       "    </tr>\n",
       "  </tbody>\n",
       "</table>\n",
       "</div>"
      ],
      "text/plain": [
       "   n_estimators  combined_mean_fit-test_time  mean_test_score  \\\n",
       "0             5                     0.754767         0.490222   \n",
       "1            10                     0.981347         0.502005   \n",
       "2            50                     7.770343         0.511544   \n",
       "3           100                    64.798515         0.516341   \n",
       "4           150                   109.124288         0.516610   \n",
       "5           200                    72.066335         0.516317   \n",
       "6           250                    57.751733         0.516768   \n",
       "\n",
       "   mean_train_score  \n",
       "0          0.936031  \n",
       "1          0.974539  \n",
       "2          0.998722  \n",
       "3          0.999034  \n",
       "4          0.999039  \n",
       "5          0.999041  \n",
       "6          0.999041  "
      ]
     },
     "execution_count": 153,
     "metadata": {},
     "output_type": "execute_result"
    }
   ],
   "source": [
    "results = pd.DataFrame({'n_estimators' : [5,10,50,100,150,200,250],\n",
    "                        'combined_mean_fit-test_time': cv.cv_results_['mean_fit_time'] + cv.cv_results_['mean_score_time'],\n",
    "                        'mean_test_score': cv.cv_results_['mean_test_score'],\n",
    "                       'mean_train_score': cv.cv_results_['mean_train_score']})\n",
    "\n",
    "results"
   ]
  },
  {
   "cell_type": "markdown",
   "metadata": {},
   "source": [
    "Let's plot the train and test scores as a function of N_estimators."
   ]
  },
  {
   "cell_type": "code",
   "execution_count": 160,
   "metadata": {},
   "outputs": [
    {
     "data": {
      "application/vnd.plotly.v1+json": {
       "data": [
        {
         "mode": "lines+markers",
         "name": "Mean Test Score",
         "type": "scattergl",
         "uid": "e4b78d76-a5d4-11e9-af77-e442a6f8adc6",
         "x": [
          5,
          10,
          50,
          100,
          150,
          200,
          250
         ],
         "y": [
          0.49022186429743964,
          0.5020049329878887,
          0.511543759659273,
          0.5163408623668696,
          0.5166100634349569,
          0.5163173569937131,
          0.5167682254947121
         ],
         "yaxis": "y2"
        },
        {
         "mode": "lines+markers",
         "name": "Mean Train Score",
         "type": "scattergl",
         "uid": "e4b78d77-a5d4-11e9-966a-e442a6f8adc6",
         "x": [
          5,
          10,
          50,
          100,
          150,
          200,
          250
         ],
         "y": [
          0.9360309307125034,
          0.9745393078782557,
          0.9987215449164886,
          0.9990340012234222,
          0.9990388025053368,
          0.999041206515769,
          0.9990412016794714
         ]
        }
       ],
       "layout": {
        "legend": {
         "orientation": "h",
         "y": 1.12
        },
        "margin": {
         "t": 120
        },
        "title": "Mean Train & Test Scores vs N_estimators",
        "xaxis": {
         "title": "N_estimators"
        },
        "yaxis": {
         "title": "Mean Train Score"
        },
        "yaxis2": {
         "side": "right",
         "title": "Mean Test Score"
        }
       }
      },
      "text/html": [
       "<div id=\"6c5fd7b0-cf03-47f8-8571-7305bf9d814d\" style=\"height: 525px; width: 100%;\" class=\"plotly-graph-div\"></div><script type=\"text/javascript\">require([\"plotly\"], function(Plotly) { window.PLOTLYENV=window.PLOTLYENV || {};window.PLOTLYENV.BASE_URL=\"https://plot.ly\";\n",
       "        Plotly.plot(\n",
       "            '6c5fd7b0-cf03-47f8-8571-7305bf9d814d',\n",
       "            [{\"mode\": \"lines+markers\", \"name\": \"Mean Test Score\", \"x\": [5.0, 10.0, 50.0, 100.0, 150.0, 200.0, 250.0], \"y\": [0.49022186429743964, 0.5020049329878887, 0.511543759659273, 0.5163408623668696, 0.5166100634349569, 0.5163173569937131, 0.5167682254947121], \"yaxis\": \"y2\", \"type\": \"scattergl\", \"uid\": \"e4b78d76-a5d4-11e9-af77-e442a6f8adc6\"}, {\"mode\": \"lines+markers\", \"name\": \"Mean Train Score\", \"x\": [5.0, 10.0, 50.0, 100.0, 150.0, 200.0, 250.0], \"y\": [0.9360309307125034, 0.9745393078782557, 0.9987215449164886, 0.9990340012234222, 0.9990388025053368, 0.999041206515769, 0.9990412016794714], \"type\": \"scattergl\", \"uid\": \"e4b78d77-a5d4-11e9-966a-e442a6f8adc6\"}],\n",
       "            {\"legend\": {\"orientation\": \"h\", \"y\": 1.12}, \"margin\": {\"t\": 120}, \"title\": \"Mean Train & Test Scores vs N_estimators\", \"xaxis\": {\"title\": \"N_estimators\"}, \"yaxis\": {\"title\": \"Mean Train Score\"}, \"yaxis2\": {\"side\": \"right\", \"title\": \"Mean Test Score\"}},\n",
       "            {\"showLink\": true, \"linkText\": \"Export to plot.ly\"}\n",
       "        ).then(function () {return Plotly.addFrames('6c5fd7b0-cf03-47f8-8571-7305bf9d814d',{});}).then(function(){Plotly.animate('6c5fd7b0-cf03-47f8-8571-7305bf9d814d');})\n",
       "        });</script>"
      ],
      "text/vnd.plotly.v1+html": [
       "<div id=\"6c5fd7b0-cf03-47f8-8571-7305bf9d814d\" style=\"height: 525px; width: 100%;\" class=\"plotly-graph-div\"></div><script type=\"text/javascript\">require([\"plotly\"], function(Plotly) { window.PLOTLYENV=window.PLOTLYENV || {};window.PLOTLYENV.BASE_URL=\"https://plot.ly\";\n",
       "        Plotly.plot(\n",
       "            '6c5fd7b0-cf03-47f8-8571-7305bf9d814d',\n",
       "            [{\"mode\": \"lines+markers\", \"name\": \"Mean Test Score\", \"x\": [5.0, 10.0, 50.0, 100.0, 150.0, 200.0, 250.0], \"y\": [0.49022186429743964, 0.5020049329878887, 0.511543759659273, 0.5163408623668696, 0.5166100634349569, 0.5163173569937131, 0.5167682254947121], \"yaxis\": \"y2\", \"type\": \"scattergl\", \"uid\": \"e4b78d76-a5d4-11e9-af77-e442a6f8adc6\"}, {\"mode\": \"lines+markers\", \"name\": \"Mean Train Score\", \"x\": [5.0, 10.0, 50.0, 100.0, 150.0, 200.0, 250.0], \"y\": [0.9360309307125034, 0.9745393078782557, 0.9987215449164886, 0.9990340012234222, 0.9990388025053368, 0.999041206515769, 0.9990412016794714], \"type\": \"scattergl\", \"uid\": \"e4b78d77-a5d4-11e9-966a-e442a6f8adc6\"}],\n",
       "            {\"legend\": {\"orientation\": \"h\", \"y\": 1.12}, \"margin\": {\"t\": 120}, \"title\": \"Mean Train & Test Scores vs N_estimators\", \"xaxis\": {\"title\": \"N_estimators\"}, \"yaxis\": {\"title\": \"Mean Train Score\"}, \"yaxis2\": {\"side\": \"right\", \"title\": \"Mean Test Score\"}},\n",
       "            {\"showLink\": true, \"linkText\": \"Export to plot.ly\"}\n",
       "        ).then(function () {return Plotly.addFrames('6c5fd7b0-cf03-47f8-8571-7305bf9d814d',{});}).then(function(){Plotly.animate('6c5fd7b0-cf03-47f8-8571-7305bf9d814d');})\n",
       "        });</script>"
      ]
     },
     "metadata": {},
     "output_type": "display_data"
    }
   ],
   "source": [
    "trace1 = go.Scattergl(name='Mean Test Score',\n",
    "                      x=results['n_estimators'],\n",
    "                      y=results['mean_test_score'], \n",
    "                      mode='lines+markers',\n",
    "                     yaxis='y2')\n",
    "trace2 = go.Scattergl(name='Mean Train Score',\n",
    "                      x=results['n_estimators'],\n",
    "                      y=results['mean_train_score'], \n",
    "                      mode='lines+markers')\n",
    "\n",
    "layout = go.Layout(title='Mean Train & Test Scores vs N_estimators',\n",
    "               xaxis=dict(title='N_estimators'),\n",
    "               yaxis=dict(title='Mean Train Score'), \n",
    "                   yaxis2=dict(title='Mean Test Score',\n",
    "                              side='right'),\n",
    "                  legend=dict(orientation='h', y=1.12),\n",
    "                  margin=dict(t=120))\n",
    "\n",
    "fig = go.Figure([trace1, trace2], layout=layout)\n",
    "\n",
    "iplot(fig, filename='train-test-scores.html')"
   ]
  },
  {
   "cell_type": "markdown",
   "metadata": {},
   "source": [
    "We can see both scores increase in going from 5 to 100 estimators but quickly plateau after that. The train and test scores are plotted on separate axes above so we can distinguish the knees of both curves. We can see that the training score is very close to 1, even for n_estimators=5. The more important score of course is the test score. Let's now look at the tradeoff between the test score and the time required to train and test the model."
   ]
  },
  {
   "cell_type": "code",
   "execution_count": 163,
   "metadata": {},
   "outputs": [
    {
     "data": {
      "application/vnd.plotly.v1+json": {
       "data": [
        {
         "mode": "lines+markers",
         "name": "Combined Mean Train+Test Time",
         "type": "scattergl",
         "uid": "1df03bc0-a5d5-11e9-a0f2-e442a6f8adc6",
         "x": [
          5,
          10,
          50,
          100,
          150,
          200,
          250
         ],
         "y": [
          0.754767370223999,
          0.9813465118408202,
          7.7703429698944095,
          64.79851546287537,
          109.12428836822511,
          72.06633462905884,
          57.75173287391662
         ]
        },
        {
         "mode": "lines+markers",
         "name": "Mean Test Score",
         "type": "scattergl",
         "uid": "1df03bc1-a5d5-11e9-9c5a-e442a6f8adc6",
         "x": [
          5,
          10,
          50,
          100,
          150,
          200,
          250
         ],
         "y": [
          0.49022186429743964,
          0.5020049329878887,
          0.511543759659273,
          0.5163408623668696,
          0.5166100634349569,
          0.5163173569937131,
          0.5167682254947121
         ],
         "yaxis": "y2"
        }
       ],
       "layout": {
        "legend": {
         "orientation": "h",
         "y": 1.12
        },
        "margin": {
         "t": 120
        },
        "title": "Model Train+Test Time & Test Score vs N_estimators",
        "xaxis": {
         "title": "N_estimators"
        },
        "yaxis": {
         "title": "Combined Train+Test Time"
        },
        "yaxis2": {
         "side": "right",
         "title": "Mean Test Score"
        }
       }
      },
      "text/html": [
       "<div id=\"86916b60-cf1f-4493-87bb-3afa45913b18\" style=\"height: 525px; width: 100%;\" class=\"plotly-graph-div\"></div><script type=\"text/javascript\">require([\"plotly\"], function(Plotly) { window.PLOTLYENV=window.PLOTLYENV || {};window.PLOTLYENV.BASE_URL=\"https://plot.ly\";\n",
       "        Plotly.plot(\n",
       "            '86916b60-cf1f-4493-87bb-3afa45913b18',\n",
       "            [{\"mode\": \"lines+markers\", \"name\": \"Combined Mean Train+Test Time\", \"x\": [5.0, 10.0, 50.0, 100.0, 150.0, 200.0, 250.0], \"y\": [0.754767370223999, 0.9813465118408202, 7.7703429698944095, 64.79851546287537, 109.12428836822511, 72.06633462905884, 57.75173287391662], \"type\": \"scattergl\", \"uid\": \"1df03bc0-a5d5-11e9-a0f2-e442a6f8adc6\"}, {\"mode\": \"lines+markers\", \"name\": \"Mean Test Score\", \"x\": [5.0, 10.0, 50.0, 100.0, 150.0, 200.0, 250.0], \"y\": [0.49022186429743964, 0.5020049329878887, 0.511543759659273, 0.5163408623668696, 0.5166100634349569, 0.5163173569937131, 0.5167682254947121], \"yaxis\": \"y2\", \"type\": \"scattergl\", \"uid\": \"1df03bc1-a5d5-11e9-9c5a-e442a6f8adc6\"}],\n",
       "            {\"legend\": {\"orientation\": \"h\", \"y\": 1.12}, \"margin\": {\"t\": 120}, \"title\": \"Model Train+Test Time & Test Score vs N_estimators\", \"xaxis\": {\"title\": \"N_estimators\"}, \"yaxis\": {\"title\": \"Combined Train+Test Time\"}, \"yaxis2\": {\"side\": \"right\", \"title\": \"Mean Test Score\"}},\n",
       "            {\"showLink\": true, \"linkText\": \"Export to plot.ly\"}\n",
       "        ).then(function () {return Plotly.addFrames('86916b60-cf1f-4493-87bb-3afa45913b18',{});}).then(function(){Plotly.animate('86916b60-cf1f-4493-87bb-3afa45913b18');})\n",
       "        });</script>"
      ],
      "text/vnd.plotly.v1+html": [
       "<div id=\"86916b60-cf1f-4493-87bb-3afa45913b18\" style=\"height: 525px; width: 100%;\" class=\"plotly-graph-div\"></div><script type=\"text/javascript\">require([\"plotly\"], function(Plotly) { window.PLOTLYENV=window.PLOTLYENV || {};window.PLOTLYENV.BASE_URL=\"https://plot.ly\";\n",
       "        Plotly.plot(\n",
       "            '86916b60-cf1f-4493-87bb-3afa45913b18',\n",
       "            [{\"mode\": \"lines+markers\", \"name\": \"Combined Mean Train+Test Time\", \"x\": [5.0, 10.0, 50.0, 100.0, 150.0, 200.0, 250.0], \"y\": [0.754767370223999, 0.9813465118408202, 7.7703429698944095, 64.79851546287537, 109.12428836822511, 72.06633462905884, 57.75173287391662], \"type\": \"scattergl\", \"uid\": \"1df03bc0-a5d5-11e9-a0f2-e442a6f8adc6\"}, {\"mode\": \"lines+markers\", \"name\": \"Mean Test Score\", \"x\": [5.0, 10.0, 50.0, 100.0, 150.0, 200.0, 250.0], \"y\": [0.49022186429743964, 0.5020049329878887, 0.511543759659273, 0.5163408623668696, 0.5166100634349569, 0.5163173569937131, 0.5167682254947121], \"yaxis\": \"y2\", \"type\": \"scattergl\", \"uid\": \"1df03bc1-a5d5-11e9-9c5a-e442a6f8adc6\"}],\n",
       "            {\"legend\": {\"orientation\": \"h\", \"y\": 1.12}, \"margin\": {\"t\": 120}, \"title\": \"Model Train+Test Time & Test Score vs N_estimators\", \"xaxis\": {\"title\": \"N_estimators\"}, \"yaxis\": {\"title\": \"Combined Train+Test Time\"}, \"yaxis2\": {\"side\": \"right\", \"title\": \"Mean Test Score\"}},\n",
       "            {\"showLink\": true, \"linkText\": \"Export to plot.ly\"}\n",
       "        ).then(function () {return Plotly.addFrames('86916b60-cf1f-4493-87bb-3afa45913b18',{});}).then(function(){Plotly.animate('86916b60-cf1f-4493-87bb-3afa45913b18');})\n",
       "        });</script>"
      ]
     },
     "metadata": {},
     "output_type": "display_data"
    }
   ],
   "source": [
    "trace0 = go.Scattergl(name='Combined Mean Train+Test Time',\n",
    "                      x=results['n_estimators'],\n",
    "                      y=results['combined_mean_fit-test_time'], \n",
    "                      mode='lines+markers',)\n",
    "trace1 = go.Scattergl(name='Mean Test Score',\n",
    "                      x=results['n_estimators'],\n",
    "                      y=results['mean_test_score'], \n",
    "                      mode='lines+markers',\n",
    "                     yaxis='y2')\n",
    "\n",
    "layout = go.Layout(title='Model Train+Test Time & Test Score vs N_estimators',\n",
    "               xaxis=dict(title='N_estimators'),\n",
    "               yaxis=dict(title='Combined Train+Test Time'), \n",
    "                   yaxis2=dict(title='Mean Test Score',\n",
    "                              side='right'),\n",
    "                  legend=dict(orientation='h', y=1.12),\n",
    "                  margin=dict(t=120))\n",
    "\n",
    "fig = go.Figure([trace0, trace1], layout=layout)\n",
    "\n",
    "iplot(fig, filename='n_estimators.html')"
   ]
  },
  {
   "cell_type": "markdown",
   "metadata": {},
   "source": [
    "Here we see that the combined time for training and testing the model increases significantly up to 109 seconds at N_estimators=150. At N_estimators=100, the train+test time is 65 seconds but the difference in test score between the two is negligible. We can thus save a lot of computational resources and time by choosing N_estimators=100."
   ]
  },
  {
   "cell_type": "markdown",
   "metadata": {},
   "source": [
    "#### max_depth"
   ]
  },
  {
   "cell_type": "code",
   "execution_count": 164,
   "metadata": {},
   "outputs": [
    {
     "name": "stdout",
     "output_type": "stream",
     "text": [
      "Wall time: 23.6 s\n"
     ]
    }
   ],
   "source": [
    "%%time\n",
    "param_grid = {'max_depth': [5,10,50,100,150]}\n",
    "\n",
    "clf = RandomForestClassifier(n_jobs=-1)\n",
    "\n",
    "cv = GridSearchCV(clf, param_grid=param_grid, \n",
    "                  scoring='f1_weighted', cv=5, \n",
    "                  iid=True, n_jobs=-1, \n",
    "                  return_train_score=True)\n",
    "\n",
    "cv.fit(X_train,y_train)"
   ]
  },
  {
   "cell_type": "code",
   "execution_count": 165,
   "metadata": {},
   "outputs": [
    {
     "data": {
      "text/html": [
       "<div>\n",
       "<style scoped>\n",
       "    .dataframe tbody tr th:only-of-type {\n",
       "        vertical-align: middle;\n",
       "    }\n",
       "\n",
       "    .dataframe tbody tr th {\n",
       "        vertical-align: top;\n",
       "    }\n",
       "\n",
       "    .dataframe thead th {\n",
       "        text-align: right;\n",
       "    }\n",
       "</style>\n",
       "<table border=\"1\" class=\"dataframe\">\n",
       "  <thead>\n",
       "    <tr style=\"text-align: right;\">\n",
       "      <th></th>\n",
       "      <th>max_depth</th>\n",
       "      <th>combined_mean_fit-test_time</th>\n",
       "      <th>mean_test_score</th>\n",
       "      <th>mean_train_score</th>\n",
       "    </tr>\n",
       "  </thead>\n",
       "  <tbody>\n",
       "    <tr>\n",
       "      <th>0</th>\n",
       "      <td>5</td>\n",
       "      <td>0.479250</td>\n",
       "      <td>0.412228</td>\n",
       "      <td>0.413028</td>\n",
       "    </tr>\n",
       "    <tr>\n",
       "      <th>1</th>\n",
       "      <td>10</td>\n",
       "      <td>0.642642</td>\n",
       "      <td>0.482578</td>\n",
       "      <td>0.500847</td>\n",
       "    </tr>\n",
       "    <tr>\n",
       "      <th>2</th>\n",
       "      <td>50</td>\n",
       "      <td>1.109137</td>\n",
       "      <td>0.501242</td>\n",
       "      <td>0.974375</td>\n",
       "    </tr>\n",
       "    <tr>\n",
       "      <th>3</th>\n",
       "      <td>100</td>\n",
       "      <td>1.062214</td>\n",
       "      <td>0.501708</td>\n",
       "      <td>0.974543</td>\n",
       "    </tr>\n",
       "    <tr>\n",
       "      <th>4</th>\n",
       "      <td>150</td>\n",
       "      <td>1.133677</td>\n",
       "      <td>0.503467</td>\n",
       "      <td>0.974092</td>\n",
       "    </tr>\n",
       "  </tbody>\n",
       "</table>\n",
       "</div>"
      ],
      "text/plain": [
       "   max_depth  combined_mean_fit-test_time  mean_test_score  mean_train_score\n",
       "0          5                     0.479250         0.412228          0.413028\n",
       "1         10                     0.642642         0.482578          0.500847\n",
       "2         50                     1.109137         0.501242          0.974375\n",
       "3        100                     1.062214         0.501708          0.974543\n",
       "4        150                     1.133677         0.503467          0.974092"
      ]
     },
     "execution_count": 165,
     "metadata": {},
     "output_type": "execute_result"
    }
   ],
   "source": [
    "results = pd.DataFrame({'max_depth' : [5,10,50,100,150],\n",
    "                        'combined_mean_fit-test_time': cv.cv_results_['mean_fit_time'] + cv.cv_results_['mean_score_time'],\n",
    "                        'mean_test_score': cv.cv_results_['mean_test_score'],\n",
    "                       'mean_train_score': cv.cv_results_['mean_train_score']})\n",
    "\n",
    "results"
   ]
  },
  {
   "cell_type": "markdown",
   "metadata": {},
   "source": [
    "#### min_samples_split"
   ]
  },
  {
   "cell_type": "code",
   "execution_count": 187,
   "metadata": {},
   "outputs": [
    {
     "name": "stdout",
     "output_type": "stream",
     "text": [
      "Wall time: 33.7 s\n"
     ]
    }
   ],
   "source": [
    "%%time\n",
    "param_grid = {'min_samples_split': [2,3,4,5,10,25,50,100]}\n",
    "\n",
    "clf = RandomForestClassifier(n_jobs=-1)\n",
    "\n",
    "cv = GridSearchCV(clf, param_grid=param_grid, \n",
    "                  scoring='f1_weighted', cv=5, \n",
    "                  iid=True, n_jobs=-1, \n",
    "                  return_train_score=True)\n",
    "\n",
    "cv.fit(X_train,y_train)"
   ]
  },
  {
   "cell_type": "code",
   "execution_count": 188,
   "metadata": {},
   "outputs": [
    {
     "data": {
      "text/html": [
       "<div>\n",
       "<style scoped>\n",
       "    .dataframe tbody tr th:only-of-type {\n",
       "        vertical-align: middle;\n",
       "    }\n",
       "\n",
       "    .dataframe tbody tr th {\n",
       "        vertical-align: top;\n",
       "    }\n",
       "\n",
       "    .dataframe thead th {\n",
       "        text-align: right;\n",
       "    }\n",
       "</style>\n",
       "<table border=\"1\" class=\"dataframe\">\n",
       "  <thead>\n",
       "    <tr style=\"text-align: right;\">\n",
       "      <th></th>\n",
       "      <th>min_samples_split</th>\n",
       "      <th>combined_mean_fit-test_time</th>\n",
       "      <th>mean_test_score</th>\n",
       "      <th>mean_train_score</th>\n",
       "    </tr>\n",
       "  </thead>\n",
       "  <tbody>\n",
       "    <tr>\n",
       "      <th>0</th>\n",
       "      <td>2</td>\n",
       "      <td>1.088555</td>\n",
       "      <td>0.501475</td>\n",
       "      <td>0.974483</td>\n",
       "    </tr>\n",
       "    <tr>\n",
       "      <th>1</th>\n",
       "      <td>3</td>\n",
       "      <td>0.999283</td>\n",
       "      <td>0.508273</td>\n",
       "      <td>0.943047</td>\n",
       "    </tr>\n",
       "    <tr>\n",
       "      <th>2</th>\n",
       "      <td>4</td>\n",
       "      <td>1.140367</td>\n",
       "      <td>0.509025</td>\n",
       "      <td>0.911239</td>\n",
       "    </tr>\n",
       "    <tr>\n",
       "      <th>3</th>\n",
       "      <td>5</td>\n",
       "      <td>1.100779</td>\n",
       "      <td>0.510806</td>\n",
       "      <td>0.883676</td>\n",
       "    </tr>\n",
       "    <tr>\n",
       "      <th>4</th>\n",
       "      <td>10</td>\n",
       "      <td>1.083504</td>\n",
       "      <td>0.515146</td>\n",
       "      <td>0.782923</td>\n",
       "    </tr>\n",
       "    <tr>\n",
       "      <th>5</th>\n",
       "      <td>25</td>\n",
       "      <td>0.982962</td>\n",
       "      <td>0.517524</td>\n",
       "      <td>0.666035</td>\n",
       "    </tr>\n",
       "    <tr>\n",
       "      <th>6</th>\n",
       "      <td>50</td>\n",
       "      <td>1.668919</td>\n",
       "      <td>0.516062</td>\n",
       "      <td>0.604858</td>\n",
       "    </tr>\n",
       "    <tr>\n",
       "      <th>7</th>\n",
       "      <td>100</td>\n",
       "      <td>1.956197</td>\n",
       "      <td>0.512582</td>\n",
       "      <td>0.563801</td>\n",
       "    </tr>\n",
       "  </tbody>\n",
       "</table>\n",
       "</div>"
      ],
      "text/plain": [
       "   min_samples_split  combined_mean_fit-test_time  mean_test_score  \\\n",
       "0                  2                     1.088555         0.501475   \n",
       "1                  3                     0.999283         0.508273   \n",
       "2                  4                     1.140367         0.509025   \n",
       "3                  5                     1.100779         0.510806   \n",
       "4                 10                     1.083504         0.515146   \n",
       "5                 25                     0.982962         0.517524   \n",
       "6                 50                     1.668919         0.516062   \n",
       "7                100                     1.956197         0.512582   \n",
       "\n",
       "   mean_train_score  \n",
       "0          0.974483  \n",
       "1          0.943047  \n",
       "2          0.911239  \n",
       "3          0.883676  \n",
       "4          0.782923  \n",
       "5          0.666035  \n",
       "6          0.604858  \n",
       "7          0.563801  "
      ]
     },
     "execution_count": 188,
     "metadata": {},
     "output_type": "execute_result"
    }
   ],
   "source": [
    "results = pd.DataFrame({'min_samples_split' : [2,3,4,5,10,25,50,100],\n",
    "                        'combined_mean_fit-test_time': cv.cv_results_['mean_fit_time'] + cv.cv_results_['mean_score_time'],\n",
    "                        'mean_test_score': cv.cv_results_['mean_test_score'],\n",
    "                       'mean_train_score': cv.cv_results_['mean_train_score']})\n",
    "\n",
    "results"
   ]
  },
  {
   "cell_type": "markdown",
   "metadata": {},
   "source": [
    "#### min_samples_leaf"
   ]
  },
  {
   "cell_type": "code",
   "execution_count": null,
   "metadata": {},
   "outputs": [],
   "source": []
  },
  {
   "cell_type": "code",
   "execution_count": null,
   "metadata": {},
   "outputs": [],
   "source": []
  },
  {
   "cell_type": "code",
   "execution_count": null,
   "metadata": {},
   "outputs": [],
   "source": []
  },
  {
   "cell_type": "code",
   "execution_count": null,
   "metadata": {},
   "outputs": [],
   "source": []
  },
  {
   "cell_type": "code",
   "execution_count": null,
   "metadata": {},
   "outputs": [],
   "source": []
  },
  {
   "cell_type": "code",
   "execution_count": null,
   "metadata": {},
   "outputs": [],
   "source": []
  },
  {
   "cell_type": "code",
   "execution_count": null,
   "metadata": {},
   "outputs": [],
   "source": []
  },
  {
   "cell_type": "code",
   "execution_count": null,
   "metadata": {},
   "outputs": [],
   "source": []
  },
  {
   "cell_type": "code",
   "execution_count": null,
   "metadata": {},
   "outputs": [],
   "source": []
  },
  {
   "cell_type": "code",
   "execution_count": null,
   "metadata": {},
   "outputs": [],
   "source": []
  },
  {
   "cell_type": "code",
   "execution_count": null,
   "metadata": {},
   "outputs": [],
   "source": []
  },
  {
   "cell_type": "code",
   "execution_count": 117,
   "metadata": {},
   "outputs": [
    {
     "data": {
      "text/plain": [
       "0.5130431607694047"
      ]
     },
     "execution_count": 117,
     "metadata": {},
     "output_type": "execute_result"
    }
   ],
   "source": [
    "f1_score(y_test, cv.predict(X_test), average='weighted')"
   ]
  },
  {
   "cell_type": "code",
   "execution_count": 105,
   "metadata": {},
   "outputs": [
    {
     "data": {
      "text/html": [
       "<div>\n",
       "<style scoped>\n",
       "    .dataframe tbody tr th:only-of-type {\n",
       "        vertical-align: middle;\n",
       "    }\n",
       "\n",
       "    .dataframe tbody tr th {\n",
       "        vertical-align: top;\n",
       "    }\n",
       "\n",
       "    .dataframe thead th {\n",
       "        text-align: right;\n",
       "    }\n",
       "</style>\n",
       "<table border=\"1\" class=\"dataframe\">\n",
       "  <thead>\n",
       "    <tr style=\"text-align: right;\">\n",
       "      <th>Actual attempts_range</th>\n",
       "      <th>1</th>\n",
       "      <th>2</th>\n",
       "      <th>3</th>\n",
       "      <th>4</th>\n",
       "      <th>5</th>\n",
       "      <th>6</th>\n",
       "    </tr>\n",
       "    <tr>\n",
       "      <th>Predicted attempts_range</th>\n",
       "      <th></th>\n",
       "      <th></th>\n",
       "      <th></th>\n",
       "      <th></th>\n",
       "      <th></th>\n",
       "      <th></th>\n",
       "    </tr>\n",
       "  </thead>\n",
       "  <tbody>\n",
       "    <tr>\n",
       "      <th>1</th>\n",
       "      <td>21520</td>\n",
       "      <td>9401</td>\n",
       "      <td>2234</td>\n",
       "      <td>751</td>\n",
       "      <td>332</td>\n",
       "      <td>332</td>\n",
       "    </tr>\n",
       "    <tr>\n",
       "      <th>2</th>\n",
       "      <td>4890</td>\n",
       "      <td>5376</td>\n",
       "      <td>1848</td>\n",
       "      <td>749</td>\n",
       "      <td>360</td>\n",
       "      <td>377</td>\n",
       "    </tr>\n",
       "    <tr>\n",
       "      <th>3</th>\n",
       "      <td>571</td>\n",
       "      <td>691</td>\n",
       "      <td>450</td>\n",
       "      <td>155</td>\n",
       "      <td>78</td>\n",
       "      <td>132</td>\n",
       "    </tr>\n",
       "    <tr>\n",
       "      <th>4</th>\n",
       "      <td>118</td>\n",
       "      <td>150</td>\n",
       "      <td>85</td>\n",
       "      <td>68</td>\n",
       "      <td>36</td>\n",
       "      <td>40</td>\n",
       "    </tr>\n",
       "    <tr>\n",
       "      <th>5</th>\n",
       "      <td>27</td>\n",
       "      <td>46</td>\n",
       "      <td>25</td>\n",
       "      <td>19</td>\n",
       "      <td>15</td>\n",
       "      <td>18</td>\n",
       "    </tr>\n",
       "    <tr>\n",
       "      <th>6</th>\n",
       "      <td>54</td>\n",
       "      <td>97</td>\n",
       "      <td>52</td>\n",
       "      <td>34</td>\n",
       "      <td>21</td>\n",
       "      <td>96</td>\n",
       "    </tr>\n",
       "  </tbody>\n",
       "</table>\n",
       "</div>"
      ],
      "text/plain": [
       "Actual attempts_range         1     2     3    4    5    6\n",
       "Predicted attempts_range                                  \n",
       "1                         21520  9401  2234  751  332  332\n",
       "2                          4890  5376  1848  749  360  377\n",
       "3                           571   691   450  155   78  132\n",
       "4                           118   150    85   68   36   40\n",
       "5                            27    46    25   19   15   18\n",
       "6                            54    97    52   34   21   96"
      ]
     },
     "execution_count": 105,
     "metadata": {},
     "output_type": "execute_result"
    }
   ],
   "source": [
    "pd.crosstab(y_pred, y_test, rownames=['Predicted attempts_range'], \n",
    "            colnames=['Actual attempts_range'])"
   ]
  },
  {
   "cell_type": "code",
   "execution_count": null,
   "metadata": {},
   "outputs": [],
   "source": []
  }
 ],
 "metadata": {
  "kernelspec": {
   "display_name": "Python 3",
   "language": "python",
   "name": "python3"
  },
  "language_info": {
   "codemirror_mode": {
    "name": "ipython",
    "version": 3
   },
   "file_extension": ".py",
   "mimetype": "text/x-python",
   "name": "python",
   "nbconvert_exporter": "python",
   "pygments_lexer": "ipython3",
   "version": "3.6.6"
  }
 },
 "nbformat": 4,
 "nbformat_minor": 2
}
