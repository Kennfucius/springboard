{
 "cells": [
  {
   "cell_type": "markdown",
   "metadata": {},
   "source": [
    "# What is the True Normal Human Body Temperature? \n",
    "\n",
    "#### Background\n",
    "\n",
    "The mean normal body temperature was held to be 37$^{\\circ}$C or 98.6$^{\\circ}$F for more than 120 years since it was first conceptualized and reported by Carl Wunderlich in a famous 1868 book. But, is this value statistically correct?"
   ]
  },
  {
   "cell_type": "markdown",
   "metadata": {},
   "source": [
    "<h3>Exercises</h3>\n",
    "\n",
    "<p>In this exercise, you will analyze a dataset of human body temperatures and employ the concepts of hypothesis testing, confidence intervals, and statistical significance.</p>\n",
    "\n",
    "<p>Answer the following questions <b>in this notebook below and submit to your Github account</b>.</p> \n",
    "\n",
    "<ol>\n",
    "<li>  Is the distribution of body temperatures normal? \n",
    "    <ul>\n",
    "    <li> Although this is not a requirement for the Central Limit Theorem to hold (read the introduction on Wikipedia's page about the CLT carefully: https://en.wikipedia.org/wiki/Central_limit_theorem), it gives us some peace of mind that the population may also be normally distributed if we assume that this sample is representative of the population.\n",
    "    <li> Think about the way you're going to check for the normality of the distribution. Graphical methods are usually used first, but there are also other ways: https://en.wikipedia.org/wiki/Normality_test\n",
    "    </ul>\n",
    "<li>  Is the sample size large? Are the observations independent?\n",
    "    <ul>\n",
    "    <li> Remember that this is a condition for the Central Limit Theorem, and hence the statistical tests we are using, to apply.\n",
    "    </ul>\n",
    "<li>  Is the true population mean really 98.6 degrees F?\n",
    "    <ul>\n",
    "    <li> First, try a bootstrap hypothesis test.\n",
    "    <li> Now, let's try frequentist statistical testing. Would you use a one-sample or two-sample test? Why?\n",
    "    <li> In this situation, is it appropriate to use the $t$ or $z$ statistic? \n",
    "    <li> Now try using the other test. How is the result be different? Why?\n",
    "    </ul>\n",
    "<li>  Draw a small sample of size 10 from the data and repeat both frequentist tests. \n",
    "    <ul>\n",
    "    <li> Which one is the correct one to use? \n",
    "    <li> What do you notice? What does this tell you about the difference in application of the $t$ and $z$ statistic?\n",
    "    </ul>\n",
    "<li>  At what temperature should we consider someone's temperature to be \"abnormal\"?\n",
    "    <ul>\n",
    "    <li> As in the previous example, try calculating everything using the boostrap approach, as well as the frequentist approach.\n",
    "    <li> Start by computing the margin of error and confidence interval. When calculating the confidence interval, keep in mind that you should use the appropriate formula for one draw, and not N draws.\n",
    "    </ul>\n",
    "<li>  Is there a significant difference between males and females in normal temperature?\n",
    "    <ul>\n",
    "    <li> What testing approach did you use and why?\n",
    "    <li> Write a story with your conclusion in the context of the original problem.\n",
    "    </ul>\n",
    "</ol>\n",
    "\n",
    "You can include written notes in notebook cells using Markdown: \n",
    "   - In the control panel at the top, choose Cell > Cell Type > Markdown\n",
    "   - Markdown syntax: http://nestacms.com/docs/creating-content/markdown-cheat-sheet\n",
    "\n",
    "#### Resources\n",
    "\n",
    "+ Information and data sources: http://www.amstat.org/publications/jse/datasets/normtemp.txt, http://www.amstat.org/publications/jse/jse_data_archive.htm\n",
    "+ Markdown syntax: http://nestacms.com/docs/creating-content/markdown-cheat-sheet\n",
    "\n",
    "****"
   ]
  },
  {
   "cell_type": "code",
   "execution_count": 1,
   "metadata": {},
   "outputs": [],
   "source": [
    "import pandas as pd\n",
    "\n",
    "df = pd.read_csv('data/human_body_temperature.csv')"
   ]
  },
  {
   "cell_type": "markdown",
   "metadata": {},
   "source": [
    "## Work begins"
   ]
  },
  {
   "cell_type": "code",
   "execution_count": 2,
   "metadata": {},
   "outputs": [
    {
     "data": {
      "text/html": [
       "<script>requirejs.config({paths: { 'plotly': ['https://cdn.plot.ly/plotly-latest.min']},});if(!window.Plotly) {{require(['plotly'],function(plotly) {window.Plotly=plotly;});}}</script>"
      ],
      "text/vnd.plotly.v1+html": [
       "<script>requirejs.config({paths: { 'plotly': ['https://cdn.plot.ly/plotly-latest.min']},});if(!window.Plotly) {{require(['plotly'],function(plotly) {window.Plotly=plotly;});}}</script>"
      ]
     },
     "metadata": {},
     "output_type": "display_data"
    }
   ],
   "source": [
    "import numpy as np\n",
    "import plotly\n",
    "import plotly.graph_objs as go\n",
    "from plotly.offline import download_plotlyjs, init_notebook_mode, plot, iplot\n",
    "from statsmodels.graphics.gofplots import qqplot\n",
    "from scipy.stats import shapiro, normaltest, anderson\n",
    "from matplotlib import pyplot\n",
    "\n",
    "init_notebook_mode(connected=True)"
   ]
  },
  {
   "cell_type": "code",
   "execution_count": 3,
   "metadata": {
    "scrolled": false
   },
   "outputs": [
    {
     "data": {
      "text/html": [
       "<div>\n",
       "<style scoped>\n",
       "    .dataframe tbody tr th:only-of-type {\n",
       "        vertical-align: middle;\n",
       "    }\n",
       "\n",
       "    .dataframe tbody tr th {\n",
       "        vertical-align: top;\n",
       "    }\n",
       "\n",
       "    .dataframe thead th {\n",
       "        text-align: right;\n",
       "    }\n",
       "</style>\n",
       "<table border=\"1\" class=\"dataframe\">\n",
       "  <thead>\n",
       "    <tr style=\"text-align: right;\">\n",
       "      <th></th>\n",
       "      <th>temperature</th>\n",
       "      <th>gender</th>\n",
       "      <th>heart_rate</th>\n",
       "    </tr>\n",
       "  </thead>\n",
       "  <tbody>\n",
       "    <tr>\n",
       "      <th>0</th>\n",
       "      <td>99.3</td>\n",
       "      <td>F</td>\n",
       "      <td>68.0</td>\n",
       "    </tr>\n",
       "    <tr>\n",
       "      <th>1</th>\n",
       "      <td>98.4</td>\n",
       "      <td>F</td>\n",
       "      <td>81.0</td>\n",
       "    </tr>\n",
       "    <tr>\n",
       "      <th>2</th>\n",
       "      <td>97.8</td>\n",
       "      <td>M</td>\n",
       "      <td>73.0</td>\n",
       "    </tr>\n",
       "    <tr>\n",
       "      <th>3</th>\n",
       "      <td>99.2</td>\n",
       "      <td>F</td>\n",
       "      <td>66.0</td>\n",
       "    </tr>\n",
       "    <tr>\n",
       "      <th>4</th>\n",
       "      <td>98.0</td>\n",
       "      <td>F</td>\n",
       "      <td>73.0</td>\n",
       "    </tr>\n",
       "  </tbody>\n",
       "</table>\n",
       "</div>"
      ],
      "text/plain": [
       "   temperature gender  heart_rate\n",
       "0         99.3      F        68.0\n",
       "1         98.4      F        81.0\n",
       "2         97.8      M        73.0\n",
       "3         99.2      F        66.0\n",
       "4         98.0      F        73.0"
      ]
     },
     "execution_count": 3,
     "metadata": {},
     "output_type": "execute_result"
    }
   ],
   "source": [
    "df.head()"
   ]
  },
  {
   "cell_type": "markdown",
   "metadata": {},
   "source": [
    "### 1. Is the distribution of body temperatures normal? "
   ]
  },
  {
   "cell_type": "code",
   "execution_count": 4,
   "metadata": {},
   "outputs": [
    {
     "data": {
      "application/vnd.plotly.v1+json": {
       "data": [
        {
         "nbinsx": 10,
         "type": "histogram",
         "uid": "51dce4a6-92f9-11e9-8108-e442a6f8adc6",
         "x": [
          99.3,
          98.4,
          97.8,
          99.2,
          98,
          99.2,
          98,
          98.8,
          98.4,
          98.6,
          98.8,
          96.7,
          98.2,
          98.7,
          97.8,
          98.8,
          98.3,
          98.2,
          97.2,
          99.4,
          98.3,
          98.2,
          98.6,
          98.4,
          97.8,
          98,
          97.8,
          98.2,
          98.4,
          98.1,
          98.3,
          97.6,
          98.5,
          98.6,
          99.3,
          99.5,
          99.1,
          98.3,
          97.9,
          96.4,
          98.4,
          98.4,
          96.9,
          97.2,
          99,
          97.9,
          97.4,
          97.4,
          97.9,
          97.1,
          98.9,
          98.3,
          98.5,
          98.6,
          98.2,
          98.6,
          98.8,
          98.2,
          98.2,
          97.6,
          99.1,
          98.4,
          98.2,
          98.6,
          98.7,
          97.4,
          97.4,
          98.6,
          98.7,
          98.9,
          98.1,
          97.7,
          98,
          98.8,
          99,
          98.8,
          98,
          98.4,
          97.4,
          97.6,
          98.8,
          98,
          97.5,
          99.2,
          98.6,
          97.1,
          98.6,
          98,
          98.7,
          98.1,
          97.8,
          100,
          98.8,
          97.1,
          97.8,
          96.8,
          99.9,
          98.7,
          98.8,
          98,
          99,
          98.5,
          98,
          99.4,
          97.6,
          96.7,
          97,
          98.6,
          98.7,
          97.3,
          98.8,
          98,
          98.2,
          99.1,
          99,
          98,
          100.8,
          97.8,
          98.7,
          98.4,
          97.7,
          97.9,
          99,
          97.2,
          97.5,
          96.3,
          97.7,
          98.2,
          97.9,
          98.7
         ]
        }
       ],
       "layout": {}
      },
      "text/html": [
       "<div id=\"be0b0b1c-1ed7-467e-9c18-ad0f15c0ce2d\" style=\"height: 525px; width: 100%;\" class=\"plotly-graph-div\"></div><script type=\"text/javascript\">require([\"plotly\"], function(Plotly) { window.PLOTLYENV=window.PLOTLYENV || {};window.PLOTLYENV.BASE_URL=\"https://plot.ly\";Plotly.newPlot(\"be0b0b1c-1ed7-467e-9c18-ad0f15c0ce2d\", [{\"nbinsx\": 10, \"x\": [99.3, 98.4, 97.8, 99.2, 98.0, 99.2, 98.0, 98.8, 98.4, 98.6, 98.8, 96.7, 98.2, 98.7, 97.8, 98.8, 98.3, 98.2, 97.2, 99.4, 98.3, 98.2, 98.6, 98.4, 97.8, 98.0, 97.8, 98.2, 98.4, 98.1, 98.3, 97.6, 98.5, 98.6, 99.3, 99.5, 99.1, 98.3, 97.9, 96.4, 98.4, 98.4, 96.9, 97.2, 99.0, 97.9, 97.4, 97.4, 97.9, 97.1, 98.9, 98.3, 98.5, 98.6, 98.2, 98.6, 98.8, 98.2, 98.2, 97.6, 99.1, 98.4, 98.2, 98.6, 98.7, 97.4, 97.4, 98.6, 98.7, 98.9, 98.1, 97.7, 98.0, 98.8, 99.0, 98.8, 98.0, 98.4, 97.4, 97.6, 98.8, 98.0, 97.5, 99.2, 98.6, 97.1, 98.6, 98.0, 98.7, 98.1, 97.8, 100.0, 98.8, 97.1, 97.8, 96.8, 99.9, 98.7, 98.8, 98.0, 99.0, 98.5, 98.0, 99.4, 97.6, 96.7, 97.0, 98.6, 98.7, 97.3, 98.8, 98.0, 98.2, 99.1, 99.0, 98.0, 100.8, 97.8, 98.7, 98.4, 97.7, 97.9, 99.0, 97.2, 97.5, 96.3, 97.7, 98.2, 97.9, 98.7], \"type\": \"histogram\", \"uid\": \"5300e7e8-92f9-11e9-bc98-e442a6f8adc6\"}], {}, {\"showLink\": true, \"linkText\": \"Export to plot.ly\"})});</script>"
      ],
      "text/vnd.plotly.v1+html": [
       "<div id=\"be0b0b1c-1ed7-467e-9c18-ad0f15c0ce2d\" style=\"height: 525px; width: 100%;\" class=\"plotly-graph-div\"></div><script type=\"text/javascript\">require([\"plotly\"], function(Plotly) { window.PLOTLYENV=window.PLOTLYENV || {};window.PLOTLYENV.BASE_URL=\"https://plot.ly\";Plotly.newPlot(\"be0b0b1c-1ed7-467e-9c18-ad0f15c0ce2d\", [{\"nbinsx\": 10, \"x\": [99.3, 98.4, 97.8, 99.2, 98.0, 99.2, 98.0, 98.8, 98.4, 98.6, 98.8, 96.7, 98.2, 98.7, 97.8, 98.8, 98.3, 98.2, 97.2, 99.4, 98.3, 98.2, 98.6, 98.4, 97.8, 98.0, 97.8, 98.2, 98.4, 98.1, 98.3, 97.6, 98.5, 98.6, 99.3, 99.5, 99.1, 98.3, 97.9, 96.4, 98.4, 98.4, 96.9, 97.2, 99.0, 97.9, 97.4, 97.4, 97.9, 97.1, 98.9, 98.3, 98.5, 98.6, 98.2, 98.6, 98.8, 98.2, 98.2, 97.6, 99.1, 98.4, 98.2, 98.6, 98.7, 97.4, 97.4, 98.6, 98.7, 98.9, 98.1, 97.7, 98.0, 98.8, 99.0, 98.8, 98.0, 98.4, 97.4, 97.6, 98.8, 98.0, 97.5, 99.2, 98.6, 97.1, 98.6, 98.0, 98.7, 98.1, 97.8, 100.0, 98.8, 97.1, 97.8, 96.8, 99.9, 98.7, 98.8, 98.0, 99.0, 98.5, 98.0, 99.4, 97.6, 96.7, 97.0, 98.6, 98.7, 97.3, 98.8, 98.0, 98.2, 99.1, 99.0, 98.0, 100.8, 97.8, 98.7, 98.4, 97.7, 97.9, 99.0, 97.2, 97.5, 96.3, 97.7, 98.2, 97.9, 98.7], \"type\": \"histogram\", \"uid\": \"5300e7e8-92f9-11e9-bc98-e442a6f8adc6\"}], {}, {\"showLink\": true, \"linkText\": \"Export to plot.ly\"})});</script>"
      ]
     },
     "metadata": {},
     "output_type": "display_data"
    }
   ],
   "source": [
    "trace0 = go.Histogram(x=df.temperature, nbinsx=10)\n",
    "\n",
    "iplot([trace0], filename='temp_hist.html')"
   ]
  },
  {
   "cell_type": "code",
   "execution_count": 5,
   "metadata": {},
   "outputs": [
    {
     "data": {
      "image/png": "[encoded data removed]",
      "text/plain": [
       "<Figure size 432x288 with 1 Axes>"
      ]
     },
     "metadata": {},
     "output_type": "display_data"
    }
   ],
   "source": [
    "qqplot(df.temperature, line='s')\n",
    "pyplot.show()"
   ]
  },
  {
   "cell_type": "markdown",
   "metadata": {},
   "source": [
    "#### D’Agostino’s K-squared Test"
   ]
  },
  {
   "cell_type": "code",
   "execution_count": 6,
   "metadata": {},
   "outputs": [
    {
     "name": "stdout",
     "output_type": "stream",
     "text": [
      "Statistics=2.704, p=0.259\n",
      "Sample looks Gaussian (fail to reject H0)\n"
     ]
    }
   ],
   "source": [
    "stat, p = normaltest(df.temperature)\n",
    "print('Statistics=%.3f, p=%.3f' % (stat, p))\n",
    "# interpret\n",
    "alpha = 0.05\n",
    "if p > alpha:\n",
    "    print('Sample looks Gaussian (fail to reject H0)')\n",
    "else:\n",
    "    print('Sample does not look Gaussian (reject H0)')"
   ]
  },
  {
   "cell_type": "markdown",
   "metadata": {},
   "source": [
    "#### Shapiro-Wilks Test"
   ]
  },
  {
   "cell_type": "code",
   "execution_count": 7,
   "metadata": {},
   "outputs": [
    {
     "name": "stdout",
     "output_type": "stream",
     "text": [
      "Statistics=0.987, p=0.233\n",
      "Sample looks Gaussian (fail to reject H0)\n"
     ]
    }
   ],
   "source": [
    "stat, p = shapiro(df.temperature)\n",
    "print('Statistics=%.3f, p=%.3f' % (stat, p))\n",
    "# interpret\n",
    "alpha = 0.05\n",
    "if p > alpha:\n",
    "    print('Sample looks Gaussian (fail to reject H0)')\n",
    "else:\n",
    "    print('Sample does not look Gaussian (reject H0)')"
   ]
  },
  {
   "cell_type": "markdown",
   "metadata": {},
   "source": [
    "#### Anderson-Darling Test"
   ]
  },
  {
   "cell_type": "code",
   "execution_count": 8,
   "metadata": {},
   "outputs": [
    {
     "name": "stdout",
     "output_type": "stream",
     "text": [
      "Statistic: 0.520\n",
      "15.000: 0.560, data looks normal (fail to reject H0)\n",
      "10.000: 0.637, data looks normal (fail to reject H0)\n",
      "5.000: 0.765, data looks normal (fail to reject H0)\n",
      "2.500: 0.892, data looks normal (fail to reject H0)\n",
      "1.000: 1.061, data looks normal (fail to reject H0)\n"
     ]
    }
   ],
   "source": [
    "result = anderson(df.temperature)\n",
    "print('Statistic: %.3f' % result.statistic)\n",
    "p = 0\n",
    "for i in range(len(result.critical_values)):\n",
    "    sl, cv = result.significance_level[i], result.critical_values[i]\n",
    "    if result.statistic < result.critical_values[i]:\n",
    "        print('%.3f: %.3f, data looks normal (fail to reject H0)' % (sl, cv))\n",
    "    else:\n",
    "        print('%.3f: %.3f, data does not look normal (reject H0)' % (sl, cv))"
   ]
  },
  {
   "cell_type": "markdown",
   "metadata": {},
   "source": [
    "#### Answer: Yes, the data is normal."
   ]
  },
  {
   "cell_type": "markdown",
   "metadata": {},
   "source": [
    "### 2. Is the sample size large? Are the observations independent? "
   ]
  },
  {
   "cell_type": "code",
   "execution_count": 9,
   "metadata": {},
   "outputs": [
    {
     "name": "stdout",
     "output_type": "stream",
     "text": [
      "Number of samples: 130\n"
     ]
    }
   ],
   "source": [
    "print('Number of samples: %s' % str(len(df)))"
   ]
  },
  {
   "cell_type": "markdown",
   "metadata": {
    "collapsed": true
   },
   "source": [
    "The number of samples is >40. "
   ]
  },
  {
   "cell_type": "markdown",
   "metadata": {},
   "source": [
    "### Is the true population mean really 98.6 degrees F?\n",
    "First, try a bootstrap hypothesis test."
   ]
  },
  {
   "cell_type": "markdown",
   "metadata": {},
   "source": [
    "Define the null hypothesis, alternative hypothesis, and the p-value threshhold. <br>\n",
    "H0: xbar = 98.6 <br>\n",
    "Ha: Xbar != 98.6 <br>\n",
    "p=0.05"
   ]
  },
  {
   "cell_type": "code",
   "execution_count": 10,
   "metadata": {
    "scrolled": true
   },
   "outputs": [
    {
     "data": {
      "text/plain": [
       "0       99.650769\n",
       "1       98.750769\n",
       "2       98.150769\n",
       "3       99.550769\n",
       "4       98.350769\n",
       "5       99.550769\n",
       "6       98.350769\n",
       "7       99.150769\n",
       "8       98.750769\n",
       "9       98.950769\n",
       "10      99.150769\n",
       "11      97.050769\n",
       "12      98.550769\n",
       "13      99.050769\n",
       "14      98.150769\n",
       "15      99.150769\n",
       "16      98.650769\n",
       "17      98.550769\n",
       "18      97.550769\n",
       "19      99.750769\n",
       "20      98.650769\n",
       "21      98.550769\n",
       "22      98.950769\n",
       "23      98.750769\n",
       "24      98.150769\n",
       "25      98.350769\n",
       "26      98.150769\n",
       "27      98.550769\n",
       "28      98.750769\n",
       "29      98.450769\n",
       "          ...    \n",
       "100     99.350769\n",
       "101     98.850769\n",
       "102     98.350769\n",
       "103     99.750769\n",
       "104     97.950769\n",
       "105     97.050769\n",
       "106     97.350769\n",
       "107     98.950769\n",
       "108     99.050769\n",
       "109     97.650769\n",
       "110     99.150769\n",
       "111     98.350769\n",
       "112     98.550769\n",
       "113     99.450769\n",
       "114     99.350769\n",
       "115     98.350769\n",
       "116    101.150769\n",
       "117     98.150769\n",
       "118     99.050769\n",
       "119     98.750769\n",
       "120     98.050769\n",
       "121     98.250769\n",
       "122     99.350769\n",
       "123     97.550769\n",
       "124     97.850769\n",
       "125     96.650769\n",
       "126     98.050769\n",
       "127     98.550769\n",
       "128     98.250769\n",
       "129     99.050769\n",
       "Name: temperature, Length: 130, dtype: float64"
      ]
     },
     "execution_count": 10,
     "metadata": {},
     "output_type": "execute_result"
    }
   ],
   "source": [
    "# shift the actual distribution so that the mean is\n",
    "# actually exactly 98.6.\n",
    "bootstrap = df.temperature - df.temperature.mean() + 98.6\n",
    "bootstrap"
   ]
  },
  {
   "cell_type": "code",
   "execution_count": 11,
   "metadata": {},
   "outputs": [
    {
     "data": {
      "text/plain": [
       "98.59999999999992"
      ]
     },
     "execution_count": 11,
     "metadata": {},
     "output_type": "execute_result"
    }
   ],
   "source": [
    "bootstrap.mean()"
   ]
  },
  {
   "cell_type": "code",
   "execution_count": 12,
   "metadata": {},
   "outputs": [
    {
     "data": {
      "text/plain": [
       "98.24923076923078"
      ]
     },
     "execution_count": 12,
     "metadata": {},
     "output_type": "execute_result"
    }
   ],
   "source": [
    "# we can see how this compares to the sample mean\n",
    "df.temperature.mean()"
   ]
  },
  {
   "cell_type": "code",
   "execution_count": null,
   "metadata": {},
   "outputs": [],
   "source": []
  },
  {
   "cell_type": "code",
   "execution_count": 13,
   "metadata": {},
   "outputs": [
    {
     "data": {
      "application/vnd.plotly.v1+json": {
       "data": [
        {
         "nbinsx": 20,
         "type": "histogram",
         "uid": "532c6e7e-92f9-11e9-a974-e442a6f8adc6",
         "x": [
          99.65076923076921,
          98.75076923076922,
          98.15076923076921,
          99.55076923076922,
          98.35076923076922,
          99.55076923076922,
          98.35076923076922,
          99.15076923076921,
          98.75076923076922,
          98.95076923076921,
          99.15076923076921,
          97.05076923076922,
          98.55076923076922,
          99.05076923076922,
          98.15076923076921,
          99.15076923076921,
          98.65076923076921,
          98.55076923076922,
          97.55076923076922,
          99.75076923076922,
          98.65076923076921,
          98.55076923076922,
          98.95076923076921,
          98.75076923076922,
          98.15076923076921,
          98.35076923076922,
          98.15076923076921,
          98.55076923076922,
          98.75076923076922,
          98.45076923076921,
          98.65076923076921,
          97.95076923076921,
          98.85076923076922,
          98.95076923076921,
          99.65076923076921,
          99.85076923076922,
          99.45076923076921,
          98.65076923076921,
          98.25076923076922,
          96.75076923076922,
          98.75076923076922,
          98.75076923076922,
          97.25076923076922,
          97.55076923076922,
          99.35076923076922,
          98.25076923076922,
          97.75076923076922,
          97.75076923076922,
          98.25076923076922,
          97.45076923076921,
          99.25076923076922,
          98.65076923076921,
          98.85076923076922,
          98.95076923076921,
          98.55076923076922,
          98.95076923076921,
          99.15076923076921,
          98.55076923076922,
          98.55076923076922,
          97.95076923076921,
          99.45076923076921,
          98.75076923076922,
          98.55076923076922,
          98.95076923076921,
          99.05076923076922,
          97.75076923076922,
          97.75076923076922,
          98.95076923076921,
          99.05076923076922,
          99.25076923076922,
          98.45076923076921,
          98.05076923076922,
          98.35076923076922,
          99.15076923076921,
          99.35076923076922,
          99.15076923076921,
          98.35076923076922,
          98.75076923076922,
          97.75076923076922,
          97.95076923076921,
          99.15076923076921,
          98.35076923076922,
          97.85076923076922,
          99.55076923076922,
          98.95076923076921,
          97.45076923076921,
          98.95076923076921,
          98.35076923076922,
          99.05076923076922,
          98.45076923076921,
          98.15076923076921,
          100.35076923076922,
          99.15076923076921,
          97.45076923076921,
          98.15076923076921,
          97.15076923076921,
          100.25076923076922,
          99.05076923076922,
          99.15076923076921,
          98.35076923076922,
          99.35076923076922,
          98.85076923076922,
          98.35076923076922,
          99.75076923076922,
          97.95076923076921,
          97.05076923076922,
          97.35076923076922,
          98.95076923076921,
          99.05076923076922,
          97.65076923076921,
          99.15076923076921,
          98.35076923076922,
          98.55076923076922,
          99.45076923076921,
          99.35076923076922,
          98.35076923076922,
          101.15076923076921,
          98.15076923076921,
          99.05076923076922,
          98.75076923076922,
          98.05076923076922,
          98.25076923076922,
          99.35076923076922,
          97.55076923076922,
          97.85076923076922,
          96.65076923076921,
          98.05076923076922,
          98.55076923076922,
          98.25076923076922,
          99.05076923076922
         ]
        }
       ],
       "layout": {}
      },
      "text/html": [
       "<div id=\"9f622db9-2f81-40f1-ab7f-4761cfe0c90b\" style=\"height: 525px; width: 100%;\" class=\"plotly-graph-div\"></div><script type=\"text/javascript\">require([\"plotly\"], function(Plotly) { window.PLOTLYENV=window.PLOTLYENV || {};window.PLOTLYENV.BASE_URL=\"https://plot.ly\";Plotly.newPlot(\"9f622db9-2f81-40f1-ab7f-4761cfe0c90b\", [{\"nbinsx\": 20, \"x\": [99.65076923076921, 98.75076923076922, 98.15076923076921, 99.55076923076922, 98.35076923076922, 99.55076923076922, 98.35076923076922, 99.15076923076921, 98.75076923076922, 98.95076923076921, 99.15076923076921, 97.05076923076922, 98.55076923076922, 99.05076923076922, 98.15076923076921, 99.15076923076921, 98.65076923076921, 98.55076923076922, 97.55076923076922, 99.75076923076922, 98.65076923076921, 98.55076923076922, 98.95076923076921, 98.75076923076922, 98.15076923076921, 98.35076923076922, 98.15076923076921, 98.55076923076922, 98.75076923076922, 98.45076923076921, 98.65076923076921, 97.95076923076921, 98.85076923076922, 98.95076923076921, 99.65076923076921, 99.85076923076922, 99.45076923076921, 98.65076923076921, 98.25076923076922, 96.75076923076922, 98.75076923076922, 98.75076923076922, 97.25076923076922, 97.55076923076922, 99.35076923076922, 98.25076923076922, 97.75076923076922, 97.75076923076922, 98.25076923076922, 97.45076923076921, 99.25076923076922, 98.65076923076921, 98.85076923076922, 98.95076923076921, 98.55076923076922, 98.95076923076921, 99.15076923076921, 98.55076923076922, 98.55076923076922, 97.95076923076921, 99.45076923076921, 98.75076923076922, 98.55076923076922, 98.95076923076921, 99.05076923076922, 97.75076923076922, 97.75076923076922, 98.95076923076921, 99.05076923076922, 99.25076923076922, 98.45076923076921, 98.05076923076922, 98.35076923076922, 99.15076923076921, 99.35076923076922, 99.15076923076921, 98.35076923076922, 98.75076923076922, 97.75076923076922, 97.95076923076921, 99.15076923076921, 98.35076923076922, 97.85076923076922, 99.55076923076922, 98.95076923076921, 97.45076923076921, 98.95076923076921, 98.35076923076922, 99.05076923076922, 98.45076923076921, 98.15076923076921, 100.35076923076922, 99.15076923076921, 97.45076923076921, 98.15076923076921, 97.15076923076921, 100.25076923076922, 99.05076923076922, 99.15076923076921, 98.35076923076922, 99.35076923076922, 98.85076923076922, 98.35076923076922, 99.75076923076922, 97.95076923076921, 97.05076923076922, 97.35076923076922, 98.95076923076921, 99.05076923076922, 97.65076923076921, 99.15076923076921, 98.35076923076922, 98.55076923076922, 99.45076923076921, 99.35076923076922, 98.35076923076922, 101.15076923076921, 98.15076923076921, 99.05076923076922, 98.75076923076922, 98.05076923076922, 98.25076923076922, 99.35076923076922, 97.55076923076922, 97.85076923076922, 96.65076923076921, 98.05076923076922, 98.55076923076922, 98.25076923076922, 99.05076923076922], \"type\": \"histogram\", \"uid\": \"532f55b4-92f9-11e9-aef2-e442a6f8adc6\"}], {}, {\"showLink\": true, \"linkText\": \"Export to plot.ly\"})});</script>"
      ],
      "text/vnd.plotly.v1+html": [
       "<div id=\"9f622db9-2f81-40f1-ab7f-4761cfe0c90b\" style=\"height: 525px; width: 100%;\" class=\"plotly-graph-div\"></div><script type=\"text/javascript\">require([\"plotly\"], function(Plotly) { window.PLOTLYENV=window.PLOTLYENV || {};window.PLOTLYENV.BASE_URL=\"https://plot.ly\";Plotly.newPlot(\"9f622db9-2f81-40f1-ab7f-4761cfe0c90b\", [{\"nbinsx\": 20, \"x\": [99.65076923076921, 98.75076923076922, 98.15076923076921, 99.55076923076922, 98.35076923076922, 99.55076923076922, 98.35076923076922, 99.15076923076921, 98.75076923076922, 98.95076923076921, 99.15076923076921, 97.05076923076922, 98.55076923076922, 99.05076923076922, 98.15076923076921, 99.15076923076921, 98.65076923076921, 98.55076923076922, 97.55076923076922, 99.75076923076922, 98.65076923076921, 98.55076923076922, 98.95076923076921, 98.75076923076922, 98.15076923076921, 98.35076923076922, 98.15076923076921, 98.55076923076922, 98.75076923076922, 98.45076923076921, 98.65076923076921, 97.95076923076921, 98.85076923076922, 98.95076923076921, 99.65076923076921, 99.85076923076922, 99.45076923076921, 98.65076923076921, 98.25076923076922, 96.75076923076922, 98.75076923076922, 98.75076923076922, 97.25076923076922, 97.55076923076922, 99.35076923076922, 98.25076923076922, 97.75076923076922, 97.75076923076922, 98.25076923076922, 97.45076923076921, 99.25076923076922, 98.65076923076921, 98.85076923076922, 98.95076923076921, 98.55076923076922, 98.95076923076921, 99.15076923076921, 98.55076923076922, 98.55076923076922, 97.95076923076921, 99.45076923076921, 98.75076923076922, 98.55076923076922, 98.95076923076921, 99.05076923076922, 97.75076923076922, 97.75076923076922, 98.95076923076921, 99.05076923076922, 99.25076923076922, 98.45076923076921, 98.05076923076922, 98.35076923076922, 99.15076923076921, 99.35076923076922, 99.15076923076921, 98.35076923076922, 98.75076923076922, 97.75076923076922, 97.95076923076921, 99.15076923076921, 98.35076923076922, 97.85076923076922, 99.55076923076922, 98.95076923076921, 97.45076923076921, 98.95076923076921, 98.35076923076922, 99.05076923076922, 98.45076923076921, 98.15076923076921, 100.35076923076922, 99.15076923076921, 97.45076923076921, 98.15076923076921, 97.15076923076921, 100.25076923076922, 99.05076923076922, 99.15076923076921, 98.35076923076922, 99.35076923076922, 98.85076923076922, 98.35076923076922, 99.75076923076922, 97.95076923076921, 97.05076923076922, 97.35076923076922, 98.95076923076921, 99.05076923076922, 97.65076923076921, 99.15076923076921, 98.35076923076922, 98.55076923076922, 99.45076923076921, 99.35076923076922, 98.35076923076922, 101.15076923076921, 98.15076923076921, 99.05076923076922, 98.75076923076922, 98.05076923076922, 98.25076923076922, 99.35076923076922, 97.55076923076922, 97.85076923076922, 96.65076923076921, 98.05076923076922, 98.55076923076922, 98.25076923076922, 99.05076923076922], \"type\": \"histogram\", \"uid\": \"532f55b4-92f9-11e9-aef2-e442a6f8adc6\"}], {}, {\"showLink\": true, \"linkText\": \"Export to plot.ly\"})});</script>"
      ]
     },
     "metadata": {},
     "output_type": "display_data"
    }
   ],
   "source": [
    "trace0 = go.Histogram(x=bootstrap, nbinsx=20)\n",
    "\n",
    "iplot([trace0], filename='boostrap_hist.html')"
   ]
  },
  {
   "cell_type": "markdown",
   "metadata": {},
   "source": [
    "Now, let's try frequentist statistical testing. Would you use a one-sample or two-sample test? Why?\n",
    "In this situation, is it appropriate to use the 𝑡 or 𝑧 statistic?"
   ]
  },
  {
   "cell_type": "markdown",
   "metadata": {},
   "source": [
    "Now try using the other test. How is the result be different? Why? "
   ]
  },
  {
   "cell_type": "code",
   "execution_count": null,
   "metadata": {},
   "outputs": [],
   "source": []
  }
 ],
 "metadata": {
  "kernelspec": {
   "display_name": "Python 3",
   "language": "python",
   "name": "python3"
  },
  "language_info": {
   "codemirror_mode": {
    "name": "ipython",
    "version": 3
   },
   "file_extension": ".py",
   "mimetype": "text/x-python",
   "name": "python",
   "nbconvert_exporter": "python",
   "pygments_lexer": "ipython3",
   "version": "3.6.6"
  }
 },
 "nbformat": 4,
 "nbformat_minor": 2
}
